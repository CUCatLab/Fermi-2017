{
 "cells": [
  {
   "cell_type": "markdown",
   "metadata": {},
   "source": [
    "<h1>Trends from Data</h1>"
   ]
  },
  {
   "cell_type": "markdown",
   "metadata": {},
   "source": [
    "<h2>Select Data</h2>"
   ]
  },
  {
   "cell_type": "code",
   "execution_count": 8,
   "metadata": {
    "tags": []
   },
   "outputs": [
    {
     "data": {
      "application/vnd.jupyter.widget-view+json": {
       "model_id": "db982861c9144c018095a30b2711db94",
       "version_major": 2,
       "version_minor": 0
      },
      "text/plain": [
       "Box(children=(Dropdown(description='Parameter File', layout=Layout(width='70%'), options=('CO-O-Ru Hor 2-1 - F…"
      ]
     },
     "metadata": {},
     "output_type": "display_data"
    },
    {
     "data": {
      "application/vnd.jupyter.widget-view+json": {
       "model_id": "f3d823686ac749e5be830cffd1bd03fa",
       "version_major": 2,
       "version_minor": 0
      },
      "text/plain": [
       "Dropdown(description='Data File', layout=Layout(width='50%'), options=('XAS_014_014_D1000_E100.h5', 'XAS_014_0…"
      ]
     },
     "metadata": {},
     "output_type": "display_data"
    }
   ],
   "source": [
    "import numpy as np\n",
    "import scipy\n",
    "from pandas import DataFrame as df\n",
    "import os\n",
    "import ipywidgets as widgets\n",
    "from ipywidgets import Button, Layout\n",
    "import sys\n",
    "import importlib\n",
    "from importlib import reload\n",
    "import yaml\n",
    "import h5py\n",
    "from lmfit import model, Model\n",
    "\n",
    "sys.path.insert(0, '../src/')\n",
    "import AnalysisTools\n",
    "importlib.reload(AnalysisTools)\n",
    "import XrayAnalysis\n",
    "importlib.reload(XrayAnalysis)\n",
    "\n",
    "dt = AnalysisTools.DataTools()\n",
    "\n",
    "ParameterFolder = os.getcwd()[:-8] + '/Parameters'\n",
    "FitsFolder = os.getcwd()[:-8] + '/Fits'\n",
    "\n",
    "\n",
    "##### Plotly settings #####\n",
    "\n",
    "import plotly.graph_objects as go\n",
    "import plotly.express as px\n",
    "import plotly.io as pio\n",
    "pio.renderers.default = 'notebook+plotly_mimetype'\n",
    "pio.templates.default = 'simple_white'\n",
    "pio.templates[pio.templates.default].layout.update(dict(\n",
    "    title_y = 0.95,\n",
    "    title_x = 0.5,\n",
    "    title_xanchor = 'center',\n",
    "    title_yanchor = 'top',\n",
    "    legend_x = 0,\n",
    "    legend_y = 1,\n",
    "    legend_traceorder = \"normal\",\n",
    "    legend_bgcolor='rgba(0,0,0,0)',\n",
    "    margin=go.layout.Margin(\n",
    "        l=0, #left margin\n",
    "        r=0, #right margin\n",
    "        b=0, #bottom margin\n",
    "        t=50, #top margin\n",
    "        )\n",
    "));\n",
    "\n",
    "##### Functions #####\n",
    "\n",
    "def func(t,a,b,t0,sigma):\n",
    "    return a*scipy.special.erf((t-t0)/sigma)+a+b\n",
    "\n",
    "##### Button Functions #####\n",
    "\n",
    "def UpdateFiles_Clicked(b):\n",
    "    with open(ParameterFolder+'/'+ParameterFile.value+'.yaml', 'r') as stream:\n",
    "        par = yaml.safe_load(stream)\n",
    "    DataFile.options = dt.FileList(par['FolderPath'],[par['Runs']])\n",
    "\n",
    "##### Widgets #####\n",
    "\n",
    "ParameterFile = widgets.Dropdown(\n",
    "    options=dt.FileList(ParameterFolder,['.yaml']),\n",
    "    description='Parameter File',\n",
    "    layout=Layout(width='70%'),\n",
    "    style = {'description_width': '150px'},\n",
    "    disabled=False,\n",
    ")\n",
    "\n",
    "UpdateFiles = widgets.Button(description=\"Update\",layout = Layout(width='10%'))\n",
    "UpdateFiles.on_click(UpdateFiles_Clicked)\n",
    "\n",
    "with open(ParameterFolder+'/'+ParameterFile.value+'.yaml', 'r') as stream:\n",
    "    par = yaml.safe_load(stream)\n",
    "\n",
    "DataFile = widgets.Dropdown(\n",
    "    options=dt.FileList(par['FolderPath'],[par['Runs']]),\n",
    "    description='Data File',\n",
    "    layout=Layout(width='50%'),\n",
    "    style = {'description_width': '150px'},\n",
    "    disabled=False,\n",
    ")\n",
    "\n",
    "display(widgets.Box([ParameterFile,UpdateFiles]))\n",
    "display(DataFile)"
   ]
  },
  {
   "cell_type": "markdown",
   "metadata": {},
   "source": [
    "<h2>Trends</h2>"
   ]
  },
  {
   "cell_type": "code",
   "execution_count": 10,
   "metadata": {},
   "outputs": [
    {
     "name": "stdout",
     "output_type": "stream",
     "text": [
      "Scaling background by 1\n",
      "Background Successfully subtracted from data\n"
     ]
    },
    {
     "data": {
      "image/png": "[encoded data removed]",
      "text/plain": [
       "<Figure size 432x288 with 1 Axes>"
      ]
     },
     "metadata": {
      "needs_background": "light"
     },
     "output_type": "display_data"
    },
    {
     "ename": "ValueError",
     "evalue": "NaN values detected in your input data or the output of your objective/model function - fitting algorithms cannot handle this! Please read https://lmfit.github.io/lmfit-py/faq.html#i-get-errors-from-nan-in-my-fit-what-can-i-do for more information.",
     "output_type": "error",
     "traceback": [
      "\u001b[1;31m---------------------------------------------------------------------------\u001b[0m",
      "\u001b[1;31mValueError\u001b[0m                                Traceback (most recent call last)",
      "\u001b[1;32m<ipython-input-10-6a710f678838>\u001b[0m in \u001b[0;36m<module>\u001b[1;34m\u001b[0m\n\u001b[0;32m     49\u001b[0m     \u001b[0my\u001b[0m \u001b[1;33m=\u001b[0m \u001b[0mTrends\u001b[0m\u001b[1;33m[\u001b[0m\u001b[0mcolumn\u001b[0m\u001b[1;33m]\u001b[0m\u001b[1;33m.\u001b[0m\u001b[0mvalues\u001b[0m\u001b[1;33m.\u001b[0m\u001b[0mastype\u001b[0m\u001b[1;33m(\u001b[0m\u001b[1;34m'float64'\u001b[0m\u001b[1;33m)\u001b[0m\u001b[1;33m\u001b[0m\u001b[1;33m\u001b[0m\u001b[0m\n\u001b[0;32m     50\u001b[0m     \u001b[0mt\u001b[0m \u001b[1;33m=\u001b[0m \u001b[0mTrends\u001b[0m\u001b[1;33m.\u001b[0m\u001b[0mindex\u001b[0m\u001b[1;33m.\u001b[0m\u001b[0mvalues\u001b[0m\u001b[1;33m\u001b[0m\u001b[1;33m\u001b[0m\u001b[0m\n\u001b[1;32m---> 51\u001b[1;33m     \u001b[0mFitResults\u001b[0m \u001b[1;33m=\u001b[0m \u001b[0mFitModel\u001b[0m\u001b[1;33m.\u001b[0m\u001b[0mfit\u001b[0m\u001b[1;33m(\u001b[0m\u001b[0my\u001b[0m\u001b[1;33m,\u001b[0m \u001b[0mFitParameters\u001b[0m\u001b[1;33m,\u001b[0m \u001b[0mt\u001b[0m\u001b[1;33m=\u001b[0m\u001b[0mt\u001b[0m\u001b[1;33m)\u001b[0m\u001b[1;33m\u001b[0m\u001b[1;33m\u001b[0m\u001b[0m\n\u001b[0m\u001b[0;32m     52\u001b[0m     \u001b[0mFitsResults\u001b[0m\u001b[1;33m.\u001b[0m\u001b[0mappend\u001b[0m\u001b[1;33m(\u001b[0m\u001b[0mFitResults\u001b[0m\u001b[1;33m)\u001b[0m\u001b[1;33m\u001b[0m\u001b[1;33m\u001b[0m\u001b[0m\n\u001b[0;32m     53\u001b[0m     \u001b[0mfit_y\u001b[0m \u001b[1;33m=\u001b[0m \u001b[0mFitResults\u001b[0m\u001b[1;33m.\u001b[0m\u001b[0meval\u001b[0m\u001b[1;33m(\u001b[0m\u001b[0mt\u001b[0m\u001b[1;33m=\u001b[0m\u001b[0mfit_x\u001b[0m\u001b[1;33m)\u001b[0m\u001b[1;33m\u001b[0m\u001b[1;33m\u001b[0m\u001b[0m\n",
      "\u001b[1;32m~\\Anaconda3\\lib\\site-packages\\lmfit\\model.py\u001b[0m in \u001b[0;36mfit\u001b[1;34m(self, data, params, weights, method, iter_cb, scale_covar, verbose, fit_kws, nan_policy, calc_covar, max_nfev, **kwargs)\u001b[0m\n\u001b[0;32m   1011\u001b[0m                              \u001b[0mnan_policy\u001b[0m\u001b[1;33m=\u001b[0m\u001b[0mself\u001b[0m\u001b[1;33m.\u001b[0m\u001b[0mnan_policy\u001b[0m\u001b[1;33m,\u001b[0m \u001b[0mcalc_covar\u001b[0m\u001b[1;33m=\u001b[0m\u001b[0mcalc_covar\u001b[0m\u001b[1;33m,\u001b[0m\u001b[1;33m\u001b[0m\u001b[1;33m\u001b[0m\u001b[0m\n\u001b[0;32m   1012\u001b[0m                              max_nfev=max_nfev, **fit_kws)\n\u001b[1;32m-> 1013\u001b[1;33m         \u001b[0moutput\u001b[0m\u001b[1;33m.\u001b[0m\u001b[0mfit\u001b[0m\u001b[1;33m(\u001b[0m\u001b[0mdata\u001b[0m\u001b[1;33m=\u001b[0m\u001b[0mdata\u001b[0m\u001b[1;33m,\u001b[0m \u001b[0mweights\u001b[0m\u001b[1;33m=\u001b[0m\u001b[0mweights\u001b[0m\u001b[1;33m)\u001b[0m\u001b[1;33m\u001b[0m\u001b[1;33m\u001b[0m\u001b[0m\n\u001b[0m\u001b[0;32m   1014\u001b[0m         \u001b[0moutput\u001b[0m\u001b[1;33m.\u001b[0m\u001b[0mcomponents\u001b[0m \u001b[1;33m=\u001b[0m \u001b[0mself\u001b[0m\u001b[1;33m.\u001b[0m\u001b[0mcomponents\u001b[0m\u001b[1;33m\u001b[0m\u001b[1;33m\u001b[0m\u001b[0m\n\u001b[0;32m   1015\u001b[0m         \u001b[1;32mreturn\u001b[0m \u001b[0moutput\u001b[0m\u001b[1;33m\u001b[0m\u001b[1;33m\u001b[0m\u001b[0m\n",
      "\u001b[1;32m~\\Anaconda3\\lib\\site-packages\\lmfit\\model.py\u001b[0m in \u001b[0;36mfit\u001b[1;34m(self, data, params, weights, method, nan_policy, **kwargs)\u001b[0m\n\u001b[0;32m   1364\u001b[0m         \u001b[0mself\u001b[0m\u001b[1;33m.\u001b[0m\u001b[0muserkws\u001b[0m\u001b[1;33m.\u001b[0m\u001b[0mupdate\u001b[0m\u001b[1;33m(\u001b[0m\u001b[0mkwargs\u001b[0m\u001b[1;33m)\u001b[0m\u001b[1;33m\u001b[0m\u001b[1;33m\u001b[0m\u001b[0m\n\u001b[0;32m   1365\u001b[0m         \u001b[0mself\u001b[0m\u001b[1;33m.\u001b[0m\u001b[0minit_fit\u001b[0m \u001b[1;33m=\u001b[0m \u001b[0mself\u001b[0m\u001b[1;33m.\u001b[0m\u001b[0mmodel\u001b[0m\u001b[1;33m.\u001b[0m\u001b[0meval\u001b[0m\u001b[1;33m(\u001b[0m\u001b[0mparams\u001b[0m\u001b[1;33m=\u001b[0m\u001b[0mself\u001b[0m\u001b[1;33m.\u001b[0m\u001b[0mparams\u001b[0m\u001b[1;33m,\u001b[0m \u001b[1;33m**\u001b[0m\u001b[0mself\u001b[0m\u001b[1;33m.\u001b[0m\u001b[0muserkws\u001b[0m\u001b[1;33m)\u001b[0m\u001b[1;33m\u001b[0m\u001b[1;33m\u001b[0m\u001b[0m\n\u001b[1;32m-> 1366\u001b[1;33m         \u001b[0m_ret\u001b[0m \u001b[1;33m=\u001b[0m \u001b[0mself\u001b[0m\u001b[1;33m.\u001b[0m\u001b[0mminimize\u001b[0m\u001b[1;33m(\u001b[0m\u001b[0mmethod\u001b[0m\u001b[1;33m=\u001b[0m\u001b[0mself\u001b[0m\u001b[1;33m.\u001b[0m\u001b[0mmethod\u001b[0m\u001b[1;33m)\u001b[0m\u001b[1;33m\u001b[0m\u001b[1;33m\u001b[0m\u001b[0m\n\u001b[0m\u001b[0;32m   1367\u001b[0m \u001b[1;33m\u001b[0m\u001b[0m\n\u001b[0;32m   1368\u001b[0m         \u001b[1;32mfor\u001b[0m \u001b[0mattr\u001b[0m \u001b[1;32min\u001b[0m \u001b[0mdir\u001b[0m\u001b[1;33m(\u001b[0m\u001b[0m_ret\u001b[0m\u001b[1;33m)\u001b[0m\u001b[1;33m:\u001b[0m\u001b[1;33m\u001b[0m\u001b[1;33m\u001b[0m\u001b[0m\n",
      "\u001b[1;32m~\\Anaconda3\\lib\\site-packages\\lmfit\\minimizer.py\u001b[0m in \u001b[0;36mminimize\u001b[1;34m(self, method, params, **kws)\u001b[0m\n\u001b[0;32m   2283\u001b[0m                         val.lower().startswith(user_method)):\n\u001b[0;32m   2284\u001b[0m                     \u001b[0mkwargs\u001b[0m\u001b[1;33m[\u001b[0m\u001b[1;34m'method'\u001b[0m\u001b[1;33m]\u001b[0m \u001b[1;33m=\u001b[0m \u001b[0mval\u001b[0m\u001b[1;33m\u001b[0m\u001b[1;33m\u001b[0m\u001b[0m\n\u001b[1;32m-> 2285\u001b[1;33m         \u001b[1;32mreturn\u001b[0m \u001b[0mfunction\u001b[0m\u001b[1;33m(\u001b[0m\u001b[1;33m**\u001b[0m\u001b[0mkwargs\u001b[0m\u001b[1;33m)\u001b[0m\u001b[1;33m\u001b[0m\u001b[1;33m\u001b[0m\u001b[0m\n\u001b[0m\u001b[0;32m   2286\u001b[0m \u001b[1;33m\u001b[0m\u001b[0m\n\u001b[0;32m   2287\u001b[0m \u001b[1;33m\u001b[0m\u001b[0m\n",
      "\u001b[1;32m~\\Anaconda3\\lib\\site-packages\\lmfit\\minimizer.py\u001b[0m in \u001b[0;36mleastsq\u001b[1;34m(self, params, max_nfev, **kws)\u001b[0m\n\u001b[0;32m   1644\u001b[0m         \u001b[0mresult\u001b[0m\u001b[1;33m.\u001b[0m\u001b[0mcall_kws\u001b[0m \u001b[1;33m=\u001b[0m \u001b[0mlskws\u001b[0m\u001b[1;33m\u001b[0m\u001b[1;33m\u001b[0m\u001b[0m\n\u001b[0;32m   1645\u001b[0m         \u001b[1;32mtry\u001b[0m\u001b[1;33m:\u001b[0m\u001b[1;33m\u001b[0m\u001b[1;33m\u001b[0m\u001b[0m\n\u001b[1;32m-> 1646\u001b[1;33m             \u001b[0mlsout\u001b[0m \u001b[1;33m=\u001b[0m \u001b[0mscipy_leastsq\u001b[0m\u001b[1;33m(\u001b[0m\u001b[0mself\u001b[0m\u001b[1;33m.\u001b[0m\u001b[0m__residual\u001b[0m\u001b[1;33m,\u001b[0m \u001b[0mvariables\u001b[0m\u001b[1;33m,\u001b[0m \u001b[1;33m**\u001b[0m\u001b[0mlskws\u001b[0m\u001b[1;33m)\u001b[0m\u001b[1;33m\u001b[0m\u001b[1;33m\u001b[0m\u001b[0m\n\u001b[0m\u001b[0;32m   1647\u001b[0m         \u001b[1;32mexcept\u001b[0m \u001b[0mAbortFitException\u001b[0m\u001b[1;33m:\u001b[0m\u001b[1;33m\u001b[0m\u001b[1;33m\u001b[0m\u001b[0m\n\u001b[0;32m   1648\u001b[0m             \u001b[1;32mpass\u001b[0m\u001b[1;33m\u001b[0m\u001b[1;33m\u001b[0m\u001b[0m\n",
      "\u001b[1;32m~\\Anaconda3\\lib\\site-packages\\scipy\\optimize\\minpack.py\u001b[0m in \u001b[0;36mleastsq\u001b[1;34m(func, x0, args, Dfun, full_output, col_deriv, ftol, xtol, gtol, maxfev, epsfcn, factor, diag)\u001b[0m\n\u001b[0;32m    408\u001b[0m     \u001b[1;32mif\u001b[0m \u001b[1;32mnot\u001b[0m \u001b[0misinstance\u001b[0m\u001b[1;33m(\u001b[0m\u001b[0margs\u001b[0m\u001b[1;33m,\u001b[0m \u001b[0mtuple\u001b[0m\u001b[1;33m)\u001b[0m\u001b[1;33m:\u001b[0m\u001b[1;33m\u001b[0m\u001b[1;33m\u001b[0m\u001b[0m\n\u001b[0;32m    409\u001b[0m         \u001b[0margs\u001b[0m \u001b[1;33m=\u001b[0m \u001b[1;33m(\u001b[0m\u001b[0margs\u001b[0m\u001b[1;33m,\u001b[0m\u001b[1;33m)\u001b[0m\u001b[1;33m\u001b[0m\u001b[1;33m\u001b[0m\u001b[0m\n\u001b[1;32m--> 410\u001b[1;33m     \u001b[0mshape\u001b[0m\u001b[1;33m,\u001b[0m \u001b[0mdtype\u001b[0m \u001b[1;33m=\u001b[0m \u001b[0m_check_func\u001b[0m\u001b[1;33m(\u001b[0m\u001b[1;34m'leastsq'\u001b[0m\u001b[1;33m,\u001b[0m \u001b[1;34m'func'\u001b[0m\u001b[1;33m,\u001b[0m \u001b[0mfunc\u001b[0m\u001b[1;33m,\u001b[0m \u001b[0mx0\u001b[0m\u001b[1;33m,\u001b[0m \u001b[0margs\u001b[0m\u001b[1;33m,\u001b[0m \u001b[0mn\u001b[0m\u001b[1;33m)\u001b[0m\u001b[1;33m\u001b[0m\u001b[1;33m\u001b[0m\u001b[0m\n\u001b[0m\u001b[0;32m    411\u001b[0m     \u001b[0mm\u001b[0m \u001b[1;33m=\u001b[0m \u001b[0mshape\u001b[0m\u001b[1;33m[\u001b[0m\u001b[1;36m0\u001b[0m\u001b[1;33m]\u001b[0m\u001b[1;33m\u001b[0m\u001b[1;33m\u001b[0m\u001b[0m\n\u001b[0;32m    412\u001b[0m \u001b[1;33m\u001b[0m\u001b[0m\n",
      "\u001b[1;32m~\\Anaconda3\\lib\\site-packages\\scipy\\optimize\\minpack.py\u001b[0m in \u001b[0;36m_check_func\u001b[1;34m(checker, argname, thefunc, x0, args, numinputs, output_shape)\u001b[0m\n\u001b[0;32m     22\u001b[0m def _check_func(checker, argname, thefunc, x0, args, numinputs,\n\u001b[0;32m     23\u001b[0m                 output_shape=None):\n\u001b[1;32m---> 24\u001b[1;33m     \u001b[0mres\u001b[0m \u001b[1;33m=\u001b[0m \u001b[0matleast_1d\u001b[0m\u001b[1;33m(\u001b[0m\u001b[0mthefunc\u001b[0m\u001b[1;33m(\u001b[0m\u001b[1;33m*\u001b[0m\u001b[1;33m(\u001b[0m\u001b[1;33m(\u001b[0m\u001b[0mx0\u001b[0m\u001b[1;33m[\u001b[0m\u001b[1;33m:\u001b[0m\u001b[0mnuminputs\u001b[0m\u001b[1;33m]\u001b[0m\u001b[1;33m,\u001b[0m\u001b[1;33m)\u001b[0m \u001b[1;33m+\u001b[0m \u001b[0margs\u001b[0m\u001b[1;33m)\u001b[0m\u001b[1;33m)\u001b[0m\u001b[1;33m)\u001b[0m\u001b[1;33m\u001b[0m\u001b[1;33m\u001b[0m\u001b[0m\n\u001b[0m\u001b[0;32m     25\u001b[0m     \u001b[1;32mif\u001b[0m \u001b[1;33m(\u001b[0m\u001b[0moutput_shape\u001b[0m \u001b[1;32mis\u001b[0m \u001b[1;32mnot\u001b[0m \u001b[1;32mNone\u001b[0m\u001b[1;33m)\u001b[0m \u001b[1;32mand\u001b[0m \u001b[1;33m(\u001b[0m\u001b[0mshape\u001b[0m\u001b[1;33m(\u001b[0m\u001b[0mres\u001b[0m\u001b[1;33m)\u001b[0m \u001b[1;33m!=\u001b[0m \u001b[0moutput_shape\u001b[0m\u001b[1;33m)\u001b[0m\u001b[1;33m:\u001b[0m\u001b[1;33m\u001b[0m\u001b[1;33m\u001b[0m\u001b[0m\n\u001b[0;32m     26\u001b[0m         \u001b[1;32mif\u001b[0m \u001b[1;33m(\u001b[0m\u001b[0moutput_shape\u001b[0m\u001b[1;33m[\u001b[0m\u001b[1;36m0\u001b[0m\u001b[1;33m]\u001b[0m \u001b[1;33m!=\u001b[0m \u001b[1;36m1\u001b[0m\u001b[1;33m)\u001b[0m\u001b[1;33m:\u001b[0m\u001b[1;33m\u001b[0m\u001b[1;33m\u001b[0m\u001b[0m\n",
      "\u001b[1;32m~\\Anaconda3\\lib\\site-packages\\lmfit\\minimizer.py\u001b[0m in \u001b[0;36m__residual\u001b[1;34m(self, fvars, apply_bounds_transformation)\u001b[0m\n\u001b[0;32m    588\u001b[0m             \u001b[1;32mraise\u001b[0m \u001b[0mAbortFitException\u001b[0m\u001b[1;33m(\u001b[0m\u001b[1;34m\"fit aborted by user.\"\u001b[0m\u001b[1;33m)\u001b[0m\u001b[1;33m\u001b[0m\u001b[1;33m\u001b[0m\u001b[0m\n\u001b[0;32m    589\u001b[0m         \u001b[1;32melse\u001b[0m\u001b[1;33m:\u001b[0m\u001b[1;33m\u001b[0m\u001b[1;33m\u001b[0m\u001b[0m\n\u001b[1;32m--> 590\u001b[1;33m             return _nan_policy(np.asarray(out).ravel(),\n\u001b[0m\u001b[0;32m    591\u001b[0m                                nan_policy=self.nan_policy)\n\u001b[0;32m    592\u001b[0m \u001b[1;33m\u001b[0m\u001b[0m\n",
      "\u001b[1;32m~\\Anaconda3\\lib\\site-packages\\lmfit\\minimizer.py\u001b[0m in \u001b[0;36m_nan_policy\u001b[1;34m(arr, nan_policy, handle_inf)\u001b[0m\n\u001b[0;32m   2364\u001b[0m                    \u001b[1;34m'handle this! Please read https://lmfit.github.io/lmfit-py/faq.html#i-get-errors-from-nan-in-my-fit-what-can-i-do '\u001b[0m\u001b[1;33m\u001b[0m\u001b[1;33m\u001b[0m\u001b[0m\n\u001b[0;32m   2365\u001b[0m                    'for more information.')\n\u001b[1;32m-> 2366\u001b[1;33m             \u001b[1;32mraise\u001b[0m \u001b[0mValueError\u001b[0m\u001b[1;33m(\u001b[0m\u001b[0mmsg\u001b[0m\u001b[1;33m)\u001b[0m\u001b[1;33m\u001b[0m\u001b[1;33m\u001b[0m\u001b[0m\n\u001b[0m\u001b[0;32m   2367\u001b[0m     \u001b[1;32mreturn\u001b[0m \u001b[0marr\u001b[0m\u001b[1;33m\u001b[0m\u001b[1;33m\u001b[0m\u001b[0m\n\u001b[0;32m   2368\u001b[0m \u001b[1;33m\u001b[0m\u001b[0m\n",
      "\u001b[1;31mValueError\u001b[0m: NaN values detected in your input data or the output of your objective/model function - fitting algorithms cannot handle this! Please read https://lmfit.github.io/lmfit-py/faq.html#i-get-errors-from-nan-in-my-fit-what-can-i-do for more information."
     ]
    }
   ],
   "source": [
    "xray = XrayAnalysis.XrayTools([ParameterFolder,ParameterFile.value],DataFile.value)\n",
    "xray.par['FolderPath'] + DataFile.value\n",
    "\n",
    "Data = xray.Data\n",
    "Data.columns = Data.columns + 100\n",
    "Data.index = np.round(Data.index,2)\n",
    "Data = dt.TrimData(Data,[286.6,289.1])\n",
    "\n",
    "with open(ParameterFolder+'/'+ParameterFile.value+'.yaml', 'r') as stream:\n",
    "    par = yaml.safe_load(stream)\n",
    "\n",
    "DelayRange = par['Trends']['xRange']\n",
    "\n",
    "par = par['Trends']['Data']\n",
    "\n",
    "FitModel = Model(func)\n",
    "FitParameters = FitModel.make_params()\n",
    "\n",
    "Unpumped = Data.T[(Data.columns<-100)].T\n",
    "Unpumped = Unpumped.mean(axis=1).values\n",
    "Trends = Data.T\n",
    "\n",
    "InitialPar = df(columns=['Assignment'])\n",
    "for key in par :\n",
    "    InitialPar.loc[par[key]['center']] = key\n",
    "\n",
    "# Fit trends\n",
    "fit_x = np.linspace(min(DelayRange), max(DelayRange), 1001)\n",
    "fig = go.Figure()\n",
    "\n",
    "FitsResults = list()\n",
    "TrendFits = df(index=fit_x,columns=Trends.columns)\n",
    "TrendParameters = df(index=['a','b','t0','sigma'],columns=Trends.columns)\n",
    "Color = 5*px.colors.qualitative.Dark24\n",
    "\n",
    "FitParameters['sigma'].min = 100\n",
    "FitParameters['sigma'].max = 4000\n",
    "FitParameters['t0'].min = 0\n",
    "FitParameters['t0'].max = 4000\n",
    "FitParameters['b'].min = 0\n",
    "\n",
    "for idx,column in enumerate(Trends.columns) :\n",
    "    index = InitialPar.index.get_loc(column,method='nearest')\n",
    "    Assignment = InitialPar['Assignment'].values[index]\n",
    "    FitParameters['a'].value = par[Assignment]['a']\n",
    "    FitParameters['b'].value = par[Assignment]['b']\n",
    "    FitParameters['t0'].value = par[Assignment]['t0']\n",
    "    FitParameters['sigma'].value = par[Assignment]['sigma']\n",
    "    y = Trends[column].values.astype('float64')\n",
    "    t = Trends.index.values\n",
    "    FitResults = FitModel.fit(y, FitParameters, t=t)\n",
    "    FitsResults.append(FitResults)\n",
    "    fit_y = FitResults.eval(t=fit_x)\n",
    "    TrendFits[column] = fit_y\n",
    "    TrendParameters[column] = np.array((FitResults.params['a'].value,FitResults.params['b'].value,FitResults.params['t0'].value,FitResults.params['sigma'].value))\n",
    "    fig.add_trace(go.Scatter(x=fit_x,y=fit_y,mode='lines',showlegend = False,line_color=Color[idx]))\n",
    "    fig.add_trace(go.Scatter(x=Trends.index,y=Trends[column],mode='markers',name=column,line_color=Color[idx]))\n",
    "\n",
    "fig.update_layout(xaxis_title='Delay (fs)',yaxis_title='Change (%)',font_size=16,legend_title='',width=800,height=500)\n",
    "fig.show()\n",
    "\n",
    "TrendParameters = TrendParameters.T\n",
    "display(TrendParameters)\n",
    "\n",
    "# Plot sigma\n",
    "Data2Plot = TrendParameters['sigma']\n",
    "fig = px.scatter(Data2Plot)\n",
    "fig.update_layout(xaxis_title='Energy (eV)',yaxis_title='Time (fs)',font_size=16,legend_title='',width=800,height=500)\n",
    "fig.show()\n",
    "\n",
    "# Plot t0\n",
    "Data2Plot = TrendParameters['t0']\n",
    "fig = px.scatter(Data2Plot)\n",
    "fig.update_layout(xaxis_title='Energy (eV)',yaxis_title='Time (fs)',font_size=16,legend_title='',width=800,height=500)\n",
    "fig.show()\n",
    "\n",
    "# Plot data\n",
    "fig = px.line(Data)\n",
    "fig.show()\n",
    "\n",
    "def DataSave2File_Clicked(b) :\n",
    "    File = FitsFolder + '/' + ParameterFile.value + ' - ' + str.replace(DataFile.value,'.h5','') + ' - Trends.hdf'\n",
    "    Trends.to_hdf(File,'Trends',mode='a')\n",
    "    TrendFits.to_hdf(File,'TrendFits',mode='a')\n",
    "    TrendParameters.to_hdf(File,'TrendParameters',mode='a')\n",
    "    Data.to_hdf(File,'Data',mode='a')\n",
    "    \n",
    "DataSave2File = widgets.Button(description=\"Save to File\")\n",
    "DataSave2File.on_click(DataSave2File_Clicked)\n",
    "\n",
    "display(DataSave2File)"
   ]
  },
  {
   "cell_type": "markdown",
   "metadata": {},
   "source": [
    "<h2>Info</h2>\n",
    "\n",
    "This script analyzes data from Fermi.\n",
    "\n",
    "Uses:\n",
    "- lmfit\n",
    "- plotly\n",
    "\n",
    "-----------------------\n",
    "Created by Jerry LaRue, larue@chapman.edu, 9/2018\n",
    "\n",
    "Last modified by Jerry LaRue, larue@chapman.edu, 01/2021"
   ]
  },
  {
   "cell_type": "code",
   "execution_count": null,
   "metadata": {},
   "outputs": [],
   "source": []
  }
 ],
 "metadata": {
  "kernelspec": {
   "display_name": "Python 3",
   "language": "python",
   "name": "python3"
  },
  "language_info": {
   "codemirror_mode": {
    "name": "ipython",
    "version": 3
   },
   "file_extension": ".py",
   "mimetype": "text/x-python",
   "name": "python",
   "nbconvert_exporter": "python",
   "pygments_lexer": "ipython3",
   "version": "3.8.8"
  }
 },
 "nbformat": 4,
 "nbformat_minor": 4
}
