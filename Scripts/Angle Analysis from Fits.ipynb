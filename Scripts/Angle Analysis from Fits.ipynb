{
 "cells": [
  {
   "cell_type": "markdown",
   "metadata": {},
   "source": [
    "<h1>Angle Analysis from Fits</h1>"
   ]
  },
  {
   "cell_type": "code",
   "execution_count": 14,
   "metadata": {
    "jupyter": {
     "source_hidden": true
    },
    "tags": []
   },
   "outputs": [
    {
     "data": {
      "application/vnd.jupyter.widget-view+json": {
       "model_id": "d4a8331be0e24d4782103da9beb6057d",
       "version_major": 2,
       "version_minor": 0
      },
      "text/plain": [
       "Box(children=(Dropdown(description='Horizontal', layout=Layout(width='50%'), options=('CO-O-Ru Hor 2-1 - Exp -…"
      ]
     },
     "metadata": {},
     "output_type": "display_data"
    },
    {
     "data": {
      "application/vnd.jupyter.widget-view+json": {
       "model_id": "d3ee7eb3ca1248e0a01560e4573cc5f4",
       "version_major": 2,
       "version_minor": 0
      },
      "text/plain": [
       "Dropdown(description='Vertical', layout=Layout(width='50%'), options=('CO-O-Ru Ver 2-1 - Exp - XAS_000_000_D50…"
      ]
     },
     "metadata": {},
     "output_type": "display_data"
    },
    {
     "data": {
      "application/vnd.jupyter.widget-view+json": {
       "model_id": "5fdc099107b3448eb35de85c96859f9c",
       "version_major": 2,
       "version_minor": 0
      },
      "text/plain": [
       "Button(description='Calculate', layout=Layout(width='10%'), style=ButtonStyle())"
      ]
     },
     "metadata": {},
     "output_type": "display_data"
    },
    {
     "data": {
      "application/vnd.jupyter.widget-view+json": {
       "model_id": "5a584702d3324b60b72bd27807f2cc3d",
       "version_major": 2,
       "version_minor": 0
      },
      "text/plain": [
       "Output()"
      ]
     },
     "metadata": {},
     "output_type": "display_data"
    }
   ],
   "source": [
    "import os, sys\n",
    "from importlib import reload\n",
    "\n",
    "sys.path.append(os.getcwd() + '/../src/')\n",
    "\n",
    "import XrayTools\n",
    "reload(XrayTools)\n",
    "\n",
    "xray = XrayTools.Angles()\n",
    "xray.UI()"
   ]
  },
  {
   "cell_type": "markdown",
   "metadata": {},
   "source": [
    "<hr>\n",
    "\n",
    "<p>The intensity of the out-of-plane polarization is:</p>\n",
    "\n",
    "$$I_{OP}=1-\\cos^2{\\theta}\\cos^2{\\gamma}-\\sin^2{\\theta}\\sin^2{\\gamma}\\cos^2{\\phi}-2\\sin{\\gamma}\\cos{\\gamma}\\sin{\\theta}\\cos{\\theta}\\cos{\\phi}$$\n",
    "\n",
    "<p>The intensity of the in-plane polarization is:</p>\n",
    "\n",
    "$$I_{IP}=1-\\sin^2{\\gamma}\\sin^2{\\phi}$$\n",
    "\n",
    "<table style='text-align:left'>\n",
    "    <tr style='background-color:transparent'>\n",
    "        <th>$\\theta$</th>\n",
    "        <th>Angle between E(parallel) and surface normal</th>\n",
    "    </tr>\n",
    "    <tr style='background-color:transparent'>\n",
    "        <th>$\\phi$</th>\n",
    "        <th>Azimuthal angle</th>\n",
    "    </tr>\n",
    "    <tr style='background-color:transparent'>\n",
    "        <th>$\\gamma$</th>\n",
    "        <th>Angle between surface normal and normal to $\\pi^*$</th>\n",
    "    </tr>\n",
    "</table>\n",
    "\n",
    "<p>0 degrees indicates that CO is in the vertical position and 90 degrees indicates that it is in the horizontal position.</p>\n",
    "<p style='text-align:center'>CO vertical: $\\gamma=0$</p>\n",
    "<p style='text-align:center'>CO Horizontal: $\\gamma=90$</p>\n",
    "\n",
    "<p>The ratio between horizontal and vertical have the following relationship</p>\n",
    "\n",
    "$$R=\\frac{\\sin^2{\\theta}}{\\frac{1}{2}+\\frac{\\cos^2{\\theta}}{2}}$$"
   ]
  },
  {
   "cell_type": "markdown",
   "metadata": {},
   "source": [
    " "
   ]
  }
 ],
 "metadata": {
  "kernelspec": {
   "display_name": "Python 3",
   "language": "python",
   "name": "python3"
  },
  "language_info": {
   "codemirror_mode": {
    "name": "ipython",
    "version": 3
   },
   "file_extension": ".py",
   "mimetype": "text/x-python",
   "name": "python",
   "nbconvert_exporter": "python",
   "pygments_lexer": "ipython3",
   "version": "3.8.10"
  }
 },
 "nbformat": 4,
 "nbformat_minor": 4
}
