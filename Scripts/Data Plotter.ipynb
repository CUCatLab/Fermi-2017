{
 "cells": [
  {
   "cell_type": "markdown",
   "metadata": {},
   "source": [
    "# Info\n",
    "\n",
    "This script plots data from Fermi.\n",
    "\n",
    "-----------------------\n",
    "Created by Jerry LaRue, larue@chapman.edu, 9/2018\n",
    "\n",
    "Last modified by Jerry LaRue, larue@chapman.edu, 12/2018"
   ]
  },
  {
   "cell_type": "markdown",
   "metadata": {},
   "source": [
    "# Select data"
   ]
  },
  {
   "cell_type": "code",
   "execution_count": 1,
   "metadata": {},
   "outputs": [
    {
     "name": "stderr",
     "output_type": "stream",
     "text": [
      "C:\\Users\\larue\\AppData\\Local\\Continuum\\anaconda3\\lib\\site-packages\\h5py\\__init__.py:36: FutureWarning: Conversion of the second argument of issubdtype from `float` to `np.floating` is deprecated. In future, it will be treated as `np.float64 == np.dtype(float).type`.\n",
      "  from ._conv import register_converters as _register_converters\n"
     ]
    },
    {
     "data": {
      "application/vnd.jupyter.widget-view+json": {
       "model_id": "ebbdefabe64c442a99a5b3e8e1c18930",
       "version_major": 2,
       "version_minor": 0
      },
      "text/html": [
       "<p>Failed to display Jupyter Widget of type <code>Box</code>.</p>\n",
       "<p>\n",
       "  If you're reading this message in the Jupyter Notebook or JupyterLab Notebook, it may mean\n",
       "  that the widgets JavaScript is still loading. If this message persists, it\n",
       "  likely means that the widgets JavaScript library is either not installed or\n",
       "  not enabled. See the <a href=\"https://ipywidgets.readthedocs.io/en/stable/user_install.html\">Jupyter\n",
       "  Widgets Documentation</a> for setup instructions.\n",
       "</p>\n",
       "<p>\n",
       "  If you're reading this message in another frontend (for example, a static\n",
       "  rendering on GitHub or <a href=\"https://nbviewer.jupyter.org/\">NBViewer</a>),\n",
       "  it may mean that your frontend doesn't currently support widgets.\n",
       "</p>\n"
      ],
      "text/plain": [
       "Box(children=(Text(value='../../Binned/BT2/', description='Folder', layout=Layout(width='80%'), placeholder='Type file path', style=DescriptionStyle(description_width='150px')), Button(description='Update', style=ButtonStyle())))"
      ]
     },
     "metadata": {},
     "output_type": "display_data"
    },
    {
     "data": {
      "application/vnd.jupyter.widget-view+json": {
       "model_id": "e167831d4efc4ae192bde7703dac17f4",
       "version_major": 2,
       "version_minor": 0
      },
      "text/html": [
       "<p>Failed to display Jupyter Widget of type <code>Dropdown</code>.</p>\n",
       "<p>\n",
       "  If you're reading this message in the Jupyter Notebook or JupyterLab Notebook, it may mean\n",
       "  that the widgets JavaScript is still loading. If this message persists, it\n",
       "  likely means that the widgets JavaScript library is either not installed or\n",
       "  not enabled. See the <a href=\"https://ipywidgets.readthedocs.io/en/stable/user_install.html\">Jupyter\n",
       "  Widgets Documentation</a> for setup instructions.\n",
       "</p>\n",
       "<p>\n",
       "  If you're reading this message in another frontend (for example, a static\n",
       "  rendering on GitHub or <a href=\"https://nbviewer.jupyter.org/\">NBViewer</a>),\n",
       "  it may mean that your frontend doesn't currently support widgets.\n",
       "</p>\n"
      ],
      "text/plain": [
       "Dropdown(description='File', layout=Layout(width='80%'), options=('XAS_000_000_bin.h5', 'XAS_001_003_bin.h5', 'XAS_005_005_bin.h5', 'XAS_006_006_bin.h5', 'XAS_006_013_bin.h5', 'XAS_009_009_bin.h5', 'XAS_010_010_bin.h5', 'XAS_012_012_bin.h5', 'XAS_012_013_bin.h5', 'XAS_013_013_bin.h5', 'XAS_014_014_bin.h5', 'XAS_014_014_bin_DB.h5', 'XAS_014_020_bin.h5', 'XAS_014_020_bin_fit.h5', 'XAS_017_017_bin.h5', 'XAS_018_018_bin.h5', 'XAS_018_020_bin.h5', 'XAS_019_019_bin.h5', 'XAS_023_023_bin.h5'), style=DescriptionStyle(description_width='150px'), value='XAS_000_000_bin.h5')"
      ]
     },
     "metadata": {},
     "output_type": "display_data"
    }
   ],
   "source": [
    "import numpy as np\n",
    "import h5py\n",
    "import os\n",
    "from os import listdir\n",
    "from os.path import isfile, join\n",
    "import matplotlib.pyplot as plt\n",
    "import ipywidgets as widgets\n",
    "from ipywidgets import Button, Layout\n",
    "from IPython.display import clear_output\n",
    "\n",
    "##### Definitions #####\n",
    "\n",
    "def FileList() :\n",
    "    return [f for f in listdir(FolderPath.value) if isfile(join(FolderPath.value, f))]\n",
    "\n",
    "def TrimData(x, y, ROI_Min = -np.inf, ROI_Max = np.inf) :\n",
    "    X_Index_Min = (np.abs(x - ROI_Min)).argmin()\n",
    "    X_Index_Max = (np.abs(x - ROI_Max)).argmin()\n",
    "    x = x[X_Index_Min:X_Index_Max]\n",
    "    if len(y.shape) == 1 :\n",
    "        y = y[X_Index_Min:X_Index_Max]\n",
    "    if len(y.shape) == 2 :\n",
    "        y = np.transpose(y)\n",
    "        y = y[X_Index_Min:X_Index_Max]\n",
    "        y = np.transpose(y)\n",
    "    return x, y\n",
    "\n",
    "def PlotData(x, y, Labels = '', AxesTitles = ('',''), ErrorBars = [], FigSize = (9,5)) :\n",
    "    if len(y) == 0 :\n",
    "        print('Please select data')\n",
    "    else :\n",
    "        plt.figure(figsize=FigSize)\n",
    "        plt.rcParams.update({'font.size': 12})\n",
    "        if len(y.shape) == 1 :\n",
    "            if len(ErrorBars) == 0 :\n",
    "                plt.plot(x, y,'-o', ms=3, lw=1,label=Labels)\n",
    "            else :\n",
    "                plt.errorbar(x, y,yerr=ErrorBars, ms=3, lw=1,label=Labels)\n",
    "            if not Labels == '' :\n",
    "                plt.legend(), plt.xlabel(AxesTitles[0]), plt.ylabel(AxesTitles[1])\n",
    "        if len(y.shape) == 2 :\n",
    "            i = 0\n",
    "            while i < len(y) :\n",
    "                if Labels == '' or len(Labels) < len(y) :\n",
    "                    if len(ErrorBars) != len(y) :\n",
    "                        plt.plot(x, y[i],'-o', ms=3, lw=1)\n",
    "                    else :\n",
    "                        plt.errorbar(x, y[i],ErrorBars[i],ms=3, lw=1)\n",
    "                else :\n",
    "                    if len(ErrorBars) != len(y) :\n",
    "                        plt.plot(x, y[i],'-o', ms=3, lw=1,label=Labels[i])\n",
    "                    else :\n",
    "                        plt.errorbar(x, y[i],ErrorBars[i],ms=3, lw=1,label=Labels[i])\n",
    "                i+=1\n",
    "            if not Labels == '' or not len(Labels) < len(y) :\n",
    "                plt.legend(), plt.xlabel(AxesTitles[0]), plt.ylabel(AxesTitles[1])\n",
    "        plt.show()\n",
    "\n",
    "def RemoveEmptyDataSets(x, y) :\n",
    "    remove = np.array([],dtype=int)\n",
    "    i = 0\n",
    "    while i < len(y) :\n",
    "        if np.count_nonzero(np.isnan(y[i])) == len(y[i]) :\n",
    "            remove = np.append(remove, i)\n",
    "        i += 1\n",
    "    y = np.delete(y,remove,axis=0)\n",
    "    return x, y, remove\n",
    "\n",
    "##### Select file #####\n",
    "\n",
    "FolderPath = widgets.Text(\n",
    "    value='../../Binned/BT2/',\n",
    "    placeholder='Type file path',\n",
    "    description='Folder',\n",
    "    layout=Layout(width='80%'),\n",
    "    style = {'description_width': '150px'},\n",
    "    disabled=False\n",
    ")\n",
    "\n",
    "FileName = widgets.Dropdown(\n",
    "    options=FileList(),\n",
    "    description='File',\n",
    "    layout=Layout(width='80%'),\n",
    "    style = {'description_width': '150px'},\n",
    "    disabled=False,\n",
    ")\n",
    "\n",
    "def UpdateFileList(b) :\n",
    "    FolderPath.value = FolderPath.value.replace('\\\\','/')\n",
    "    FileName.options = FileList()\n",
    "\n",
    "button_UpdateFileList = widgets.Button(description=\"Update\")\n",
    "button_UpdateFileList.on_click(UpdateFileList)\n",
    "\n",
    "display(widgets.Box([FolderPath,button_UpdateFileList]))\n",
    "display(FileName)"
   ]
  },
  {
   "cell_type": "markdown",
   "metadata": {},
   "source": [
    "# Load data"
   ]
  },
  {
   "cell_type": "code",
   "execution_count": 2,
   "metadata": {
    "scrolled": false
   },
   "outputs": [
    {
     "data": {
      "image/png": "[encoded data removed]",
      "text/plain": [
       "<matplotlib.figure.Figure at 0x164ad181ef0>"
      ]
     },
     "metadata": {},
     "output_type": "display_data"
    }
   ],
   "source": [
    "%matplotlib inline\n",
    "\n",
    "##### Check file #####\n",
    "\n",
    "if FileName.value == None :\n",
    "    raise HaltException('Please select file')\n",
    "    \n",
    "f = h5py.File(FolderPath.value + '/' + FileName.value, 'r')\n",
    "\n",
    "# Runs\n",
    "if not 'runs' in f :\n",
    "    raise HaltException('Run list missing')\n",
    "\n",
    "# Energy\n",
    "if not 'BinnedData/E_bin_centers' in f :\n",
    "    raise HaltException('Energy values missing')\n",
    "\n",
    "# Delay\n",
    "if not 'BinnedData/delays_fs' in f :\n",
    "    raise HaltException('Delay values missing')\n",
    "\n",
    "# Intensity\n",
    "if not 'BinnedData/XAS_2dmatrix' in f :\n",
    "    raise HaltException('Intensity values missing')\n",
    "\n",
    "# Error bars\n",
    "if not 'BinnedData/XAS_2dmatrix_err' in f :\n",
    "    raise HaltException('Error bar values missing')\n",
    "    \n",
    "##### Load data #####\n",
    "\n",
    "# Runs\n",
    "Runs = f['runs'][...]\n",
    "\n",
    "# Energy\n",
    "Energy = f['BinnedData/E_bin_centers'][...]\n",
    "\n",
    "# Delay\n",
    "Delay = f['BinnedData/delays_fs'][...]\n",
    "\n",
    "# Intensity\n",
    "Intensity = f['/BinnedData/XAS_2dmatrix'][...]\n",
    "\n",
    "# Error Bars\n",
    "ErrorBars = f['/BinnedData/XAS_2dmatrix_err'][...]\n",
    "\n",
    "f.close()\n",
    "\n",
    "##### Plot data #####\n",
    "\n",
    "Energy, Intensity, remove = RemoveEmptyDataSets(Energy, Intensity)\n",
    "Delay = np.delete(Delay,remove)\n",
    "ErrorBars = np.nan_to_num(np.delete(ErrorBars,remove,axis=0))\n",
    "\n",
    "plt.figure(figsize = [4,4])\n",
    "plt.rcParams.update({'font.size': 8})\n",
    "plt.title(FileName.value)\n",
    "if len(Intensity.shape) == 1 :\n",
    "    plt.plot(Energy, Intensity)\n",
    "if len(Intensity.shape) == 2 :\n",
    "    if Intensity.shape[0] == 1 :\n",
    "        plt.plot(Energy, Intensity[0])\n",
    "    else :\n",
    "        plt.pcolor(Energy, Delay/1000, Intensity)\n",
    "plt.xlabel('X-ray Energy (eV)')\n",
    "plt.ylabel('Delay (ps)')\n",
    "plt.show()"
   ]
  },
  {
   "cell_type": "code",
   "execution_count": 4,
   "metadata": {},
   "outputs": [
    {
     "data": {
      "application/vnd.jupyter.widget-view+json": {
       "model_id": "359dca19bbd644a785fd20a9534da26c",
       "version_major": 2,
       "version_minor": 0
      },
      "text/html": [
       "<p>Failed to display Jupyter Widget of type <code>SelectMultiple</code>.</p>\n",
       "<p>\n",
       "  If you're reading this message in the Jupyter Notebook or JupyterLab Notebook, it may mean\n",
       "  that the widgets JavaScript is still loading. If this message persists, it\n",
       "  likely means that the widgets JavaScript library is either not installed or\n",
       "  not enabled. See the <a href=\"https://ipywidgets.readthedocs.io/en/stable/user_install.html\">Jupyter\n",
       "  Widgets Documentation</a> for setup instructions.\n",
       "</p>\n",
       "<p>\n",
       "  If you're reading this message in another frontend (for example, a static\n",
       "  rendering on GitHub or <a href=\"https://nbviewer.jupyter.org/\">NBViewer</a>),\n",
       "  it may mean that your frontend doesn't currently support widgets.\n",
       "</p>\n"
      ],
      "text/plain": [
       "SelectMultiple(description='Select delays', layout=Layout(width='40%'), options=(-750.0, -300.0, -50.0, 150.0, 450.0, 690.0, 890.0, 1125.0, 1375.0, 1625.0, 1875.0, 3500.0, 10000.0), rows=13, style=DescriptionStyle(description_width='150px'), value=())"
      ]
     },
     "metadata": {},
     "output_type": "display_data"
    },
    {
     "data": {
      "application/vnd.jupyter.widget-view+json": {
       "model_id": "7be3ac14e0044cddbb308c88be49c98e",
       "version_major": 2,
       "version_minor": 0
      },
      "text/html": [
       "<p>Failed to display Jupyter Widget of type <code>Box</code>.</p>\n",
       "<p>\n",
       "  If you're reading this message in the Jupyter Notebook or JupyterLab Notebook, it may mean\n",
       "  that the widgets JavaScript is still loading. If this message persists, it\n",
       "  likely means that the widgets JavaScript library is either not installed or\n",
       "  not enabled. See the <a href=\"https://ipywidgets.readthedocs.io/en/stable/user_install.html\">Jupyter\n",
       "  Widgets Documentation</a> for setup instructions.\n",
       "</p>\n",
       "<p>\n",
       "  If you're reading this message in another frontend (for example, a static\n",
       "  rendering on GitHub or <a href=\"https://nbviewer.jupyter.org/\">NBViewer</a>),\n",
       "  it may mean that your frontend doesn't currently support widgets.\n",
       "</p>\n"
      ],
      "text/plain": [
       "Box(children=(Button(description='Update', style=ButtonStyle()), BoundedFloatText(value=287.0, description='ROI Min:', layout=Layout(width='18%'), max=310.0, min=280.0, step=0.1), BoundedFloatText(value=290.0, description='ROI Max:', layout=Layout(width='18%'), max=310.0, min=280.0, step=0.1), Checkbox(value=False, description='Error Bars?', layout=Layout(width='18%'))))"
      ]
     },
     "metadata": {},
     "output_type": "display_data"
    },
    {
     "data": {
      "application/vnd.jupyter.widget-view+json": {
       "model_id": "297c8ca8b9784af58580219adbe5ded8",
       "version_major": 2,
       "version_minor": 0
      },
      "text/html": [
       "<p>Failed to display Jupyter Widget of type <code>Output</code>.</p>\n",
       "<p>\n",
       "  If you're reading this message in the Jupyter Notebook or JupyterLab Notebook, it may mean\n",
       "  that the widgets JavaScript is still loading. If this message persists, it\n",
       "  likely means that the widgets JavaScript library is either not installed or\n",
       "  not enabled. See the <a href=\"https://ipywidgets.readthedocs.io/en/stable/user_install.html\">Jupyter\n",
       "  Widgets Documentation</a> for setup instructions.\n",
       "</p>\n",
       "<p>\n",
       "  If you're reading this message in another frontend (for example, a static\n",
       "  rendering on GitHub or <a href=\"https://nbviewer.jupyter.org/\">NBViewer</a>),\n",
       "  it may mean that your frontend doesn't currently support widgets.\n",
       "</p>\n"
      ],
      "text/plain": [
       "Output()"
      ]
     },
     "metadata": {},
     "output_type": "display_data"
    }
   ],
   "source": [
    "%matplotlib notebook\n",
    "\n",
    "def UpdatePlot_Xas(b) :\n",
    "    with out_xas :\n",
    "        clear_output(True)\n",
    "        x, y = TrimData(Energy, Intensity, ROI_Min.value, ROI_Max.value)\n",
    "        x, error = TrimData(Energy, ErrorBars, ROI_Min.value, ROI_Max.value)\n",
    "        if ShowErrorBars.value :\n",
    "            PlotData(x,y[Select_Delays.index,:],Labels=np.take(Delay,Select_Delays.index),AxesTitles=('Energy (eV)','Intensity(au)'),ErrorBars=error[Select_Delays.index,:])\n",
    "        else :\n",
    "            PlotData(x,y[Select_Delays.index,:],Labels=np.take(Delay,Select_Delays.index),AxesTitles=('Energy (eV)','Intensity(au)'))\n",
    "\n",
    "if len(Delay) < 20 :\n",
    "    NumberRows = len(Intensity)\n",
    "else :\n",
    "    NumberRows = 20\n",
    "\n",
    "Select_Delays = widgets.SelectMultiple(\n",
    "    options=Delay,\n",
    "    style = {'width': '100px','description_width': '150px'},\n",
    "    rows=NumberRows,\n",
    "    layout=Layout(width='40%'),\n",
    "    description='Select delays',\n",
    "    disabled=False\n",
    ")\n",
    "\n",
    "ROI_Min = widgets.BoundedFloatText(\n",
    "    value=287,\n",
    "    min=280,\n",
    "    max=310,\n",
    "    step=0.1,\n",
    "    description='ROI Min:',\n",
    "    layout=Layout(width='18%'),\n",
    "    disabled=False\n",
    ")\n",
    "\n",
    "ROI_Max = widgets.BoundedFloatText(\n",
    "    value=290,\n",
    "    min=280,\n",
    "    max=310,\n",
    "    step=0.1,\n",
    "    description='ROI Max:',\n",
    "    layout=Layout(width='18%'),\n",
    "    disabled=False\n",
    ")\n",
    "\n",
    "ShowErrorBars = widgets.Checkbox(\n",
    "    value=False,\n",
    "    description='Error Bars?',\n",
    "    layout=Layout(width='18%'),\n",
    "    disabled=False\n",
    ")\n",
    "\n",
    "button_UpdatePlot_Xas = widgets.Button(description=\"Update\")\n",
    "button_UpdatePlot_Xas.on_click(UpdatePlot_Xas)\n",
    "\n",
    "display(Select_Delays)\n",
    "display(widgets.Box([button_UpdatePlot_Xas,ROI_Min,ROI_Max,ShowErrorBars]))\n",
    "out_xas = widgets.Output()\n",
    "out_xas"
   ]
  },
  {
   "cell_type": "markdown",
   "metadata": {},
   "source": [
    "# Integrate data"
   ]
  },
  {
   "cell_type": "code",
   "execution_count": 5,
   "metadata": {
    "scrolled": false
   },
   "outputs": [
    {
     "data": {
      "application/vnd.jupyter.widget-view+json": {
       "model_id": "0984eaeda9e849219f1cb0d0a3b7989c",
       "version_major": 2,
       "version_minor": 0
      },
      "text/html": [
       "<p>Failed to display Jupyter Widget of type <code>Box</code>.</p>\n",
       "<p>\n",
       "  If you're reading this message in the Jupyter Notebook or JupyterLab Notebook, it may mean\n",
       "  that the widgets JavaScript is still loading. If this message persists, it\n",
       "  likely means that the widgets JavaScript library is either not installed or\n",
       "  not enabled. See the <a href=\"https://ipywidgets.readthedocs.io/en/stable/user_install.html\">Jupyter\n",
       "  Widgets Documentation</a> for setup instructions.\n",
       "</p>\n",
       "<p>\n",
       "  If you're reading this message in another frontend (for example, a static\n",
       "  rendering on GitHub or <a href=\"https://nbviewer.jupyter.org/\">NBViewer</a>),\n",
       "  it may mean that your frontend doesn't currently support widgets.\n",
       "</p>\n"
      ],
      "text/plain": [
       "Box(children=(Button(description='Plot', style=ButtonStyle()), BoundedFloatText(value=287.0, description='ROI Min:', layout=Layout(width='18%'), max=310.0, min=280.0, step=0.1), BoundedFloatText(value=290.0, description='ROI Max:', layout=Layout(width='18%'), max=310.0, min=280.0, step=0.1)))"
      ]
     },
     "metadata": {},
     "output_type": "display_data"
    },
    {
     "data": {
      "application/vnd.jupyter.widget-view+json": {
       "model_id": "57e2bcad8bd84b4db7cd439e28947338",
       "version_major": 2,
       "version_minor": 0
      },
      "text/html": [
       "<p>Failed to display Jupyter Widget of type <code>Output</code>.</p>\n",
       "<p>\n",
       "  If you're reading this message in the Jupyter Notebook or JupyterLab Notebook, it may mean\n",
       "  that the widgets JavaScript is still loading. If this message persists, it\n",
       "  likely means that the widgets JavaScript library is either not installed or\n",
       "  not enabled. See the <a href=\"https://ipywidgets.readthedocs.io/en/stable/user_install.html\">Jupyter\n",
       "  Widgets Documentation</a> for setup instructions.\n",
       "</p>\n",
       "<p>\n",
       "  If you're reading this message in another frontend (for example, a static\n",
       "  rendering on GitHub or <a href=\"https://nbviewer.jupyter.org/\">NBViewer</a>),\n",
       "  it may mean that your frontend doesn't currently support widgets.\n",
       "</p>\n"
      ],
      "text/plain": [
       "Output()"
      ]
     },
     "metadata": {},
     "output_type": "display_data"
    }
   ],
   "source": [
    "def UpdatePlot_Int(b):\n",
    "    with out_int:\n",
    "        clear_output(True)\n",
    "        x, y = TrimData(Energy, Intensity, Int_Min.value, Int_Max.value)\n",
    "        np.nan_to_num(y,False)\n",
    "        PlotData(Delay,sum(np.transpose(y)),str(Int_Min.value)+' - '+str(Int_Max.value),('Delay (fs)','Intensity(au)'))\n",
    "\n",
    "Int_Min = widgets.BoundedFloatText(\n",
    "    value=287,\n",
    "    min=280,\n",
    "    max=310,\n",
    "    step=0.1,\n",
    "    description='ROI Min:',\n",
    "    layout=Layout(width='18%'),\n",
    "    disabled=False\n",
    ")\n",
    "\n",
    "Int_Max = widgets.BoundedFloatText(\n",
    "    value=290,\n",
    "    min=280,\n",
    "    max=310,\n",
    "    step=0.1,\n",
    "    description='ROI Max:',\n",
    "    layout=Layout(width='18%'),\n",
    "    disabled=False\n",
    ")\n",
    "\n",
    "button_UpdatePlot_Int = widgets.Button(description=\"Plot\")\n",
    "button_UpdatePlot_Int.on_click(UpdatePlot_Int)\n",
    "\n",
    "display(widgets.Box([button_UpdatePlot_Int,Int_Min,Int_Max]))\n",
    "out_int = widgets.Output()\n",
    "out_int"
   ]
  },
  {
   "cell_type": "code",
   "execution_count": null,
   "metadata": {},
   "outputs": [],
   "source": []
  }
 ],
 "metadata": {
  "kernelspec": {
   "display_name": "Python 3",
   "language": "python",
   "name": "python3"
  },
  "language_info": {
   "codemirror_mode": {
    "name": "ipython",
    "version": 3
   },
   "file_extension": ".py",
   "mimetype": "text/x-python",
   "name": "python",
   "nbconvert_exporter": "python",
   "pygments_lexer": "ipython3",
   "version": "3.7.3"
  }
 },
 "nbformat": 4,
 "nbformat_minor": 2
}
