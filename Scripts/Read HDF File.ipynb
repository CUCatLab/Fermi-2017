{
 "cells": [
  {
   "cell_type": "markdown",
   "metadata": {},
   "source": [
    "<h1>Read HDF File</h1>"
   ]
  },
  {
   "cell_type": "markdown",
   "metadata": {},
   "source": [
    "<h2>Select File</h2>"
   ]
  },
  {
   "cell_type": "code",
   "execution_count": 1,
   "metadata": {
    "jupyter": {
     "source_hidden": true
    },
    "tags": []
   },
   "outputs": [
    {
     "data": {
      "application/vnd.jupyter.widget-view+json": {
       "model_id": "50796c74970e49cfbc91962957e0577f",
       "version_major": 2,
       "version_minor": 0
      },
      "text/plain": [
       "Text(value='C:\\\\Users\\\\larue\\\\OneDrive - Chapman University\\\\Research\\\\Projects\\\\X-Ray Femtochemistry\\\\Experim…"
      ]
     },
     "metadata": {},
     "output_type": "display_data"
    },
    {
     "data": {
      "application/vnd.jupyter.widget-view+json": {
       "model_id": "750f1a220bed492b85428b3395ffb4fe",
       "version_major": 2,
       "version_minor": 0
      },
      "text/plain": [
       "Box(children=(Dropdown(description='HDF File', layout=Layout(width='80%'), options=('Angles.hdf', 'CO-O-Ru Hor…"
      ]
     },
     "metadata": {},
     "output_type": "display_data"
    }
   ],
   "source": [
    "import numpy as np\n",
    "import pandas as pd\n",
    "import scipy\n",
    "from pandas import DataFrame as df\n",
    "import ipywidgets as widgets\n",
    "from ipywidgets import Button, Layout\n",
    "import os\n",
    "import sys\n",
    "import importlib\n",
    "\n",
    "sys.path.insert(0, '../src/')\n",
    "import AnalysisTools\n",
    "importlib.reload(AnalysisTools)\n",
    "\n",
    "dt = AnalysisTools.DataTools()\n",
    "\n",
    "HDFFolder = os.getcwd()[:-8] + '/Fits'\n",
    "\n",
    "##### Button Functions #####\n",
    "\n",
    "def UpdateFileList_Clicked(b):\n",
    "    HDFFile.options = dt.FileList(FolderPath.value,['hdf'])\n",
    "\n",
    "##### GUI #####\n",
    "\n",
    "FolderPath = widgets.Text(\n",
    "    value=HDFFolder,\n",
    "    placeholder='Type file path',\n",
    "    description='Folder',\n",
    "    layout=Layout(width='90%'),\n",
    "    style = {'description_width': '100px'},\n",
    "    disabled=False\n",
    ")\n",
    "\n",
    "HDFFile = widgets.Dropdown(\n",
    "    options=dt.FileList(HDFFolder,['hdf']),\n",
    "    description='HDF File',\n",
    "    layout=Layout(width='80%'),\n",
    "    style = {'description_width': '100px'},\n",
    "    disabled=False,\n",
    ")\n",
    "\n",
    "UpdateFileList = widgets.Button(description=\"Update\",layout=Layout(width='10%'))\n",
    "UpdateFileList.on_click(UpdateFileList_Clicked)\n",
    "\n",
    "display(FolderPath)\n",
    "display(widgets.Box([HDFFile,UpdateFileList]))"
   ]
  },
  {
   "cell_type": "code",
   "execution_count": 2,
   "metadata": {},
   "outputs": [
    {
     "name": "stdout",
     "output_type": "stream",
     "text": [
      "<class 'pandas.io.pytables.HDFStore'>\n",
      "File path: C:\\Users\\larue\\OneDrive - Chapman University\\Research\\Projects\\X-Ray Femtochemistry\\Experiments\\Elettra & Fermi 2017\\Data Analysis/Fits/CO-O-Ru Hor 2-1 - Simple - XAS_014_014_D1000_E100 - Pi Star.hdf\n",
      "/Data                        frame        (shape->[37,5]) \n",
      "/ErrorBars                   frame        (shape->[37,5]) \n",
      "/Fits                        frame        (shape->[501,5])\n",
      "/Fits_Assignments            frame        (shape->[1,1])  \n",
      "/Fits_Components             frame        (shape->[1,4])  \n",
      "/Fits_Parameters             frame        (shape->[1,17]) \n"
     ]
    }
   ],
   "source": [
    "Store = pd.HDFStore(HDFFolder + '/' + HDFFile.value)\n",
    "print(Store.info())\n",
    "Data = {}\n",
    "for key in Store.keys() :\n",
    "    Data[str.replace(key,'/','')] = Store.get(key)\n",
    "Store.close()"
   ]
  },
  {
   "cell_type": "code",
   "execution_count": 3,
   "metadata": {},
   "outputs": [
    {
     "data": {
      "text/html": [
       "<div>\n",
       "<style scoped>\n",
       "    .dataframe tbody tr th:only-of-type {\n",
       "        vertical-align: middle;\n",
       "    }\n",
       "\n",
       "    .dataframe tbody tr th {\n",
       "        vertical-align: top;\n",
       "    }\n",
       "\n",
       "    .dataframe thead th {\n",
       "        text-align: right;\n",
       "    }\n",
       "</style>\n",
       "<table border=\"1\" class=\"dataframe\">\n",
       "  <thead>\n",
       "    <tr style=\"text-align: right;\">\n",
       "      <th></th>\n",
       "      <th>Baseline_slope</th>\n",
       "      <th>Baseline_intercept</th>\n",
       "      <th>Unpumped1_amplitude</th>\n",
       "      <th>Unpumped1_center</th>\n",
       "      <th>Unpumped1_sigma</th>\n",
       "      <th>Precursor10_amplitude</th>\n",
       "      <th>Precursor10_center</th>\n",
       "      <th>Precursor10_sigma</th>\n",
       "      <th>Unknown1_amplitude</th>\n",
       "      <th>Unknown1_center</th>\n",
       "      <th>Unknown1_sigma</th>\n",
       "      <th>Unpumped1_fwhm</th>\n",
       "      <th>Unpumped1_height</th>\n",
       "      <th>Precursor10_fwhm</th>\n",
       "      <th>Precursor10_height</th>\n",
       "      <th>Unknown1_fwhm</th>\n",
       "      <th>Unknown1_height</th>\n",
       "    </tr>\n",
       "  </thead>\n",
       "  <tbody>\n",
       "    <tr>\n",
       "      <th>-500.0</th>\n",
       "      <td>-0.001481</td>\n",
       "      <td>0.426194</td>\n",
       "      <td>0.04488</td>\n",
       "      <td>288.021568</td>\n",
       "      <td>0.4</td>\n",
       "      <td>0</td>\n",
       "      <td>287.42</td>\n",
       "      <td>0.11</td>\n",
       "      <td>0</td>\n",
       "      <td>287.7</td>\n",
       "      <td>0.11</td>\n",
       "      <td>0.941928</td>\n",
       "      <td>0.044761</td>\n",
       "      <td>0.25903</td>\n",
       "      <td>0.0</td>\n",
       "      <td>0.25903</td>\n",
       "      <td>0.0</td>\n",
       "    </tr>\n",
       "    <tr>\n",
       "      <th>500.0</th>\n",
       "      <td>-0.00148</td>\n",
       "      <td>0.426194</td>\n",
       "      <td>0.039953</td>\n",
       "      <td>287.68377</td>\n",
       "      <td>0.4</td>\n",
       "      <td>0.009209</td>\n",
       "      <td>287.443249</td>\n",
       "      <td>0.107955</td>\n",
       "      <td>0.002676</td>\n",
       "      <td>287.7</td>\n",
       "      <td>0.1</td>\n",
       "      <td>0.941928</td>\n",
       "      <td>0.039847</td>\n",
       "      <td>0.254215</td>\n",
       "      <td>0.03403</td>\n",
       "      <td>0.235482</td>\n",
       "      <td>0.010676</td>\n",
       "    </tr>\n",
       "    <tr>\n",
       "      <th>1500.0</th>\n",
       "      <td>-0.001485</td>\n",
       "      <td>0.426194</td>\n",
       "      <td>0.043396</td>\n",
       "      <td>287.6</td>\n",
       "      <td>0.4</td>\n",
       "      <td>0.018806</td>\n",
       "      <td>287.453822</td>\n",
       "      <td>0.114136</td>\n",
       "      <td>0.007136</td>\n",
       "      <td>287.7</td>\n",
       "      <td>0.114789</td>\n",
       "      <td>0.941928</td>\n",
       "      <td>0.043282</td>\n",
       "      <td>0.26877</td>\n",
       "      <td>0.065732</td>\n",
       "      <td>0.270307</td>\n",
       "      <td>0.0248</td>\n",
       "    </tr>\n",
       "    <tr>\n",
       "      <th>4500.0</th>\n",
       "      <td>-0.001485</td>\n",
       "      <td>0.426194</td>\n",
       "      <td>0.048</td>\n",
       "      <td>287.6</td>\n",
       "      <td>0.4</td>\n",
       "      <td>0.031177</td>\n",
       "      <td>287.451739</td>\n",
       "      <td>0.14</td>\n",
       "      <td>0.016285</td>\n",
       "      <td>287.7</td>\n",
       "      <td>0.135027</td>\n",
       "      <td>0.941928</td>\n",
       "      <td>0.047873</td>\n",
       "      <td>0.329675</td>\n",
       "      <td>0.088842</td>\n",
       "      <td>0.317965</td>\n",
       "      <td>0.048114</td>\n",
       "    </tr>\n",
       "    <tr>\n",
       "      <th>9500.0</th>\n",
       "      <td>-0.00148</td>\n",
       "      <td>0.426194</td>\n",
       "      <td>0.048</td>\n",
       "      <td>287.6</td>\n",
       "      <td>0.4</td>\n",
       "      <td>0.040934</td>\n",
       "      <td>287.457062</td>\n",
       "      <td>0.120669</td>\n",
       "      <td>0.022648</td>\n",
       "      <td>287.7</td>\n",
       "      <td>0.14</td>\n",
       "      <td>0.941928</td>\n",
       "      <td>0.047873</td>\n",
       "      <td>0.284153</td>\n",
       "      <td>0.13533</td>\n",
       "      <td>0.329675</td>\n",
       "      <td>0.064538</td>\n",
       "    </tr>\n",
       "  </tbody>\n",
       "</table>\n",
       "</div>"
      ],
      "text/plain": [
       "        Baseline_slope Baseline_intercept Unpumped1_amplitude  \\\n",
       "-500.0       -0.001481           0.426194             0.04488   \n",
       " 500.0        -0.00148           0.426194            0.039953   \n",
       " 1500.0      -0.001485           0.426194            0.043396   \n",
       " 4500.0      -0.001485           0.426194               0.048   \n",
       " 9500.0       -0.00148           0.426194               0.048   \n",
       "\n",
       "        Unpumped1_center Unpumped1_sigma Precursor10_amplitude  \\\n",
       "-500.0        288.021568             0.4                     0   \n",
       " 500.0         287.68377             0.4              0.009209   \n",
       " 1500.0            287.6             0.4              0.018806   \n",
       " 4500.0            287.6             0.4              0.031177   \n",
       " 9500.0            287.6             0.4              0.040934   \n",
       "\n",
       "        Precursor10_center Precursor10_sigma Unknown1_amplitude  \\\n",
       "-500.0              287.42              0.11                  0   \n",
       " 500.0          287.443249          0.107955           0.002676   \n",
       " 1500.0         287.453822          0.114136           0.007136   \n",
       " 4500.0         287.451739              0.14           0.016285   \n",
       " 9500.0         287.457062          0.120669           0.022648   \n",
       "\n",
       "        Unknown1_center Unknown1_sigma Unpumped1_fwhm Unpumped1_height  \\\n",
       "-500.0            287.7           0.11       0.941928         0.044761   \n",
       " 500.0            287.7            0.1       0.941928         0.039847   \n",
       " 1500.0           287.7       0.114789       0.941928         0.043282   \n",
       " 4500.0           287.7       0.135027       0.941928         0.047873   \n",
       " 9500.0           287.7           0.14       0.941928         0.047873   \n",
       "\n",
       "        Precursor10_fwhm Precursor10_height Unknown1_fwhm Unknown1_height  \n",
       "-500.0           0.25903                0.0       0.25903             0.0  \n",
       " 500.0          0.254215            0.03403      0.235482        0.010676  \n",
       " 1500.0          0.26877           0.065732      0.270307          0.0248  \n",
       " 4500.0         0.329675           0.088842      0.317965        0.048114  \n",
       " 9500.0         0.284153            0.13533      0.329675        0.064538  "
      ]
     },
     "execution_count": 3,
     "metadata": {},
     "output_type": "execute_result"
    }
   ],
   "source": [
    "Data['Fits_Parameters']"
   ]
  },
  {
   "cell_type": "markdown",
   "metadata": {},
   "source": [
    "<h2>Info</h2>\n",
    "\n",
    "This script reads HDF files.\n",
    "\n",
    "-----------------------\n",
    "Created by Jerry LaRue, larue@chapman.edu, 01/2021\n",
    "\n",
    "Last modified by Jerry LaRue, larue@chapman.edu, 01/2021"
   ]
  },
  {
   "cell_type": "code",
   "execution_count": null,
   "metadata": {},
   "outputs": [],
   "source": []
  }
 ],
 "metadata": {
  "kernelspec": {
   "display_name": "Python 3",
   "language": "python",
   "name": "python3"
  },
  "language_info": {
   "codemirror_mode": {
    "name": "ipython",
    "version": 3
   },
   "file_extension": ".py",
   "mimetype": "text/x-python",
   "name": "python",
   "nbconvert_exporter": "python",
   "pygments_lexer": "ipython3",
   "version": "3.8.8"
  }
 },
 "nbformat": 4,
 "nbformat_minor": 4
}
