{
 "cells": [
  {
   "cell_type": "code",
   "execution_count": null,
   "metadata": {},
   "outputs": [],
   "source": [
    "from src.XraySpectraFitter import *\n",
    "\n",
    "File_Parameters = 'Parameters_sxrm2016'\n",
    "#Folder_Data = 'C://Users//jlaru//OneDrive//Science//Research//Data//2015//01 LCLS - LF48//'\n",
    "#Folder_Data = 'C://Users//jlaru//OneDrive//Science//Research//Data//2013//11 LCLS - LA85//'\n",
    "Folder_Data = 'C://Users//jlaru//Downloads//LCLSBeamtime//'\n",
    "Folder_Analysis = Folder_Data\n",
    "Parameters = __import__(File_Parameters, globals(), locals(), [], -1)\n",
    "par = Parameters\n",
    "\n",
    "# Analysis file name\n",
    "#FileName = 'R024_075_E250_D1000.h5'\n",
    "# If using sorter, automatic filename is used\n",
    "#RunGroup = 0\n",
    "#par.RunGroup(RunGroup)\n",
    "#Runs = par.Runs\n",
    "Runs = [30] # CO oxidation\n",
    "#Runs = [92,93,98] # CO desorption\n",
    "\n",
    "fit = SpectraFitter()\n",
    "fit.Go(File_Parameters, (Folder_Analysis, FileName), (Folder_Analysis, FileName))\n",
    "Success = fit.Success"
   ]
  }
 ],
 "metadata": {
  "kernelspec": {
   "display_name": "Python 3",
   "language": "python",
   "name": "python3"
  },
  "language_info": {
   "codemirror_mode": {
    "name": "ipython",
    "version": 3
   },
   "file_extension": ".py",
   "mimetype": "text/x-python",
   "name": "python",
   "nbconvert_exporter": "python",
   "pygments_lexer": "ipython3",
   "version": "3.6.4"
  }
 },
 "nbformat": 4,
 "nbformat_minor": 2
}
