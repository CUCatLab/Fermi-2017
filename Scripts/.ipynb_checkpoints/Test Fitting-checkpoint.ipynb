{
 "cells": [
  {
   "cell_type": "code",
   "execution_count": 2,
   "metadata": {
    "scrolled": true
   },
   "outputs": [
    {
     "name": "stderr",
     "output_type": "stream",
     "text": [
      "C:\\Users\\larue\\AppData\\Local\\Continuum\\anaconda3\\lib\\site-packages\\h5py\\__init__.py:36: FutureWarning: Conversion of the second argument of issubdtype from `float` to `np.floating` is deprecated. In future, it will be treated as `np.float64 == np.dtype(float).type`.\n",
      "  from ._conv import register_converters as _register_converters\n"
     ]
    },
    {
     "name": "stdout",
     "output_type": "stream",
     "text": [
      "----------------------------------------\n",
      "Fitting spectra from: \n",
      "C:/Users/larue/OneDrive - Chapman University/Research/X-Ray Femtochemistry/Fermi 2017/Binned/BT2/XAS_014_020_bin.h5\n",
      "[nan nan nan nan nan nan]\n",
      "[nan nan nan nan nan nan]\n"
     ]
    },
    {
     "name": "stderr",
     "output_type": "stream",
     "text": [
      "C:\\Users\\larue\\AppData\\Local\\Continuum\\anaconda3\\lib\\site-packages\\numpy\\core\\_methods.py:26: RuntimeWarning: invalid value encountered in reduce\n",
      "  return umr_maximum(a, axis, None, out, keepdims)\n",
      "../src\\mpfit.py:1162: RuntimeWarning: invalid value encountered in greater\n",
      "  diag = numpy.choose(diag>wa2, (wa2, diag))\n",
      "../src\\mpfit.py:2084: RuntimeWarning: invalid value encountered in less\n",
      "  wh = (numpy.nonzero(numpy.abs(numpy.diagonal(r)) < rthresh))[0]\n",
      "C:\\Users\\larue\\AppData\\Local\\Continuum\\anaconda3\\lib\\site-packages\\numpy\\core\\_methods.py:29: RuntimeWarning: invalid value encountered in reduce\n",
      "  return umr_minimum(a, axis, None, out, keepdims)\n",
      "../src\\mpfit.py:1194: RuntimeWarning: invalid value encountered in greater\n",
      "  dwa1 = numpy.abs(wa1) > machep\n",
      "../src\\mpfit.py:1195: RuntimeWarning: invalid value encountered in less\n",
      "  whl = (numpy.nonzero(((dwa1!=0.) & qllim) & ((x + wa1) < llim)))[0]\n",
      "../src\\mpfit.py:1200: RuntimeWarning: invalid value encountered in greater\n",
      "  whu = (numpy.nonzero(((dwa1!=0.) & qulim) & ((x + wa1) > ulim)))[0]\n",
      "../src\\mpfit.py:1228: RuntimeWarning: invalid value encountered in greater_equal\n",
      "  wh = (numpy.nonzero((qulim!=0) & (wa2 >= ulim1)))[0]\n",
      "../src\\mpfit.py:1231: RuntimeWarning: invalid value encountered in less_equal\n",
      "  wh = (numpy.nonzero((qllim!=0.) & (wa2 <= llim1)))[0]\n"
     ]
    },
    {
     "data": {
      "text/plain": [
       "<matplotlib.figure.Figure at 0x25729cba240>"
      ]
     },
     "metadata": {},
     "output_type": "display_data"
    },
    {
     "name": "stdout",
     "output_type": "stream",
     "text": [
      "********************\n",
      "Delay = -807.2251 fs\n",
      "Signal Intensity = 0.4\n",
      "[nan nan nan nan nan nan]\n",
      "[nan nan nan nan nan nan]\n"
     ]
    },
    {
     "data": {
      "text/plain": [
       "<matplotlib.figure.Figure at 0x2572b0e1f60>"
      ]
     },
     "metadata": {},
     "output_type": "display_data"
    },
    {
     "name": "stdout",
     "output_type": "stream",
     "text": [
      "********************\n",
      "Delay = -560.3877 fs\n",
      "Signal Intensity = 0.4\n",
      "[nan nan nan nan nan nan]\n",
      "[nan nan nan nan nan nan]\n"
     ]
    },
    {
     "data": {
      "text/plain": [
       "<matplotlib.figure.Figure at 0x2572b371908>"
      ]
     },
     "metadata": {},
     "output_type": "display_data"
    },
    {
     "name": "stdout",
     "output_type": "stream",
     "text": [
      "********************\n",
      "Delay = -306.87897 fs\n",
      "Signal Intensity = 0.4\n"
     ]
    },
    {
     "data": {
      "text/plain": [
       "<matplotlib.figure.Figure at 0x2572b3b4208>"
      ]
     },
     "metadata": {},
     "output_type": "display_data"
    },
    {
     "name": "stdout",
     "output_type": "stream",
     "text": [
      "********************\n",
      "Delay = -60.04154 fs\n",
      "Signal Intensity = 0.4\n",
      "[nan nan nan nan nan nan]\n",
      "[nan nan nan nan nan nan]\n"
     ]
    },
    {
     "data": {
      "text/plain": [
       "<matplotlib.figure.Figure at 0x2572b3efba8>"
      ]
     },
     "metadata": {},
     "output_type": "display_data"
    },
    {
     "name": "stdout",
     "output_type": "stream",
     "text": [
      "********************\n",
      "Delay = 186.7959 fs\n",
      "Signal Intensity = 0.4\n"
     ]
    },
    {
     "data": {
      "text/plain": [
       "<matplotlib.figure.Figure at 0x2572b430748>"
      ]
     },
     "metadata": {},
     "output_type": "display_data"
    },
    {
     "name": "stdout",
     "output_type": "stream",
     "text": [
      "********************\n",
      "Delay = 440.3046 fs\n",
      "Signal Intensity = 0.4\n",
      "[nan nan nan nan nan nan]\n",
      "[nan nan nan nan nan nan]\n"
     ]
    },
    {
     "data": {
      "text/plain": [
       "<matplotlib.figure.Figure at 0x2572b470278>"
      ]
     },
     "metadata": {},
     "output_type": "display_data"
    },
    {
     "name": "stdout",
     "output_type": "stream",
     "text": [
      "********************\n",
      "Delay = 687.142 fs\n",
      "Signal Intensity = 0.4\n"
     ]
    },
    {
     "data": {
      "text/plain": [
       "<matplotlib.figure.Figure at 0x2572b4c27b8>"
      ]
     },
     "metadata": {},
     "output_type": "display_data"
    },
    {
     "name": "stdout",
     "output_type": "stream",
     "text": [
      "********************\n",
      "Delay = 940.65076 fs\n",
      "Signal Intensity = 0.4\n"
     ]
    },
    {
     "data": {
      "text/plain": [
       "<matplotlib.figure.Figure at 0x2572b4ba550>"
      ]
     },
     "metadata": {},
     "output_type": "display_data"
    },
    {
     "name": "stdout",
     "output_type": "stream",
     "text": [
      "********************\n",
      "Delay = 1187.4882 fs\n",
      "Signal Intensity = 0.4\n",
      "[nan nan nan nan nan nan]\n",
      "[nan nan nan nan nan nan]\n"
     ]
    },
    {
     "data": {
      "text/plain": [
       "<matplotlib.figure.Figure at 0x2572b4b2a90>"
      ]
     },
     "metadata": {},
     "output_type": "display_data"
    },
    {
     "name": "stdout",
     "output_type": "stream",
     "text": [
      "********************\n",
      "Delay = 1440.997 fs\n",
      "Signal Intensity = 0.4\n"
     ]
    },
    {
     "data": {
      "text/plain": [
       "<matplotlib.figure.Figure at 0x2572b0f05c0>"
      ]
     },
     "metadata": {},
     "output_type": "display_data"
    },
    {
     "name": "stdout",
     "output_type": "stream",
     "text": [
      "********************\n",
      "Delay = 1687.8344 fs\n",
      "Signal Intensity = 0.4\n",
      "[nan nan nan nan nan nan]\n",
      "[nan nan nan nan nan nan]\n"
     ]
    },
    {
     "data": {
      "text/plain": [
       "<matplotlib.figure.Figure at 0x2572b48bd30>"
      ]
     },
     "metadata": {},
     "output_type": "display_data"
    },
    {
     "name": "stdout",
     "output_type": "stream",
     "text": [
      "********************\n",
      "Delay = 1941.343 fs\n",
      "Signal Intensity = 0.4\n",
      "[nan nan nan nan nan nan]\n",
      "[nan nan nan nan nan nan]\n"
     ]
    },
    {
     "data": {
      "text/plain": [
       "<matplotlib.figure.Figure at 0x2572b493b70>"
      ]
     },
     "metadata": {},
     "output_type": "display_data"
    },
    {
     "name": "stdout",
     "output_type": "stream",
     "text": [
      "********************\n",
      "Delay = 4943.42 fs\n",
      "Signal Intensity = 0.4\n",
      "[nan nan nan nan nan nan]\n",
      "[nan nan nan nan nan nan]\n"
     ]
    },
    {
     "data": {
      "text/plain": [
       "<matplotlib.figure.Figure at 0x2572b3e1080>"
      ]
     },
     "metadata": {},
     "output_type": "display_data"
    },
    {
     "name": "stdout",
     "output_type": "stream",
     "text": [
      "********************\n",
      "Delay = 9940.21 fs\n",
      "Signal Intensity = 0.4\n",
      "[nan nan nan nan nan nan]\n",
      "[nan nan nan nan nan nan]\n"
     ]
    },
    {
     "data": {
      "text/plain": [
       "<matplotlib.figure.Figure at 0x2572b3d3ba8>"
      ]
     },
     "metadata": {},
     "output_type": "display_data"
    },
    {
     "name": "stdout",
     "output_type": "stream",
     "text": [
      "********************\n",
      "Delay = 19947.133 fs\n",
      "Signal Intensity = 0.4\n",
      "[nan nan nan nan nan nan]\n",
      "[nan nan nan nan nan nan]\n"
     ]
    },
    {
     "data": {
      "text/plain": [
       "<matplotlib.figure.Figure at 0x2572b3aa9b0>"
      ]
     },
     "metadata": {},
     "output_type": "display_data"
    },
    {
     "name": "stdout",
     "output_type": "stream",
     "text": [
      "********************\n",
      "Delay = 49947.887 fs\n",
      "Signal Intensity = 0.4\n",
      "********************\n",
      "Saving fits to:\n",
      "C:/Users/larue/OneDrive - Chapman University/Research/X-Ray Femtochemistry/Fermi 2017/Binned/BT2/XAS_014_020_bin_fit.h5\n",
      "Done\n",
      "\n"
     ]
    }
   ],
   "source": [
    "import sys\n",
    "import os.path\n",
    "sys.path.insert(0, '../src/')\n",
    "\n",
    "from DataFitter import *\n",
    "\n",
    "Parameters = {\n",
    "    'Folder_Analysis': 'C:/Users/larue/OneDrive - Chapman University/Research/X-Ray Femtochemistry/Fermi 2017/Binned/BT2/',\n",
    "    'File_Input': 'XAS_014_020_bin.h5',\n",
    "    'File_Output': 'XAS_014_020_bin_fit.h5',\n",
    "    'Fit_Spectra_NumGauss': 2,\n",
    "    'Fit_Spectra_Amplitude1': 0.1,\n",
    "    'Fit_Spectra_Position1': 287,\n",
    "    'Fit_Spectra_Width1': 2,\n",
    "    'Fit_Spectra_Amplitude2': 0.1,\n",
    "    'Fit_Spectra_Position2': 290,\n",
    "    'Fit_Spectra_Width2': 2,\n",
    "    'Fit_Spectra_Amplitude3': 1,\n",
    "    'Fit_Spectra_Position3': 286,\n",
    "    'Fit_Spectra_Width3': 2,\n",
    "    'Fit_Spectra_Amplitude1_Fix': False,\n",
    "    'Fit_Spectra_Position1_Fix': False,\n",
    "    'Fit_Spectra_Width1_Fix': False,\n",
    "    'Fit_Spectra_Amplitude2_Fix': False,\n",
    "    'Fit_Spectra_Position2_Fix': False,\n",
    "    'Fit_Spectra_Width2_Fix': False,\n",
    "    'Fit_Spectra_Amplitude3_Fix': False,\n",
    "    'Fit_Spectra_Position3_Fix': False,\n",
    "    'Fit_Spectra_Width3_Fix': False,\n",
    "    'Fit_Reference_NumGauss': 0,\n",
    "    'Fit_Reference_Amplitude1': 1,\n",
    "    'Fit_Reference_Position1': 286,\n",
    "    'Fit_Reference_Width1': 2,\n",
    "    'Fit_Reference_Amplitude2': 1,\n",
    "    'Fit_Reference_Position2': 286,\n",
    "    'Fit_Reference_Width2': 2,\n",
    "    'Fit_Reference_Amplitude3': 1,\n",
    "    'Fit_Reference_Position3': 286,\n",
    "    'Fit_Reference_Width3': 2,\n",
    "    'Fit_ROI_Min': 285,\n",
    "    'Fit_ROI_Max': 290,\n",
    "    'Fit_X_Delta': 0.1,\n",
    "}\n",
    "\n",
    "\n",
    "fit = SpectraFitter()\n",
    "fit.Go(Parameters)\n"
   ]
  },
  {
   "cell_type": "code",
   "execution_count": null,
   "metadata": {},
   "outputs": [],
   "source": []
  }
 ],
 "metadata": {
  "kernelspec": {
   "display_name": "Python 3",
   "language": "python",
   "name": "python3"
  },
  "language_info": {
   "codemirror_mode": {
    "name": "ipython",
    "version": 3
   },
   "file_extension": ".py",
   "mimetype": "text/x-python",
   "name": "python",
   "nbconvert_exporter": "python",
   "pygments_lexer": "ipython3",
   "version": "3.6.4"
  }
 },
 "nbformat": 4,
 "nbformat_minor": 2
}
