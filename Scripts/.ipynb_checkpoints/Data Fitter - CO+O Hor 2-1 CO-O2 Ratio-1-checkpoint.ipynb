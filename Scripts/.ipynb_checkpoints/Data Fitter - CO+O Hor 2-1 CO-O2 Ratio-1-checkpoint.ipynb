{
 "cells": [
  {
   "cell_type": "markdown",
   "metadata": {},
   "source": [
    "# Info\n",
    "\n",
    "This script fits Fermi data using Gaussian functions. \n",
    "\n",
    "Uses:\n",
    "- lmfit\n",
    "\n",
    "-----------------------\n",
    "Created by Jerry LaRue, larue@chapman.edu, 9/2018\n",
    "\n",
    "Last modified by Jerry LaRue, larue@chapman.edu, 07/2019"
   ]
  },
  {
   "cell_type": "markdown",
   "metadata": {},
   "source": [
    "# Initialize"
   ]
  },
  {
   "cell_type": "code",
   "execution_count": 1,
   "metadata": {},
   "outputs": [
    {
     "data": {
      "application/vnd.jupyter.widget-view+json": {
       "model_id": "11cbfe10977c44babd0cb3c84e755766",
       "version_major": 2,
       "version_minor": 0
      },
      "text/plain": [
       "Box(children=(Text(value='../../Binned/BT2/', description='Folder', layout=Layout(width='80%'), placeholder='T…"
      ]
     },
     "metadata": {},
     "output_type": "display_data"
    },
    {
     "data": {
      "application/vnd.jupyter.widget-view+json": {
       "model_id": "79ad7bb3ad83455b80198420faf2a603",
       "version_major": 2,
       "version_minor": 0
      },
      "text/plain": [
       "Dropdown(description='Data', index=13, layout=Layout(width='80%'), options=('XAS_000_000_bin_1000.h5', 'XAS_00…"
      ]
     },
     "metadata": {},
     "output_type": "display_data"
    },
    {
     "data": {
      "application/vnd.jupyter.widget-view+json": {
       "model_id": "dbb7c4e6fce4441cb90ddb40e3a8a207",
       "version_major": 2,
       "version_minor": 0
      },
      "text/plain": [
       "Box(children=(Dropdown(description='Background', index=26, layout=Layout(width='80%'), options=('XAS_000_000_b…"
      ]
     },
     "metadata": {},
     "output_type": "display_data"
    }
   ],
   "source": [
    "import numpy as np\n",
    "from pandas import DataFrame as df\n",
    "import os\n",
    "from os import listdir\n",
    "from os.path import isfile, join\n",
    "import matplotlib.pyplot as plt\n",
    "import ipywidgets as widgets\n",
    "from ipywidgets import Button, Layout\n",
    "from IPython.display import clear_output\n",
    "import pylab as plb\n",
    "from scipy.optimize import least_squares\n",
    "from scipy.optimize import curve_fit\n",
    "from scipy import asarray as ar,exp\n",
    "import lmfit\n",
    "from lmfit import model\n",
    "from lmfit.models import GaussianModel, LinearModel, VoigtModel, PolynomialModel\n",
    "import sys\n",
    "\n",
    "sys.path.insert(0, '../src/')\n",
    "\n",
    "import analysis_tools\n",
    "\n",
    "##### Definitions #####\n",
    "\n",
    "def FileList() :\n",
    "    return [f for f in listdir(FolderPath.value) if isfile(join(FolderPath.value, f))]\n",
    "\n",
    "def UpdateFileList(b) :\n",
    "    FolderPath.value = FolderPath.value.replace('\\\\','/')\n",
    "    Data_Name.options = FileList()\n",
    "    Background_Name.options = FileList()\n",
    "\n",
    "def ParametersToClipboard_Clicked(b):\n",
    "    ToCopy = analysis_tools.Convert2Dataframe(Fit_Parameters)\n",
    "    ToCopy.to_clipboard()\n",
    "\n",
    "##### Default parameters #####\n",
    "\n",
    "Data_Default = 'XAS_014_014_bin_50.h5'\n",
    "Background_Default = 'XAS_099_099_bin.h5'\n",
    "FolderPath_Default = '../../Binned/BT2/'\n",
    "\n",
    "##### Select file #####\n",
    "\n",
    "FolderPath = widgets.Text(\n",
    "    value=FolderPath_Default,\n",
    "    placeholder='Type file path',\n",
    "    description='Folder',\n",
    "    layout=Layout(width='80%'),\n",
    "    style = {'description_width': '150px'},\n",
    "    disabled=False\n",
    ")\n",
    "\n",
    "Data_Name = widgets.Dropdown(\n",
    "    options=FileList(),\n",
    "    value=Data_Default,\n",
    "    description='Data',\n",
    "    layout=Layout(width='80%'),\n",
    "    style = {'description_width': '150px'},\n",
    "    disabled=False,\n",
    ")\n",
    "\n",
    "Background_Name = widgets.Dropdown(\n",
    "    options=FileList(),\n",
    "    value=Background_Default,\n",
    "    description='Background',\n",
    "    layout=Layout(width='80%'),\n",
    "    style = {'description_width': '150px'},\n",
    "    disabled=False,\n",
    ")\n",
    "\n",
    "BackgroundFit = widgets.Checkbox(\n",
    "    value=False,\n",
    "    description='Use fit?',\n",
    "    layout=Layout(width='10%'),\n",
    "    style = {'description_width': '10px'},\n",
    "    disabled=False\n",
    ")\n",
    "\n",
    "button_UpdateFileList = widgets.Button(description=\"Update\")\n",
    "button_UpdateFileList.on_click(UpdateFileList)\n",
    "\n",
    "display(widgets.Box([FolderPath,button_UpdateFileList]))\n",
    "display(Data_Name)\n",
    "display(widgets.Box([Background_Name,BackgroundFit]))"
   ]
  },
  {
   "cell_type": "markdown",
   "metadata": {},
   "source": [
    "# Load data"
   ]
  },
  {
   "cell_type": "code",
   "execution_count": 2,
   "metadata": {
    "jupyter": {
     "source_hidden": true
    }
   },
   "outputs": [
    {
     "data": {
      "image/png": "[encoded data removed]",
      "text/plain": [
       "<Figure size 360x360 with 1 Axes>"
      ]
     },
     "metadata": {
      "needs_background": "light"
     },
     "output_type": "display_data"
    },
    {
     "data": {
      "image/png": "[encoded data removed]",
      "text/plain": [
       "<Figure size 432x288 with 1 Axes>"
      ]
     },
     "metadata": {
      "needs_background": "light"
     },
     "output_type": "display_data"
    },
    {
     "data": {
      "application/vnd.jupyter.widget-view+json": {
       "model_id": "eb714d64e52d46fd84a17ea6396736db",
       "version_major": 2,
       "version_minor": 0
      },
      "text/plain": [
       "Box(children=(BoundedFloatText(value=286.5, description='ROI Min:', layout=Layout(width='20%'), max=310.0, min…"
      ]
     },
     "metadata": {},
     "output_type": "display_data"
    },
    {
     "data": {
      "application/vnd.jupyter.widget-view+json": {
       "model_id": "6f4cb3dc907a4863a0256812b9f989d9",
       "version_major": 2,
       "version_minor": 0
      },
      "text/plain": [
       "Box(children=(BoundedFloatText(value=7.0, description='Number of Peaks:', layout=Layout(width='20%'), max=10.0…"
      ]
     },
     "metadata": {},
     "output_type": "display_data"
    }
   ],
   "source": [
    "Energy, Signal, Delay, ErrorBars = analysis_tools.ImportData(FolderPath.value,Data_Name.value)\n",
    "\n",
    "##### Plot data #####\n",
    "\n",
    "plt.figure(figsize = [5,5])\n",
    "plt.pcolor(Energy, Delay*1e-3, Signal)\n",
    "plt.xlabel('X-ray Energy (eV)')\n",
    "plt.ylabel('Delay (ps)')\n",
    "plt.title(Data_Name.value)\n",
    "plt.show()\n",
    "\n",
    "if Background_Name.value != 'None' :\n",
    "    \n",
    "    Background_Energy, Background, Background_Delay, Background_ErrorBars = analysis_tools.ImportData(FolderPath.value,Background_Name.value)\n",
    "\n",
    "    # Check data structure\n",
    "\n",
    "    if Background.shape[0] != 1 :\n",
    "        raise HaltException('Background data exceeds allowed dimensions')\n",
    "    \n",
    "    ##### Plot background data #####\n",
    "    \n",
    "    x = Background_Energy\n",
    "    y = Background[0]\n",
    "    err = Background_ErrorBars[0]\n",
    "    plt.plot(x, y,'r.', label='data')\n",
    "    plt.errorbar(x, y, yerr=err, fmt='o')\n",
    "    plt.xlabel('Photon Energy (eV)'), plt.ylabel('Intensity (au)')\n",
    "    plt.title('Background: '+Background_Name.value)\n",
    "    \n",
    "    ##### Fit positive delay data #####\n",
    "    \n",
    "    if BackgroundFit.value == True :\n",
    "        Model = PolynomialModel(4)\n",
    "        Params = Model.make_params(c0=55, c1=-0.4,\n",
    "                                c2=0.001, c3=0.001, c4=0.01,c5=0.01)\n",
    "        Fit = Model.fit(y, Params, x=x)\n",
    "        Comps = Fit.eval_components(Fit.params, x=x)\n",
    "        Background_Fit = Comps['polynomial']\n",
    "        plt.plot(x, Comps['polynomial'], 'k--', label='Baseline')\n",
    "\n",
    "    plt.show()\n",
    "\n",
    "##### Display widgets #####\n",
    "\n",
    "ROI_Min = widgets.BoundedFloatText(\n",
    "    value=286.5,\n",
    "    min=280,\n",
    "    max=310,\n",
    "    step=0.1,\n",
    "    description='ROI Min:',\n",
    "    layout=Layout(width='20%'),\n",
    "    disabled=False\n",
    ")\n",
    "\n",
    "ROI_Max = widgets.BoundedFloatText(\n",
    "    value=291,\n",
    "    min=280,\n",
    "    max=310,\n",
    "    step=0.1,\n",
    "    description='ROI Max:',\n",
    "    layout=Layout(width='20%'),\n",
    "    disabled=False\n",
    ")\n",
    "\n",
    "NumberPeaks = widgets.BoundedFloatText(\n",
    "    value=7,\n",
    "    min=1,\n",
    "    max=10,\n",
    "    step=1,\n",
    "    description='Number of Peaks:',\n",
    "    layout=Layout(width='20%'),\n",
    "    style = {'description_width': '130px'},\n",
    "    disabled=False\n",
    ")\n",
    "\n",
    "NumRefPeaks = widgets.BoundedFloatText(\n",
    "    value=1,\n",
    "    min=0,\n",
    "    max=2,\n",
    "    step=1,\n",
    "    description='Number of Reference Peaks:',\n",
    "    layout=Layout(width='25%'),\n",
    "    style = {'description_width': '170px'},\n",
    "    disabled=False\n",
    ")\n",
    "\n",
    "display(widgets.Box([ROI_Min,ROI_Max]))\n",
    "display(widgets.Box([NumberPeaks,NumRefPeaks]))"
   ]
  },
  {
   "cell_type": "markdown",
   "metadata": {},
   "source": [
    "# Fit data"
   ]
  },
  {
   "cell_type": "code",
   "execution_count": null,
   "metadata": {},
   "outputs": [
    {
     "name": "stdout",
     "output_type": "stream",
     "text": [
      "Background Successfully subtracted from data\n"
     ]
    },
    {
     "data": {
      "image/png": "[encoded data removed]",
      "text/plain": [
       "<Figure size 432x216 with 1 Axes>"
      ]
     },
     "metadata": {
      "needs_background": "light"
     },
     "output_type": "display_data"
    },
    {
     "name": "stdout",
     "output_type": "stream",
     "text": [
      "______________________________________________________________________________________________________________\n"
     ]
    },
    {
     "data": {
      "application/vnd.jupyter.widget-view+json": {
       "model_id": "8191d7c294cd407fa33f56b35f47008b",
       "version_major": 2,
       "version_minor": 0
      },
      "text/plain": [
       "Box(children=(Output(), HTML(value='<p>Baseline |&nbsp; Intercept: 0.5945,&nbsp; Slope: -0.002<p>Peak 1 |&nbsp…"
      ]
     },
     "metadata": {},
     "output_type": "display_data"
    },
    {
     "name": "stdout",
     "output_type": "stream",
     "text": [
      "______________________________________________________________________________________________________________\n"
     ]
    },
    {
     "data": {
      "application/vnd.jupyter.widget-view+json": {
       "model_id": "6b3c948d2166415fa70fa3b004b62b1a",
       "version_major": 2,
       "version_minor": 0
      },
      "text/plain": [
       "Box(children=(Output(), HTML(value='<p>Baseline |&nbsp; Intercept: 0.7218,&nbsp; Slope: -0.0024<p>Peak 1 |&nbs…"
      ]
     },
     "metadata": {},
     "output_type": "display_data"
    },
    {
     "name": "stdout",
     "output_type": "stream",
     "text": [
      "______________________________________________________________________________________________________________\n"
     ]
    },
    {
     "data": {
      "application/vnd.jupyter.widget-view+json": {
       "model_id": "4755183943284fa8b7253c458910167b",
       "version_major": 2,
       "version_minor": 0
      },
      "text/plain": [
       "Box(children=(Output(), HTML(value='<p>Baseline |&nbsp; Intercept: 0.7667,&nbsp; Slope: -0.0026<p>Peak 1 |&nbs…"
      ]
     },
     "metadata": {},
     "output_type": "display_data"
    },
    {
     "name": "stdout",
     "output_type": "stream",
     "text": [
      "______________________________________________________________________________________________________________\n"
     ]
    },
    {
     "data": {
      "application/vnd.jupyter.widget-view+json": {
       "model_id": "ba965b968ddc4a3db42d6bff56c530db",
       "version_major": 2,
       "version_minor": 0
      },
      "text/plain": [
       "Box(children=(Output(), HTML(value='<p>Baseline |&nbsp; Intercept: 0.7611,&nbsp; Slope: -0.0026<p>Peak 1 |&nbs…"
      ]
     },
     "metadata": {},
     "output_type": "display_data"
    },
    {
     "name": "stdout",
     "output_type": "stream",
     "text": [
      "______________________________________________________________________________________________________________\n"
     ]
    },
    {
     "data": {
      "application/vnd.jupyter.widget-view+json": {
       "model_id": "683a87c81f9747df89a7dea71fcadba6",
       "version_major": 2,
       "version_minor": 0
      },
      "text/plain": [
       "Box(children=(Output(), HTML(value='<p>Baseline |&nbsp; Intercept: 0.4825,&nbsp; Slope: -0.0016<p>Peak 1 |&nbs…"
      ]
     },
     "metadata": {},
     "output_type": "display_data"
    },
    {
     "name": "stdout",
     "output_type": "stream",
     "text": [
      "______________________________________________________________________________________________________________\n"
     ]
    },
    {
     "data": {
      "application/vnd.jupyter.widget-view+json": {
       "model_id": "a5e73658fc254b60bcd33f073fba9d37",
       "version_major": 2,
       "version_minor": 0
      },
      "text/plain": [
       "Box(children=(Output(), HTML(value='<p>Baseline |&nbsp; Intercept: 0.6908,&nbsp; Slope: -0.0023<p>Peak 1 |&nbs…"
      ]
     },
     "metadata": {},
     "output_type": "display_data"
    },
    {
     "name": "stdout",
     "output_type": "stream",
     "text": [
      "______________________________________________________________________________________________________________\n"
     ]
    },
    {
     "data": {
      "application/vnd.jupyter.widget-view+json": {
       "model_id": "6acd4a8662674bce98538411df34af5e",
       "version_major": 2,
       "version_minor": 0
      },
      "text/plain": [
       "Box(children=(Output(), HTML(value='<p>Baseline |&nbsp; Intercept: 0.6558,&nbsp; Slope: -0.0022<p>Peak 1 |&nbs…"
      ]
     },
     "metadata": {},
     "output_type": "display_data"
    },
    {
     "name": "stdout",
     "output_type": "stream",
     "text": [
      "______________________________________________________________________________________________________________\n"
     ]
    }
   ],
   "source": [
    "##### Prepare data #####\n",
    "\n",
    "Energy, Signal, Delay, ErrorBars = analysis_tools.ImportData(FolderPath.value,Data_Name.value)\n",
    "Energy, Signal, Delay, ErrorBars = analysis_tools.TrimData(Energy,Signal,Delay,ErrorBars,ROI_Min.value,ROI_Max.value)\n",
    "if Background_Name.value != 'None' :\n",
    "    if BackgroundFit.value == 'Fit' :\n",
    "        Signal = analysis_tools.SubtractBackground(Energy,Signal,Background_Energy,Background_Fit,ROI_Min.value,ROI_Max.value)\n",
    "    else :\n",
    "        Signal = analysis_tools.SubtractBackground(Energy,Signal,Background_Energy,Background,ROI_Min.value,ROI_Max.value)\n",
    "\n",
    "Fit_Parameters = np.zeros((len(Delay),(3+3*int(NumberPeaks.value))))\n",
    "\n",
    "plt.figure(figsize = [6,3])\n",
    "i = 0\n",
    "while i < len(Signal) :\n",
    "    plt.plot(Energy,Signal[i],'-o', ms=3, lw=1,label=(str(round(Delay[i]*1e-3,2))+' ps'))\n",
    "    i+= 1\n",
    "plt.plot((287.3,287.3),(0,max(y)),'k:',label='CO Gas Phase')\n",
    "plt.legend(frameon=False, loc='upper center', bbox_to_anchor=(1.2, 1), ncol=1)\n",
    "plt.show()\n",
    "\n",
    "print('_'*110)\n",
    "\n",
    "##### Fit data #####\n",
    "\n",
    "i = 0\n",
    "while i < len(Delay) :\n",
    "    \n",
    "    ##### Remove NaNs #####\n",
    "    \n",
    "    remove = np.argwhere(np.isnan(Signal[i]))\n",
    "    x = np.delete(Energy,remove)\n",
    "    y = np.delete(Signal[i],remove)\n",
    "    err = np.delete(ErrorBars[i],remove)\n",
    "    \n",
    "    ##### Determine fit function #####\n",
    "    \n",
    "    Model = analysis_tools.FitModel(NumberPeaks.value)\n",
    "    Params = Model.make_params()\n",
    "    \n",
    "    ##### Adjustments #####\n",
    "    \n",
    "    x = x - 0.52\n",
    "    \n",
    "    ##### Define constraints #####\n",
    "    \n",
    "    Params['B_slope'].value = 0\n",
    "    Params['B_slope'].vary = True\n",
    "    Params['B_intercept'].value = 0\n",
    "    Params['B_intercept'].vary = True\n",
    "    Params['G1_amplitude'].value = 0.03\n",
    "    Params['G1_amplitude'].min = 0\n",
    "    Params['G1_center'].value = 287.8\n",
    "    Params['G1_center'].min = 287\n",
    "    Params['G1_center'].vary = True\n",
    "    Params['G1_sigma'].value = 0.3\n",
    "    Params['G1_sigma'].max = 0.4\n",
    "    Params['G1_sigma'].vary = True\n",
    "    if NumberPeaks.value >= 2 :\n",
    "        Params['G2_amplitude'].value = 0.02\n",
    "        Params['G2_amplitude'].vary = True\n",
    "        Params['G2_amplitude'].min = 0\n",
    "        Params['G2_center'].value = 287.3\n",
    "        Params['G2_center'].vary = False\n",
    "        Params['G2_sigma'].value = 0.1\n",
    "        Params['G2_sigma'].vary = False\n",
    "    if NumberPeaks.value >= 3 :\n",
    "#         Params['G3_amplitude'].value = 0.01\n",
    "        Params['G3_amplitude'].set(expr='G2_amplitude*0.502953483')\n",
    "        Params['G3_amplitude'].min = 0\n",
    "        Params['G3_amplitude'].vary = True\n",
    "        Params['G3_center'].set(expr='G2_center+0.256')\n",
    "        Params['G3_center'].vary = False\n",
    "        Params['G3_sigma'].value = 0.1\n",
    "        Params['G3_sigma'].vary = False\n",
    "    if NumberPeaks.value >= 4 : # 287.76 eV peak corresponds to peak in CO/Ru(0001) -> Gas phase CO?\n",
    "#         Params['G4_amplitude'].value = 0.0\n",
    "        Params['G4_amplitude'].set(expr='G2_amplitude*0.127999522')\n",
    "        Params['G4_amplitude'].vary = True\n",
    "        Params['G4_amplitude'].min = 0\n",
    "        Params['G4_center'].set(expr='G2_center+2*0.256')\n",
    "        Params['G4_center'].vary = False\n",
    "        Params['G4_sigma'].value = 0.1\n",
    "        Params['G4_sigma'].vary = False\n",
    "    if NumberPeaks.value >= 5 : # 288 eV peak corresponds to peak in CO/Ru(0001) -> Tilted CO?\n",
    "#         Params['G5_amplitude'].value = 0.01\n",
    "        Params['G5_amplitude'].set(expr='G2_amplitude*0.359400801')\n",
    "        Params['G5_amplitude'].min = 0\n",
    "        Params['G5_center'].set(expr='G2_center-0.256')\n",
    "        Params['G5_center'].vary = False\n",
    "        Params['G5_sigma'].value = 0.1\n",
    "        Params['G5_sigma'].vary = False\n",
    "    if NumberPeaks.value >= 6 :\n",
    "#         Params['G6_amplitude'].value = 0.0\n",
    "        Params['G6_amplitude'].set(expr='G2_amplitude*0.087658654')\n",
    "        Params['G6_amplitude'].min = 0\n",
    "        Params['G6_amplitude'].vary = True\n",
    "        Params['G6_center'].set(expr='G2_center-2*0.256')\n",
    "        Params['G6_center'].vary = False\n",
    "        Params['G6_sigma'].value = 0.1\n",
    "        Params['G6_sigma'].vary = False\n",
    "    if NumberPeaks.value >= 7 :\n",
    "#         Params['G7_amplitude'].value = 0.0\n",
    "        Params['G7_amplitude'].set(expr='G2_amplitude*0.016824833')\n",
    "        Params['G7_amplitude'].min = 0\n",
    "        Params['G7_amplitude'].vary = True\n",
    "        Params['G7_center'].set(expr='G2_center-3*0.256')\n",
    "        Params['G7_center'].vary = False\n",
    "        Params['G7_sigma'].value = 0.1\n",
    "        Params['G7_sigma'].vary = False\n",
    "    if NumberPeaks.value >= 8 :\n",
    "        Params['G8_amplitude'].value = 0.0\n",
    "#         Params['G8_amplitude'].set(expr='G2_amplitude/0.96095513')\n",
    "        Params['G8_amplitude'].min = 0\n",
    "        Params['G8_amplitude'].vary = True\n",
    "        Params['G8_center'].set(expr='G2_center+5*0.256')\n",
    "        Params['G8_center'].vary = False\n",
    "        Params['G8_sigma'].value = 0.1\n",
    "        Params['G8_sigma'].vary = False\n",
    "    \n",
    "    # Reference delay\n",
    "    if NumRefPeaks.value >= 1 :\n",
    "        if i == 0 :\n",
    "            if NumberPeaks.value >= 2 :\n",
    "                Params['G2_amplitude'].value = 0\n",
    "                Params['G2_amplitude'].vary = False\n",
    "            if NumberPeaks.value >= 3 :\n",
    "                Params['G3_amplitude'].value = 0\n",
    "                Params['G3_amplitude'].vary = False\n",
    "            if NumberPeaks.value >= 4 :\n",
    "                Params['G4_amplitude'].value = 0\n",
    "                Params['G4_amplitude'].vary = False\n",
    "            if NumberPeaks.value >= 5 :\n",
    "                Params['G5_amplitude'].value = 0\n",
    "                Params['G5_amplitude'].vary = False\n",
    "            if NumberPeaks.value >= 6 :\n",
    "                Params['G6_amplitude'].value = 0\n",
    "                Params['G6_amplitude'].vary = False\n",
    "        else :\n",
    "            Params['G1_amplitude'].value = Fit_Parameters[0,3]\n",
    "            Params['G1_center'].value = Fit_Parameters[0,4]\n",
    "            Params['G1_center'].vary = False\n",
    "            Params['G1_sigma'].value = Fit_Parameters[0,5]\n",
    "            Params['G1_sigma'].vary = False\n",
    "#     if NumRefPeaks.value >= 2 :\n",
    "#         if i == 0 :\n",
    "#             Params['G2_amplitude'].vary = True\n",
    "#         else :\n",
    "#             Params['G2_amplitude'].set(expr='G1_amplitude * '+str(Fit_Parameters[0,6]/Fit_Parameters[0,3]))\n",
    "#             Params['G2_center'].value = Fit_Parameters[0,7]\n",
    "#             Params['G2_center'].vary = False\n",
    "#             Params['G2_sigma'].value = Fit_Parameters[0,8]\n",
    "#             Params['G2_sigma'].vary = False\n",
    "    \n",
    "    ##### Fit the data #####\n",
    "    \n",
    "    Fit = Model.fit(y, Params, x=x, fit_kws={'maxfev': 10000})\n",
    "#     print(Fit.fit_report())\n",
    "    Fit_Parameters[i], fit_x, fit_y = analysis_tools.Fits(x,y,err,Delay[i],Fit)\n",
    "    if i == 0 :\n",
    "        Fit_Energy = fit_x\n",
    "        Fit_Signal = np.zeros((len(Delay),len(fit_y)))\n",
    "    Fit_Signal[i] = fit_y\n",
    "    i += 1\n",
    "    \n",
    "    print('_'*110)\n",
    "\n",
    "Fit_Parameters = analysis_tools.Convert2Dataframe(Fit_Parameters)\n",
    "analysis_tools.PlotAnalysis('amp',Fit_Parameters)\n",
    "analysis_tools.PlotAnalysis('ω',Fit_Parameters)\n",
    "analysis_tools.PlotAnalysis('σ',Fit_Parameters)\n",
    "analysis_tools.PlotDataAndFits(Energy, Signal, Fit_Energy, Fit_Signal, Delay)\n",
    "\n",
    "ParametersToClipboard = widgets.Button(description=\"Copy parameters\")\n",
    "ParametersToClipboard.on_click(ParametersToClipboard_Clicked)\n",
    "display(ParametersToClipboard)"
   ]
  },
  {
   "cell_type": "code",
   "execution_count": null,
   "metadata": {
    "jupyter": {
     "source_hidden": true
    }
   },
   "outputs": [],
   "source": []
  }
 ],
 "metadata": {
  "kernelspec": {
   "display_name": "Python 3",
   "language": "python",
   "name": "python3"
  },
  "language_info": {
   "codemirror_mode": {
    "name": "ipython",
    "version": 3
   },
   "file_extension": ".py",
   "mimetype": "text/x-python",
   "name": "python",
   "nbconvert_exporter": "python",
   "pygments_lexer": "ipython3",
   "version": "3.7.3"
  }
 },
 "nbformat": 4,
 "nbformat_minor": 4
}
