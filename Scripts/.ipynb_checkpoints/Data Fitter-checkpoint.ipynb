{
 "cells": [
  {
   "cell_type": "markdown",
   "metadata": {},
   "source": [
    "# Info\n",
    "\n",
    "This script fits Fermi data using Gaussian functions. \n",
    "\n",
    "Uses:\n",
    "- lmfit\n",
    "\n",
    "-----------------------\n",
    "Created by Jerry LaRue, larue@chapman.edu, 9/2018\n",
    "\n",
    "Last modified by Jerry LaRue, larue@chapman.edu, 06/2020"
   ]
  },
  {
   "cell_type": "markdown",
   "metadata": {},
   "source": [
    "# Select Data"
   ]
  },
  {
   "cell_type": "code",
   "execution_count": 1,
   "metadata": {
    "jupyter": {
     "source_hidden": true
    }
   },
   "outputs": [
    {
     "data": {
      "application/vnd.jupyter.widget-view+json": {
       "model_id": "1d27ca76e8874d039642b08436275a5b",
       "version_major": 2,
       "version_minor": 0
      },
      "text/plain": [
       "Box(children=(Dropdown(description='Select Run', layout=Layout(width='40%'), options=('Fit 1-2 CO-O Hor Pi.py'…"
      ]
     },
     "metadata": {},
     "output_type": "display_data"
    },
    {
     "data": {
      "application/vnd.jupyter.widget-view+json": {
       "model_id": "bdad44e596f74e7bb11bb70acdd3852c",
       "version_major": 2,
       "version_minor": 0
      },
      "text/plain": [
       "Dropdown(description='Select File', layout=Layout(width='50%'), options=('XAS_018_020_bin_1000.h5', 'XAS_018_0…"
      ]
     },
     "metadata": {},
     "output_type": "display_data"
    },
    {
     "data": {
      "application/vnd.jupyter.widget-view+json": {
       "model_id": "e6e882ea01bf4d7f91281a34eda8dd36",
       "version_major": 2,
       "version_minor": 0
      },
      "text/plain": [
       "Dropdown(description='Select Run', layout=Layout(width='40%'), options=('Pi Star', 'Middle', 'Shape Resonance'…"
      ]
     },
     "metadata": {},
     "output_type": "display_data"
    }
   ],
   "source": [
    "import numpy as np\n",
    "from pandas import DataFrame as df\n",
    "import os\n",
    "import matplotlib.pyplot as plt\n",
    "import ipywidgets as widgets\n",
    "from ipywidgets import Button, Layout\n",
    "from IPython.display import clear_output\n",
    "import sys\n",
    "import string\n",
    "from lmfit import model, Model\n",
    "from lmfit.models import PolynomialModel\n",
    "from importlib import reload\n",
    "\n",
    "sys.path.insert(0, '../src/')\n",
    "import analysis_tools\n",
    "reload(analysis_tools)\n",
    "\n",
    "##### Button Functions #####\n",
    "\n",
    "def UpdateFiles_Clicked(b):\n",
    "    Fit = __import__(SelectRun.value.replace('.py',''))\n",
    "    reload(Fit)\n",
    "    Par = Fit.Parameters(SelectRegion.value)\n",
    "    SelectFile.options = analysis_tools.FileList(Par['FolderPath'],Par['Runs'])\n",
    "\n",
    "##### Widgets #####\n",
    "\n",
    "SelectRun = widgets.Dropdown(\n",
    "    options = analysis_tools.FileList(os.getcwd(),'.py'),\n",
    "    description = 'Select Run',\n",
    "    layout = Layout(width='40%'),\n",
    "    style = {'description_width': '150px'},\n",
    "    disabled = False,\n",
    ")\n",
    "\n",
    "SelectRegion = widgets.Dropdown(\n",
    "    options = ['Pi Star','Middle','Shape Resonance'],\n",
    "    description = 'Select Run',\n",
    "    layout = Layout(width='40%'),\n",
    "    style = {'description_width': '150px'},\n",
    "    disabled = False,\n",
    ")\n",
    "\n",
    "UpdateFiles = widgets.Button(description=\"Update\",layout = Layout(width='10%'))\n",
    "UpdateFiles.on_click(UpdateFiles_Clicked)\n",
    "\n",
    "Fit = __import__(SelectRun.value.replace('.py',''))\n",
    "reload(Fit)\n",
    "Par = Fit.Parameters(SelectRegion.value)\n",
    "\n",
    "SelectFile = widgets.Dropdown(\n",
    "    options=analysis_tools.FileList(Par['FolderPath'],Par['Runs']),\n",
    "    description='Select File',\n",
    "    layout=Layout(width='50%'),\n",
    "    style = {'description_width': '150px'},\n",
    "    disabled=False,\n",
    ")\n",
    "\n",
    "display(widgets.Box([SelectRun,UpdateFiles]))\n",
    "display(SelectFile)\n",
    "display(SelectRegion)"
   ]
  },
  {
   "cell_type": "markdown",
   "metadata": {},
   "source": [
    "# Fit Data"
   ]
  },
  {
   "cell_type": "code",
   "execution_count": 2,
   "metadata": {
    "jupyter": {
     "source_hidden": true
    }
   },
   "outputs": [
    {
     "data": {
      "image/png": "[encoded data removed]",
      "text/plain": [
       "<Figure size 360x360 with 1 Axes>"
      ]
     },
     "metadata": {
      "needs_background": "light"
     },
     "output_type": "display_data"
    },
    {
     "data": {
      "image/png": "[encoded data removed]",
      "text/plain": [
       "<Figure size 432x288 with 1 Axes>"
      ]
     },
     "metadata": {
      "needs_background": "light"
     },
     "output_type": "display_data"
    },
    {
     "data": {
      "application/vnd.jupyter.widget-view+json": {
       "model_id": "48f59987f1f04ca985551d81fb008862",
       "version_major": 2,
       "version_minor": 0
      },
      "text/plain": [
       "Button(description='Fit Data', style=ButtonStyle())"
      ]
     },
     "metadata": {},
     "output_type": "display_data"
    },
    {
     "data": {
      "application/vnd.jupyter.widget-view+json": {
       "model_id": "494b130f9ca44e8c8efee9554c11688e",
       "version_major": 2,
       "version_minor": 0
      },
      "text/plain": [
       "Output()"
      ]
     },
     "metadata": {},
     "output_type": "display_data"
    }
   ],
   "source": [
    "import analysis_tools\n",
    "reload(analysis_tools)\n",
    "\n",
    "global Energy, Signal, FitParameters\n",
    "\n",
    "##### Functions #####\n",
    "\n",
    "def CopyParameters() :\n",
    "    global FitParameters\n",
    "    ToCopy = FitParameters\n",
    "    ToCopy.to_clipboard()\n",
    "\n",
    "def CopyData() :\n",
    "    global Energy, Delay, Signal\n",
    "    ToCopy = Energy\n",
    "    ToCopy = np.zeros((Signal.shape[0]+1,len(Energy)))\n",
    "    ToCopy[0] = Energy\n",
    "    i = 0\n",
    "    while i < Signal.shape[0] :\n",
    "        ToCopy[i+1] = Signal[i]\n",
    "        i += 1\n",
    "    ToCopy = np.transpose(ToCopy)\n",
    "    ToCopy = df(data=ToCopy,columns=np.concatenate((['Energy'],Delay)))\n",
    "    ToCopy.to_clipboard()\n",
    "    print(Signal)\n",
    "\n",
    "##### Button Functions #####\n",
    "\n",
    "def ParametersToClipboard_Clicked(b):\n",
    "    CopyParameters()\n",
    "\n",
    "def DataToClipboard_Clicked(b):\n",
    "    CopyData()\n",
    "    \n",
    "def FitData_Clicked(b):\n",
    "    \n",
    "    global Energy, Delay, Signal, FitParameters\n",
    "    \n",
    "    with out:\n",
    "        \n",
    "        clear_output(True)\n",
    "        print('_'*110)\n",
    "        print(\"\")\n",
    "        \n",
    "        Fit = __import__(SelectRun.value.replace('.py',''))\n",
    "        reload(Fit)\n",
    "        Par = Fit.Parameters(SelectRegion.value)\n",
    "        \n",
    "        ##### Prepare data #####\n",
    "        \n",
    "        NumberPeaks = int(Par['NumPeaks'])\n",
    "        NumRefPeaks = int(Par['NumRefPeaks'])\n",
    "        ROI_Min = Par['ROI'][0]\n",
    "        ROI_Max = Par['ROI'][1]\n",
    "        Normalize = Par['Normalize']\n",
    "        \n",
    "        Energy, Signal, Delay, ErrorBars = analysis_tools.ImportData(Par['FolderPath'],SelectFile.value)\n",
    "        ScalingFactor = Par['ScalingFactor']\n",
    "        if ScalingFactor != 1 :\n",
    "            print('Warning, data is being scaled by '+str(ScalingFactor))\n",
    "        Signal = Signal * ScalingFactor\n",
    "        ErrorBars = ErrorBars * ScalingFactor\n",
    "        Energy = Energy + Par['xOffset']\n",
    "        if Par['BackgroundRun'] != 'None' :\n",
    "            Background_Energy, Background, Background_Delay, Background_ErrorBars = analysis_tools.ImportData(Par['FolderPath'],Par['BackgroundRun'])\n",
    "            Background_Energy = Background_Energy + Par['xOffset']\n",
    "        NormROI_Min, NormROI_Max = Par['NormROI']\n",
    "        if Normalize == True :\n",
    "            Energy, Signal = analysis_tools.Normalize(Energy,Signal,Par['NormROI'][0], Par['NormROI'][1])\n",
    "            if Par['BackgroundRun'] != 'None' :\n",
    "                Background_Energy, Background = analysis_tools.Normalize(Background_Energy,Background,Par['NormROI'][0], Par['NormROI'][1])\n",
    "        Energy, Signal, Delay, ErrorBars = analysis_tools.TrimData(Energy,Signal,Delay,ErrorBars,ROI_Min,ROI_Max)\n",
    "        if Par['BackgroundRun'] != 'None' :\n",
    "            Signal = analysis_tools.SubtractBackground(Energy,Signal,Background_Energy,Background,ROI_Min,ROI_Max)\n",
    "\n",
    "        ##### Plot all data #####\n",
    "\n",
    "        plt.figure(figsize = [12,6])\n",
    "        i = 0\n",
    "        while i < len(Signal) :\n",
    "            plt.plot(Energy,Signal[i],'-o', ms=3, lw=1,label=(str(round(Delay[i]*1e-3,2))+' ps'))\n",
    "            i+= 1\n",
    "#         plt.plot((287.3,287.3),(0,max(y)),'k:',label='CO Gas Phase')\n",
    "        plt.legend(frameon=False, loc='upper center', bbox_to_anchor=(1.2, 1), ncol=1)\n",
    "        plt.show()\n",
    "        \n",
    "        if NumberPeaks != 0 or NumRefPeaks != 0 :\n",
    "\n",
    "            print('_'*110)\n",
    "\n",
    "            Fits, FitParameters, Fit_Energy, Fit_Signal = Fit.FitData(Energy,Delay,Signal,ErrorBars,SelectRegion.value,NumberPeaks,NumRefPeaks)\n",
    "\n",
    "            analysis_tools.PlotAnalysis('amp',FitParameters,Fits.ParameterNames)\n",
    "            analysis_tools.PlotAnalysis('ω',FitParameters,Fits.ParameterNames)\n",
    "            analysis_tools.PlotAnalysis('σ',FitParameters,Fits.ParameterNames)\n",
    "            analysis_tools.PlotDataAndFits(Energy, Signal, Fit_Energy, Fit_Signal, Delay)\n",
    "\n",
    "            ParametersToClipboard = widgets.Button(description=\"Copy parameters\")\n",
    "            ParametersToClipboard.on_click(ParametersToClipboard_Clicked)\n",
    "        \n",
    "            DataToClipboard = widgets.Button(description=\"Copy data\")\n",
    "            DataToClipboard.on_click(DataToClipboard_Clicked)\n",
    "            display(widgets.Box([DataToClipboard,ParametersToClipboard]))\n",
    "        \n",
    "        else :\n",
    "            \n",
    "            DataToClipboard = widgets.Button(description=\"Copy data\")\n",
    "            DataToClipboard.on_click(DataToClipboard_Clicked)\n",
    "            display(DataToClipboard)\n",
    "\n",
    "##### Parameters #####\n",
    "\n",
    "Fit = __import__(SelectRun.value.replace('.py',''))\n",
    "reload(Fit)\n",
    "Par = Fit.Parameters(SelectRegion.value)\n",
    "\n",
    "Energy, Signal, Delay, ErrorBars = analysis_tools.ImportData(Par['FolderPath'],SelectFile.value)\n",
    "Energy = Energy + Par['xOffset']\n",
    "\n",
    "##### Plot Data #####\n",
    "\n",
    "plt.figure(figsize = [5,5])\n",
    "plt.pcolor(Energy, Delay*1e-3, Signal)\n",
    "plt.xlabel('X-ray Energy (eV)')\n",
    "plt.ylabel('Delay (ps)')\n",
    "plt.title(SelectFile.value)\n",
    "plt.show()\n",
    "\n",
    "if Par['BackgroundRun'] != 'None' :\n",
    "    \n",
    "    Background_Energy, Background, Background_Delay, Background_ErrorBars = analysis_tools.ImportData(Par['FolderPath'],Par['BackgroundRun'])\n",
    "    Background_Energy = Background_Energy + Par['xOffset']\n",
    "\n",
    "    # Check data structure\n",
    "    \n",
    "    if Background.shape[0] != 1 :\n",
    "        raise HaltException('Background data exceeds allowed dimensions')\n",
    "    \n",
    "    ##### Plot data #####\n",
    "    \n",
    "    # Background data\n",
    "    x = Background_Energy\n",
    "    y = Background[0]\n",
    "    err = Background_ErrorBars[0]\n",
    "    plt.plot(x, y,'r.', label='data')\n",
    "    plt.errorbar(x, y, yerr=err, fmt='o')\n",
    "    plt.xlabel('Photon Energy (eV)'), plt.ylabel('Intensity (au)')\n",
    "    plt.title('Background: '+Par['BackgroundRun'])\n",
    "    plt.show()\n",
    "\n",
    "##### Fit data #####\n",
    "\n",
    "FitData = widgets.Button(description=\"Fit Data\")\n",
    "FitData.on_click(FitData_Clicked)\n",
    "display(FitData)\n",
    "\n",
    "out = widgets.Output()\n",
    "out"
   ]
  },
  {
   "cell_type": "code",
   "execution_count": null,
   "metadata": {
    "jupyter": {
     "source_hidden": true
    }
   },
   "outputs": [],
   "source": []
  }
 ],
 "metadata": {
  "kernelspec": {
   "display_name": "Python 3",
   "language": "python",
   "name": "python3"
  },
  "language_info": {
   "codemirror_mode": {
    "name": "ipython",
    "version": 3
   },
   "file_extension": ".py",
   "mimetype": "text/x-python",
   "name": "python",
   "nbconvert_exporter": "python",
   "pygments_lexer": "ipython3",
   "version": "3.7.4"
  }
 },
 "nbformat": 4,
 "nbformat_minor": 4
}
