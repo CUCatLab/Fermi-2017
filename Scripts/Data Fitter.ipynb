{
 "cells": [
  {
   "cell_type": "markdown",
   "metadata": {},
   "source": [
    "<h1>Data Fitter</h1>"
   ]
  },
  {
   "cell_type": "markdown",
   "metadata": {},
   "source": [
    "<h2>Select Data</h2>"
   ]
  },
  {
   "cell_type": "code",
   "execution_count": 1,
   "metadata": {
    "jupyter": {
     "source_hidden": true
    }
   },
   "outputs": [
    {
     "data": {
      "application/vnd.jupyter.widget-view+json": {
       "model_id": "fe90e85365b741a2a29f7ca55cbee930",
       "version_major": 2,
       "version_minor": 0
      },
      "text/plain": [
       "Box(children=(Dropdown(description='Select Run', layout=Layout(width='50%'), options=('CO-O-Ru Hor 1-2 - Simpl…"
      ]
     },
     "metadata": {},
     "output_type": "display_data"
    },
    {
     "data": {
      "application/vnd.jupyter.widget-view+json": {
       "model_id": "314d082f5996452e994dac5eed844ac4",
       "version_major": 2,
       "version_minor": 0
      },
      "text/plain": [
       "Dropdown(description='Select File', layout=Layout(width='50%'), options=('XAS_018_020_D1000_E100.h5', 'XAS_018…"
      ]
     },
     "metadata": {},
     "output_type": "display_data"
    },
    {
     "data": {
      "application/vnd.jupyter.widget-view+json": {
       "model_id": "9c01ef832e8b4f36a138fd856e229c96",
       "version_major": 2,
       "version_minor": 0
      },
      "text/plain": [
       "Dropdown(description='Select Run', layout=Layout(width='40%'), options=('Pi Star', 'Middle', 'Shape Resonance'…"
      ]
     },
     "metadata": {},
     "output_type": "display_data"
    }
   ],
   "source": [
    "import numpy as np\n",
    "import scipy\n",
    "from pandas import DataFrame as df\n",
    "import os\n",
    "import matplotlib.pyplot as plt\n",
    "import plotly.graph_objects as go\n",
    "import plotly.express as px\n",
    "import ipywidgets as widgets\n",
    "from ipywidgets import Button, Layout\n",
    "from IPython.display import clear_output\n",
    "import sys\n",
    "import string\n",
    "from lmfit import model, Model\n",
    "from lmfit.models import PolynomialModel\n",
    "import importlib\n",
    "\n",
    "sys.path.insert(0, '../src/')\n",
    "import AnalysisTools\n",
    "importlib.reload(AnalysisTools)\n",
    "\n",
    "data = AnalysisTools.DataTools()\n",
    "\n",
    "##### Button Functions #####\n",
    "\n",
    "def UpdateFiles_Clicked(b):\n",
    "    Run = importlib.import_module(SelectRun.value.replace('.py',''), package=None)\n",
    "    importlib.reload(Run)\n",
    "    run = Run.Run()\n",
    "    Par = run.Parameters(SelectRegion.value)\n",
    "    SelectFile.options = data.FileList(Par['FolderPath'],Par['Runs'])\n",
    "\n",
    "##### Widgets #####\n",
    "\n",
    "SelectRun = widgets.Dropdown(\n",
    "    options = data.FileList(os.getcwd(),'.py'),\n",
    "    description = 'Select Run',\n",
    "    layout = Layout(width='50%'),\n",
    "    style = {'description_width': '150px'},\n",
    "    disabled = False,\n",
    ")\n",
    "\n",
    "SelectRegion = widgets.Dropdown(\n",
    "    options = ['Pi Star','Middle','Shape Resonance'],\n",
    "    description = 'Select Run',\n",
    "    layout = Layout(width='40%'),\n",
    "    style = {'description_width': '150px'},\n",
    "    disabled = False,\n",
    ")\n",
    "\n",
    "UpdateFiles = widgets.Button(description=\"Update\",layout = Layout(width='10%'))\n",
    "UpdateFiles.on_click(UpdateFiles_Clicked)\n",
    "\n",
    "Run = importlib.import_module(SelectRun.value.replace('.py',''), package=None)\n",
    "importlib.reload(Run)\n",
    "run = Run.Run()\n",
    "Par = run.Parameters(SelectRegion.value)\n",
    "\n",
    "SelectFile = widgets.Dropdown(\n",
    "    options=data.FileList(Par['FolderPath'],Par['Runs']),\n",
    "    description='Select File',\n",
    "    layout=Layout(width='50%'),\n",
    "    style = {'description_width': '150px'},\n",
    "    disabled=False,\n",
    ")\n",
    "\n",
    "display(widgets.Box([SelectRun,UpdateFiles]))\n",
    "display(SelectFile)\n",
    "display(SelectRegion)"
   ]
  },
  {
   "cell_type": "markdown",
   "metadata": {},
   "source": [
    "<h2>Fit Data</h2>"
   ]
  },
  {
   "cell_type": "code",
   "execution_count": 2,
   "metadata": {},
   "outputs": [
    {
     "data": {
      "image/png": "[encoded data removed]",
      "text/plain": [
       "<Figure size 360x360 with 1 Axes>"
      ]
     },
     "metadata": {
      "needs_background": "light"
     },
     "output_type": "display_data"
    },
    {
     "data": {
      "image/png": "[encoded data removed]",
      "text/plain": [
       "<Figure size 432x288 with 1 Axes>"
      ]
     },
     "metadata": {
      "needs_background": "light"
     },
     "output_type": "display_data"
    },
    {
     "data": {
      "application/vnd.jupyter.widget-view+json": {
       "model_id": "c256f9cd1f484d2bbedb2d12eb115be0",
       "version_major": 2,
       "version_minor": 0
      },
      "text/plain": [
       "Button(description='Fit Data', style=ButtonStyle())"
      ]
     },
     "metadata": {},
     "output_type": "display_data"
    },
    {
     "data": {
      "application/vnd.jupyter.widget-view+json": {
       "model_id": "eb5f2a6b8b82404a9a7d62e2a3128fde",
       "version_major": 2,
       "version_minor": 0
      },
      "text/plain": [
       "Output()"
      ]
     },
     "metadata": {},
     "output_type": "display_data"
    }
   ],
   "source": [
    "import AnalysisTools\n",
    "importlib.reload(AnalysisTools)\n",
    "data = AnalysisTools.DataTools()\n",
    "\n",
    "global Energy, Signal, FitParameters\n",
    "\n",
    "##### Button Functions #####\n",
    "\n",
    "def ParametersToClipboard_Clicked(b):\n",
    "    global FitParameters\n",
    "    ToCopy = FitParameters\n",
    "    ToCopy.to_clipboard()\n",
    "\n",
    "def DataToClipboard_Clicked(b):\n",
    "    global Energy, Delay, Signal\n",
    "    ToCopy = Energy\n",
    "    ToCopy = np.zeros((Signal.shape[0]+1,len(Energy)))\n",
    "    ToCopy[0] = Energy\n",
    "    i = 0\n",
    "    while i < Signal.shape[0] :\n",
    "        ToCopy[i+1] = Signal[i]\n",
    "        i += 1\n",
    "    ToCopy = np.transpose(ToCopy)\n",
    "    ToCopy = df(data=ToCopy,columns=np.concatenate((['Energy'],Delay)))\n",
    "    ToCopy.to_clipboard()\n",
    "    print(Signal)\n",
    "    \n",
    "def FitData_Clicked(b):\n",
    "    \n",
    "    global Energy, Delay, Signal, FitParameters\n",
    "    \n",
    "    with out:\n",
    "        \n",
    "        clear_output(True)\n",
    "        print('_'*110)\n",
    "        print(\"\")\n",
    "        \n",
    "        Run = importlib.import_module(SelectRun.value.replace('.py',''), package=None)\n",
    "        importlib.reload(Run)\n",
    "        run = Run.Run()\n",
    "        Par = run.Parameters(SelectRegion.value)\n",
    "        \n",
    "        ##### Prepare data #####\n",
    "        \n",
    "        NumberPeaks = int(Par['NumPeaks'])\n",
    "        NumRefPeaks = int(Par['NumRefPeaks'])\n",
    "        ROI_Min = Par['ROI'][0]\n",
    "        ROI_Max = Par['ROI'][1]\n",
    "        Normalize = Par['Normalize']\n",
    "        ScalingFactor = Par['ScalingFactor']\n",
    "        ScaleTo = Par['ScaleTo']\n",
    "        \n",
    "        Energy, Signal, Delay, ErrorBars = data.ImportData(Par['FolderPath'],SelectFile.value)\n",
    "        Energy = Energy + Par['xOffset']\n",
    "        \n",
    "        if Par['BackgroundRun'] != 'None' :\n",
    "            Background_Energy, Background, Background_Delay, Background_ErrorBars = data.ImportData(Par['FolderPath'],Par['BackgroundRun'])\n",
    "            Background_Energy = Background_Energy + Par['xOffset']\n",
    "        \n",
    "        if ScaleTo == \"Background\":\n",
    "            print('Data scaled by '+str(ScalingFactor))\n",
    "            Signal = Signal * ScalingFactor\n",
    "            ErrorBars = ErrorBars * ScalingFactor\n",
    "        elif ScaleTo == \"Data\":\n",
    "            print('Background scaled by ' +str(1/ScalingFactor))\n",
    "            Background = Background / ScalingFactor\n",
    "            Background_ErrorBars = Background_ErrorBars / ScalingFactor\n",
    "        \n",
    "        NormROI_Min, NormROI_Max = Par['NormROI']\n",
    "        if Normalize == True :\n",
    "            Energy, Signal = data.Normalize(Energy,Signal,Par['NormROI'][0], Par['NormROI'][1])\n",
    "            if Par['BackgroundRun'] != 'None' :\n",
    "                Background_Energy, Background = data.Normalize(Background_Energy,Background,Par['NormROI'][0], Par['NormROI'][1])\n",
    "        Energy, Signal, Delay, ErrorBars = data.TrimData(Energy,Signal,Delay,ErrorBars,ROI_Min,ROI_Max)\n",
    "        if Par['BackgroundRun'] != 'None' :\n",
    "            Signal = data.SubtractBackground(Energy,Signal,Background_Energy,Background,ROI_Min,ROI_Max)\n",
    "\n",
    "        ##### Plot all data #####\n",
    "        \n",
    "        Color = px.colors.qualitative.Dark24\n",
    "        fig = go.Figure()\n",
    "        for idx, array in enumerate(Signal) :\n",
    "            fig.add_trace(go.Scatter(x=Energy,y=Signal[idx],mode='lines+markers',name=str(round(Delay[idx]))+' fs'))\n",
    "        fig.update_layout(xaxis_title='Energy (eV)',yaxis_title='Intensity (au)',legend_title='')\n",
    "        fig.show()\n",
    "        \n",
    "        if NumberPeaks != 0 or NumRefPeaks != 0 :\n",
    "\n",
    "            print('_'*110)\n",
    "            \n",
    "            run.FitData(Energy,Delay,Signal,ErrorBars,SelectRegion.value,NumberPeaks,NumRefPeaks)\n",
    "            \n",
    "            FitParameters = run.FitParameters\n",
    "            ParametersToClipboard = widgets.Button(description=\"Copy parameters\")\n",
    "            ParametersToClipboard.on_click(ParametersToClipboard_Clicked)\n",
    "            \n",
    "            DataToClipboard = widgets.Button(description=\"Copy data\")\n",
    "            DataToClipboard.on_click(DataToClipboard_Clicked)\n",
    "            display(widgets.Box([DataToClipboard,ParametersToClipboard]))\n",
    "        \n",
    "        else :\n",
    "            \n",
    "            DataToClipboard = widgets.Button(description=\"Copy data\")\n",
    "            DataToClipboard.on_click(DataToClipboard_Clicked)\n",
    "            display(DataToClipboard)\n",
    "\n",
    "##### Parameters #####\n",
    "\n",
    "Run = importlib.import_module(SelectRun.value.replace('.py',''), package=None)\n",
    "importlib.reload(Run)\n",
    "run = Run.Run()\n",
    "Par = run.Parameters(SelectRegion.value)\n",
    "\n",
    "Energy, Signal, Delay, ErrorBars = data.ImportData(Par['FolderPath'],SelectFile.value)\n",
    "Energy = Energy + Par['xOffset']\n",
    "\n",
    "##### Plot Data #####\n",
    "\n",
    "plt.figure(figsize = [5,5])\n",
    "plt.pcolor(Energy, Delay*1e-3, Signal)\n",
    "plt.xlabel('X-ray Energy (eV)')\n",
    "plt.ylabel('Delay (ps)')\n",
    "plt.title(SelectFile.value)\n",
    "plt.show()\n",
    "\n",
    "if Par['BackgroundRun'] != 'None' :\n",
    "    \n",
    "    Background_Energy, Background, Background_Delay, Background_ErrorBars = data.ImportData(Par['FolderPath'],Par['BackgroundRun'])\n",
    "    Background_Energy = Background_Energy + Par['xOffset']\n",
    "\n",
    "    # Check data structure\n",
    "    \n",
    "    if Background.shape[0] != 1 :\n",
    "        raise HaltException('Background data exceeds allowed dimensions')\n",
    "    \n",
    "    ##### Plot data #####\n",
    "    \n",
    "    # Background data\n",
    "    x = Background_Energy\n",
    "    y = Background[0]\n",
    "    err = Background_ErrorBars[0]\n",
    "    plt.plot(x, y,'r.', label='data')\n",
    "    plt.errorbar(x, y, yerr=err, fmt='o')\n",
    "    plt.xlabel('Photon Energy (eV)'), plt.ylabel('Intensity (au)')\n",
    "    plt.title('Background: '+Par['BackgroundRun'])\n",
    "    plt.show()\n",
    "\n",
    "##### Fit data #####\n",
    "\n",
    "FitData = widgets.Button(description=\"Fit Data\")\n",
    "FitData.on_click(FitData_Clicked)\n",
    "display(FitData)\n",
    "\n",
    "out = widgets.Output()\n",
    "out"
   ]
  },
  {
   "cell_type": "markdown",
   "metadata": {},
   "source": [
    "<h2>Calculate Lifetimes</h2>"
   ]
  },
  {
   "cell_type": "code",
   "execution_count": 5,
   "metadata": {
    "jupyter": {
     "source_hidden": true
    }
   },
   "outputs": [
    {
     "data": {
      "application/vnd.plotly.v1+json": {
       "config": {
        "plotlyServerURL": "https://plot.ly"
       },
       "data": [
        {
         "line": {
          "color": "#2E91E5"
         },
         "mode": "markers",
         "name": "Gaussian 1",
         "type": "scatter",
         "x": [
          -550,
          -75,
          175,
          425,
          675,
          925,
          1175,
          1425,
          1675,
          1925,
          4925,
          9925
         ],
         "y": [
          0.9070347489503945,
          0.5725371081636053,
          0.260649736027204,
          0.2228350380319761,
          0.06679403946638353,
          0.09892791685250762,
          -0.04087005333637912,
          0.03542408400117522,
          -0.08980349054953499,
          0.03878521170458017,
          0.22749195329186384,
          0.4813560641156154
         ]
        },
        {
         "line": {
          "color": "#2E91E5"
         },
         "mode": "lines",
         "showlegend": false,
         "type": "scatter",
         "x": [
          -2000,
          -1878.7878787878788,
          -1757.5757575757575,
          -1636.3636363636365,
          -1515.151515151515,
          -1393.939393939394,
          -1272.7272727272727,
          -1151.5151515151515,
          -1030.3030303030303,
          -909.090909090909,
          -787.8787878787878,
          -666.6666666666665,
          -545.4545454545455,
          -424.24242424242425,
          -303.030303030303,
          -181.81818181818176,
          -60.60606060606051,
          60.60606060606051,
          181.81818181818198,
          303.030303030303,
          424.2424242424245,
          545.4545454545455,
          666.666666666667,
          787.878787878788,
          909.090909090909,
          1030.3030303030305,
          1151.5151515151515,
          1272.727272727273,
          1393.939393939394,
          1515.1515151515155,
          1636.3636363636365,
          1757.575757575758,
          1878.787878787879,
          2000,
          2121.212121212121,
          2242.424242424243,
          2363.636363636364,
          2484.848484848485,
          2606.060606060606,
          2727.272727272728,
          2848.484848484849,
          2969.69696969697,
          3090.909090909091,
          3212.121212121212,
          3333.333333333334,
          3454.545454545455,
          3575.757575757576,
          3696.969696969697,
          3818.181818181818,
          3939.39393939394,
          4060.606060606061,
          4181.818181818182,
          4303.030303030303,
          4424.242424242425,
          4545.454545454546,
          4666.666666666667,
          4787.878787878788,
          4909.090909090909,
          5030.303030303031,
          5151.515151515152,
          5272.727272727273,
          5393.939393939394,
          5515.151515151516,
          5636.363636363637,
          5757.575757575758,
          5878.787878787879,
          6000,
          6121.212121212122,
          6242.424242424242,
          6363.636363636364,
          6484.848484848486,
          6606.060606060606,
          6727.272727272728,
          6848.484848484848,
          6969.69696969697,
          7090.909090909092,
          7212.121212121212,
          7333.333333333334,
          7454.545454545456,
          7575.757575757576,
          7696.969696969698,
          7818.181818181818,
          7939.39393939394,
          8060.606060606062,
          8181.818181818182,
          8303.030303030304,
          8424.242424242424,
          8545.454545454546,
          8666.666666666668,
          8787.878787878788,
          8909.09090909091,
          9030.30303030303,
          9151.515151515152,
          9272.727272727274,
          9393.939393939394,
          9515.151515151516,
          9636.363636363636,
          9757.575757575758,
          9878.78787878788,
          10000
         ],
         "y": [
          1,
          0.9999878500178186,
          0.9999513819253327,
          0.9998494176352516,
          0.9995838457854841,
          0.9989395043927835,
          0.9974832033147794,
          0.9944170880893622,
          0.9884035665880995,
          0.9774167161551339,
          0.9587175486286212,
          0.9290708232546261,
          0.8852846309147983,
          0.8250419725487704,
          0.7478311839558438,
          0.6556464334143722,
          0.5531172142642569,
          0.4468880358280609,
          0.3443588166779453,
          0.252174066136474,
          0.1749632775435474,
          0.11472061917751968,
          0.0709344268376917,
          0.041287701463696744,
          0.022588533937184067,
          0.011601683504218295,
          0.005588162002955759,
          0.0025220467775384954,
          0.0010657456995345508,
          0.0004214043068338814,
          0.00015583245706616265,
          5.386816698507969e-05,
          1.7400074499382743e-05,
          5.250092318022295e-06,
          1.4792830175422788e-06,
          3.8912750515582e-07,
          9.554115803901554e-08,
          2.189073153590927e-08,
          4.67977033611486e-09,
          9.332868432398507e-10,
          1.7360861954048275e-10,
          3.011892373983656e-11,
          4.8726715565996364e-12,
          7.349529924038617e-13,
          1.0334392146384194e-13,
          1.3469799183129454e-14,
          1.6978738466129563e-15,
          1.131915897741971e-16,
          0,
          0,
          0,
          0,
          0,
          0,
          0,
          0,
          0,
          0,
          0,
          0,
          0,
          0,
          0,
          0,
          0,
          0,
          0,
          0,
          0,
          0,
          0,
          0,
          0,
          0,
          0,
          0,
          0,
          0,
          0,
          0,
          0,
          0,
          0,
          0,
          0,
          0,
          0,
          0,
          0,
          0,
          0,
          0,
          0,
          0,
          0,
          0,
          0,
          0,
          0,
          0
         ]
        },
        {
         "line": {
          "color": "#E15F99"
         },
         "mode": "markers",
         "name": "Gaussian 2",
         "type": "scatter",
         "x": [
          -550,
          -75,
          175,
          425,
          675,
          925,
          1175,
          1425,
          1675,
          1925,
          4925,
          9925
         ],
         "y": [
          -1.2017557378225855e-08,
          0.1197834468184428,
          0.189559701629974,
          0.4973949531454545,
          0.6992482516969254,
          0.8871541477814493,
          0.8072482730382388,
          0.9669081832941556,
          1.108385791281427,
          0.9817519002343734,
          1.2664251070577277,
          1.8188062382874501
         ]
        },
        {
         "line": {
          "color": "#E15F99"
         },
         "mode": "lines",
         "showlegend": false,
         "type": "scatter",
         "x": [
          -2000,
          -1878.7878787878788,
          -1757.5757575757575,
          -1636.3636363636365,
          -1515.151515151515,
          -1393.939393939394,
          -1272.7272727272727,
          -1151.5151515151515,
          -1030.3030303030303,
          -909.090909090909,
          -787.8787878787878,
          -666.6666666666665,
          -545.4545454545455,
          -424.24242424242425,
          -303.030303030303,
          -181.81818181818176,
          -60.60606060606051,
          60.60606060606051,
          181.81818181818198,
          303.030303030303,
          424.2424242424245,
          545.4545454545455,
          666.666666666667,
          787.878787878788,
          909.090909090909,
          1030.3030303030305,
          1151.5151515151515,
          1272.727272727273,
          1393.939393939394,
          1515.1515151515155,
          1636.3636363636365,
          1757.575757575758,
          1878.787878787879,
          2000,
          2121.212121212121,
          2242.424242424243,
          2363.636363636364,
          2484.848484848485,
          2606.060606060606,
          2727.272727272728,
          2848.484848484849,
          2969.69696969697,
          3090.909090909091,
          3212.121212121212,
          3333.333333333334,
          3454.545454545455,
          3575.757575757576,
          3696.969696969697,
          3818.181818181818,
          3939.39393939394,
          4060.606060606061,
          4181.818181818182,
          4303.030303030303,
          4424.242424242425,
          4545.454545454546,
          4666.666666666667,
          4787.878787878788,
          4909.090909090909,
          5030.303030303031,
          5151.515151515152,
          5272.727272727273,
          5393.939393939394,
          5515.151515151516,
          5636.363636363637,
          5757.575757575758,
          5878.787878787879,
          6000,
          6121.212121212122,
          6242.424242424242,
          6363.636363636364,
          6484.848484848486,
          6606.060606060606,
          6727.272727272728,
          6848.484848484848,
          6969.69696969697,
          7090.909090909092,
          7212.121212121212,
          7333.333333333334,
          7454.545454545456,
          7575.757575757576,
          7696.969696969698,
          7818.181818181818,
          7939.39393939394,
          8060.606060606062,
          8181.818181818182,
          8303.030303030304,
          8424.242424242424,
          8545.454545454546,
          8666.666666666668,
          8787.878787878788,
          8909.09090909091,
          9030.30303030303,
          9151.515151515152,
          9272.727272727274,
          9393.939393939394,
          9515.151515151516,
          9636.363636363636,
          9757.575757575758,
          9878.78787878788,
          10000
         ],
         "y": [
          0,
          4.38712577369188e-08,
          2.2967969622303178e-07,
          9.601607334980616e-07,
          3.625867777013109e-06,
          1.2655656238990591e-05,
          4.104831514528259e-05,
          0.00012391871883672467,
          0.00034844088835380696,
          0.0009131005857321324,
          0.002231307078729837,
          0.005087913527946907,
          0.010834220312050481,
          0.02156421866926368,
          0.04016297363610839,
          0.0700885329062568,
          0.11478524455609114,
          0.1767556541848599,
          0.2565127163996267,
          0.3517989805039513,
          0.4574729666325696,
          0.5662613881587545,
          0.6702232624931773,
          0.7624469104966284,
          0.8383897939643129,
          0.89644058787427,
          0.9376318532942646,
          0.9647635827478583,
          0.9813527493979328,
          0.9907682990455666,
          0.9957289647675328,
          0.9981550523971341,
          0.99925645017738,
          0.9997205933451965,
          0.9999021568435895,
          0.9999680852545464,
          0.9999903072340057,
          0.9999972599972128,
          0.9999992792705573,
          0.9999998236404505,
          0.9999999598641452,
          0.9999999915065132,
          0.999999998328976,
          0.9999999996943993,
          0.9999999999480554,
          0.999999999991795,
          0.9999999999987957,
          0.9999999999998357,
          0.9999999999999792,
          0.9999999999999976,
          0.9999999999999998,
          1,
          1,
          1,
          1,
          1,
          1,
          1,
          1,
          1,
          1,
          1,
          1,
          1,
          1,
          1,
          1,
          1,
          1,
          1,
          1,
          1,
          1,
          1,
          1,
          1,
          1,
          1,
          1,
          1,
          1,
          1,
          1,
          1,
          1,
          1,
          1,
          1,
          1,
          1,
          1,
          1,
          1,
          1,
          1,
          1,
          1,
          1,
          1,
          1
         ]
        },
        {
         "line": {
          "color": "#1CA71C"
         },
         "mode": "markers",
         "name": "Gaussian 3",
         "type": "scatter",
         "x": [
          -550,
          -75,
          175,
          425,
          675,
          925,
          1175,
          1425,
          1675,
          1925,
          4925,
          9925
         ],
         "y": [
          -1.2027515898524488e-08,
          0.11978285150898015,
          0.18955875954667215,
          0.4973924811833668,
          0.6992447765648697,
          0.8871497387951883,
          0.8072442611679743,
          0.9669033779465087,
          1.108380282818753,
          0.9817470211164627,
          1.2664188131716971,
          1.8187971991791934
         ]
        },
        {
         "line": {
          "color": "#1CA71C"
         },
         "mode": "lines",
         "showlegend": false,
         "type": "scatter",
         "x": [
          -2000,
          -1878.7878787878788,
          -1757.5757575757575,
          -1636.3636363636365,
          -1515.151515151515,
          -1393.939393939394,
          -1272.7272727272727,
          -1151.5151515151515,
          -1030.3030303030303,
          -909.090909090909,
          -787.8787878787878,
          -666.6666666666665,
          -545.4545454545455,
          -424.24242424242425,
          -303.030303030303,
          -181.81818181818176,
          -60.60606060606051,
          60.60606060606051,
          181.81818181818198,
          303.030303030303,
          424.2424242424245,
          545.4545454545455,
          666.666666666667,
          787.878787878788,
          909.090909090909,
          1030.3030303030305,
          1151.5151515151515,
          1272.727272727273,
          1393.939393939394,
          1515.1515151515155,
          1636.3636363636365,
          1757.575757575758,
          1878.787878787879,
          2000,
          2121.212121212121,
          2242.424242424243,
          2363.636363636364,
          2484.848484848485,
          2606.060606060606,
          2727.272727272728,
          2848.484848484849,
          2969.69696969697,
          3090.909090909091,
          3212.121212121212,
          3333.333333333334,
          3454.545454545455,
          3575.757575757576,
          3696.969696969697,
          3818.181818181818,
          3939.39393939394,
          4060.606060606061,
          4181.818181818182,
          4303.030303030303,
          4424.242424242425,
          4545.454545454546,
          4666.666666666667,
          4787.878787878788,
          4909.090909090909,
          5030.303030303031,
          5151.515151515152,
          5272.727272727273,
          5393.939393939394,
          5515.151515151516,
          5636.363636363637,
          5757.575757575758,
          5878.787878787879,
          6000,
          6121.212121212122,
          6242.424242424242,
          6363.636363636364,
          6484.848484848486,
          6606.060606060606,
          6727.272727272728,
          6848.484848484848,
          6969.69696969697,
          7090.909090909092,
          7212.121212121212,
          7333.333333333334,
          7454.545454545456,
          7575.757575757576,
          7696.969696969698,
          7818.181818181818,
          7939.39393939394,
          8060.606060606062,
          8181.818181818182,
          8303.030303030304,
          8424.242424242424,
          8545.454545454546,
          8666.666666666668,
          8787.878787878788,
          8909.09090909091,
          9030.30303030303,
          9151.515151515152,
          9272.727272727274,
          9393.939393939394,
          9515.151515151516,
          9636.363636363636,
          9757.575757575758,
          9878.78787878788,
          10000
         ],
         "y": [
          0,
          4.390309523404859e-08,
          2.298319742465893e-07,
          9.607329605505158e-07,
          3.627788292254535e-06,
          1.2661557849467682e-05,
          4.106501095910458e-05,
          0.00012396223666129134,
          0.0003485453284834087,
          0.0009133310659667409,
          0.0022317738838003327,
          0.005088778917398316,
          0.010835683160782926,
          0.021566460544216647,
          0.040166060258507635,
          0.07009229054291068,
          0.11478916362085019,
          0.17675889068218914,
          0.25651424164781134,
          0.3517978651062772,
          0.4574687036716842,
          0.5662541145465864,
          0.6702137662736741,
          0.7624364090816297,
          0.8383795784307561,
          0.8964316850545792,
          0.9376248307412934,
          0.9647585372045548,
          0.9813494336639036,
          0.9907663002369074,
          0.9957278571369943,
          0.9981544872880453,
          0.9992561844074478,
          0.9997204780197875,
          0.9999021106356559,
          0.999968068148664,
          0.9999903013803169,
          0.9999972581447464,
          0.9999992787282319,
          0.9999998234935279,
          0.999999959827303,
          0.9999999914979596,
          0.9999999983271372,
          0.9999999996940327,
          0.9999999999479877,
          0.999999999991783,
          0.9999999999987936,
          0.9999999999998355,
          0.999999999999979,
          0.9999999999999974,
          0.9999999999999996,
          1,
          1,
          1,
          1,
          1,
          1,
          1,
          1,
          1,
          1,
          1,
          1,
          1,
          1,
          1,
          1,
          1,
          1,
          1,
          1,
          1,
          1,
          1,
          1,
          1,
          1,
          1,
          1,
          1,
          1,
          1,
          1,
          1,
          1,
          1,
          1,
          1,
          1,
          1,
          1,
          1,
          1,
          1,
          1,
          1,
          1,
          1,
          1,
          1
         ]
        },
        {
         "line": {
          "color": "#FB0D0D"
         },
         "mode": "markers",
         "name": "Gaussian 4",
         "type": "scatter",
         "x": [
          -550,
          -75,
          175,
          425,
          675,
          925,
          1175,
          1425,
          1675,
          1925,
          4925,
          9925
         ],
         "y": [
          -1.219929370363223e-05,
          0.4605088552394384,
          0.9375511630771759,
          0.7101282130073583,
          0.8018199027886851,
          0.7792104899385369,
          1.0914744458188397,
          1.0215735285056808,
          1.010403578786701,
          1.0725035298216428,
          1.7406335277254834,
          1.3433450345846862
         ]
        },
        {
         "line": {
          "color": "#FB0D0D"
         },
         "mode": "lines",
         "showlegend": false,
         "type": "scatter",
         "x": [
          -2000,
          -1878.7878787878788,
          -1757.5757575757575,
          -1636.3636363636365,
          -1515.151515151515,
          -1393.939393939394,
          -1272.7272727272727,
          -1151.5151515151515,
          -1030.3030303030303,
          -909.090909090909,
          -787.8787878787878,
          -666.6666666666665,
          -545.4545454545455,
          -424.24242424242425,
          -303.030303030303,
          -181.81818181818176,
          -60.60606060606051,
          60.60606060606051,
          181.81818181818198,
          303.030303030303,
          424.2424242424245,
          545.4545454545455,
          666.666666666667,
          787.878787878788,
          909.090909090909,
          1030.3030303030305,
          1151.5151515151515,
          1272.727272727273,
          1393.939393939394,
          1515.1515151515155,
          1636.3636363636365,
          1757.575757575758,
          1878.787878787879,
          2000,
          2121.212121212121,
          2242.424242424243,
          2363.636363636364,
          2484.848484848485,
          2606.060606060606,
          2727.272727272728,
          2848.484848484849,
          2969.69696969697,
          3090.909090909091,
          3212.121212121212,
          3333.333333333334,
          3454.545454545455,
          3575.757575757576,
          3696.969696969697,
          3818.181818181818,
          3939.39393939394,
          4060.606060606061,
          4181.818181818182,
          4303.030303030303,
          4424.242424242425,
          4545.454545454546,
          4666.666666666667,
          4787.878787878788,
          4909.090909090909,
          5030.303030303031,
          5151.515151515152,
          5272.727272727273,
          5393.939393939394,
          5515.151515151516,
          5636.363636363637,
          5757.575757575758,
          5878.787878787879,
          6000,
          6121.212121212122,
          6242.424242424242,
          6363.636363636364,
          6484.848484848486,
          6606.060606060606,
          6727.272727272728,
          6848.484848484848,
          6969.69696969697,
          7090.909090909092,
          7212.121212121212,
          7333.333333333334,
          7454.545454545456,
          7575.757575757576,
          7696.969696969698,
          7818.181818181818,
          7939.39393939394,
          8060.606060606062,
          8181.818181818182,
          8303.030303030304,
          8424.242424242424,
          8545.454545454546,
          8666.666666666668,
          8787.878787878788,
          8909.09090909091,
          9030.30303030303,
          9151.515151515152,
          9272.727272727274,
          9393.939393939394,
          9515.151515151516,
          9636.363636363636,
          9757.575757575758,
          9878.78787878788,
          10000
         ],
         "y": [
          0,
          2.4573123665284034e-05,
          9.194690182638117e-05,
          0.00026503086801014735,
          0.0006816690475673374,
          0.0016213889359221931,
          0.0036073726374669856,
          0.0075400794847724825,
          0.014837120170956184,
          0.02752362144092343,
          0.048190620479904946,
          0.0797373184951538,
          0.12485759546680471,
          0.18532639171210727,
          0.2612598013846382,
          0.3506061321659299,
          0.4491121920513892,
          0.5508756086062407,
          0.6493816684947822,
          0.7387279992816642,
          0.8146614089613224,
          0.8751302052141922,
          0.9202504821929017,
          0.9517971802140724,
          0.9724641792575802,
          0.9851506805307229,
          0.9924477212189613,
          0.9963804280674972,
          0.9983664117697254,
          0.9993061316584333,
          0.9997227698381598,
          0.9998958538044194,
          0.999963227582612,
          0.9999878007062897,
          0.9999961984823346,
          0.9999988875496628,
          0.9999996943600638,
          0.9999999211755157,
          0.9999999809208492,
          0.9999999956665147,
          0.9999999990765004,
          0.9999999998153694,
          0.9999999999653749,
          0.9999999999939094,
          0.9999999999989952,
          0.9999999999998445,
          0.9999999999999774,
          0.9999999999999969,
          0.9999999999999997,
          1,
          1,
          1,
          1,
          1,
          1,
          1,
          1,
          1,
          1,
          1,
          1,
          1,
          1,
          1,
          1,
          1,
          1,
          1,
          1,
          1,
          1,
          1,
          1,
          1,
          1,
          1,
          1,
          1,
          1,
          1,
          1,
          1,
          1,
          1,
          1,
          1,
          1,
          1,
          1,
          1,
          1,
          1,
          1,
          1,
          1,
          1,
          1,
          1,
          1,
          1
         ]
        }
       ],
       "layout": {
        "font": {
         "size": 16
        },
        "height": 500,
        "legend": {
         "title": {
          "text": ""
         }
        },
        "template": {
         "data": {
          "bar": [
           {
            "error_x": {
             "color": "rgb(36,36,36)"
            },
            "error_y": {
             "color": "rgb(36,36,36)"
            },
            "marker": {
             "line": {
              "color": "white",
              "width": 0.5
             }
            },
            "type": "bar"
           }
          ],
          "barpolar": [
           {
            "marker": {
             "line": {
              "color": "white",
              "width": 0.5
             }
            },
            "type": "barpolar"
           }
          ],
          "carpet": [
           {
            "aaxis": {
             "endlinecolor": "rgb(36,36,36)",
             "gridcolor": "white",
             "linecolor": "white",
             "minorgridcolor": "white",
             "startlinecolor": "rgb(36,36,36)"
            },
            "baxis": {
             "endlinecolor": "rgb(36,36,36)",
             "gridcolor": "white",
             "linecolor": "white",
             "minorgridcolor": "white",
             "startlinecolor": "rgb(36,36,36)"
            },
            "type": "carpet"
           }
          ],
          "choropleth": [
           {
            "colorbar": {
             "outlinewidth": 1,
             "tickcolor": "rgb(36,36,36)",
             "ticks": "outside"
            },
            "type": "choropleth"
           }
          ],
          "contour": [
           {
            "colorbar": {
             "outlinewidth": 1,
             "tickcolor": "rgb(36,36,36)",
             "ticks": "outside"
            },
            "colorscale": [
             [
              0,
              "#440154"
             ],
             [
              0.1111111111111111,
              "#482878"
             ],
             [
              0.2222222222222222,
              "#3e4989"
             ],
             [
              0.3333333333333333,
              "#31688e"
             ],
             [
              0.4444444444444444,
              "#26828e"
             ],
             [
              0.5555555555555556,
              "#1f9e89"
             ],
             [
              0.6666666666666666,
              "#35b779"
             ],
             [
              0.7777777777777778,
              "#6ece58"
             ],
             [
              0.8888888888888888,
              "#b5de2b"
             ],
             [
              1,
              "#fde725"
             ]
            ],
            "type": "contour"
           }
          ],
          "contourcarpet": [
           {
            "colorbar": {
             "outlinewidth": 1,
             "tickcolor": "rgb(36,36,36)",
             "ticks": "outside"
            },
            "type": "contourcarpet"
           }
          ],
          "heatmap": [
           {
            "colorbar": {
             "outlinewidth": 1,
             "tickcolor": "rgb(36,36,36)",
             "ticks": "outside"
            },
            "colorscale": [
             [
              0,
              "#440154"
             ],
             [
              0.1111111111111111,
              "#482878"
             ],
             [
              0.2222222222222222,
              "#3e4989"
             ],
             [
              0.3333333333333333,
              "#31688e"
             ],
             [
              0.4444444444444444,
              "#26828e"
             ],
             [
              0.5555555555555556,
              "#1f9e89"
             ],
             [
              0.6666666666666666,
              "#35b779"
             ],
             [
              0.7777777777777778,
              "#6ece58"
             ],
             [
              0.8888888888888888,
              "#b5de2b"
             ],
             [
              1,
              "#fde725"
             ]
            ],
            "type": "heatmap"
           }
          ],
          "heatmapgl": [
           {
            "colorbar": {
             "outlinewidth": 1,
             "tickcolor": "rgb(36,36,36)",
             "ticks": "outside"
            },
            "colorscale": [
             [
              0,
              "#440154"
             ],
             [
              0.1111111111111111,
              "#482878"
             ],
             [
              0.2222222222222222,
              "#3e4989"
             ],
             [
              0.3333333333333333,
              "#31688e"
             ],
             [
              0.4444444444444444,
              "#26828e"
             ],
             [
              0.5555555555555556,
              "#1f9e89"
             ],
             [
              0.6666666666666666,
              "#35b779"
             ],
             [
              0.7777777777777778,
              "#6ece58"
             ],
             [
              0.8888888888888888,
              "#b5de2b"
             ],
             [
              1,
              "#fde725"
             ]
            ],
            "type": "heatmapgl"
           }
          ],
          "histogram": [
           {
            "marker": {
             "line": {
              "color": "white",
              "width": 0.6
             }
            },
            "type": "histogram"
           }
          ],
          "histogram2d": [
           {
            "colorbar": {
             "outlinewidth": 1,
             "tickcolor": "rgb(36,36,36)",
             "ticks": "outside"
            },
            "colorscale": [
             [
              0,
              "#440154"
             ],
             [
              0.1111111111111111,
              "#482878"
             ],
             [
              0.2222222222222222,
              "#3e4989"
             ],
             [
              0.3333333333333333,
              "#31688e"
             ],
             [
              0.4444444444444444,
              "#26828e"
             ],
             [
              0.5555555555555556,
              "#1f9e89"
             ],
             [
              0.6666666666666666,
              "#35b779"
             ],
             [
              0.7777777777777778,
              "#6ece58"
             ],
             [
              0.8888888888888888,
              "#b5de2b"
             ],
             [
              1,
              "#fde725"
             ]
            ],
            "type": "histogram2d"
           }
          ],
          "histogram2dcontour": [
           {
            "colorbar": {
             "outlinewidth": 1,
             "tickcolor": "rgb(36,36,36)",
             "ticks": "outside"
            },
            "colorscale": [
             [
              0,
              "#440154"
             ],
             [
              0.1111111111111111,
              "#482878"
             ],
             [
              0.2222222222222222,
              "#3e4989"
             ],
             [
              0.3333333333333333,
              "#31688e"
             ],
             [
              0.4444444444444444,
              "#26828e"
             ],
             [
              0.5555555555555556,
              "#1f9e89"
             ],
             [
              0.6666666666666666,
              "#35b779"
             ],
             [
              0.7777777777777778,
              "#6ece58"
             ],
             [
              0.8888888888888888,
              "#b5de2b"
             ],
             [
              1,
              "#fde725"
             ]
            ],
            "type": "histogram2dcontour"
           }
          ],
          "mesh3d": [
           {
            "colorbar": {
             "outlinewidth": 1,
             "tickcolor": "rgb(36,36,36)",
             "ticks": "outside"
            },
            "type": "mesh3d"
           }
          ],
          "parcoords": [
           {
            "line": {
             "colorbar": {
              "outlinewidth": 1,
              "tickcolor": "rgb(36,36,36)",
              "ticks": "outside"
             }
            },
            "type": "parcoords"
           }
          ],
          "pie": [
           {
            "automargin": true,
            "type": "pie"
           }
          ],
          "scatter": [
           {
            "marker": {
             "colorbar": {
              "outlinewidth": 1,
              "tickcolor": "rgb(36,36,36)",
              "ticks": "outside"
             }
            },
            "type": "scatter"
           }
          ],
          "scatter3d": [
           {
            "line": {
             "colorbar": {
              "outlinewidth": 1,
              "tickcolor": "rgb(36,36,36)",
              "ticks": "outside"
             }
            },
            "marker": {
             "colorbar": {
              "outlinewidth": 1,
              "tickcolor": "rgb(36,36,36)",
              "ticks": "outside"
             }
            },
            "type": "scatter3d"
           }
          ],
          "scattercarpet": [
           {
            "marker": {
             "colorbar": {
              "outlinewidth": 1,
              "tickcolor": "rgb(36,36,36)",
              "ticks": "outside"
             }
            },
            "type": "scattercarpet"
           }
          ],
          "scattergeo": [
           {
            "marker": {
             "colorbar": {
              "outlinewidth": 1,
              "tickcolor": "rgb(36,36,36)",
              "ticks": "outside"
             }
            },
            "type": "scattergeo"
           }
          ],
          "scattergl": [
           {
            "marker": {
             "colorbar": {
              "outlinewidth": 1,
              "tickcolor": "rgb(36,36,36)",
              "ticks": "outside"
             }
            },
            "type": "scattergl"
           }
          ],
          "scattermapbox": [
           {
            "marker": {
             "colorbar": {
              "outlinewidth": 1,
              "tickcolor": "rgb(36,36,36)",
              "ticks": "outside"
             }
            },
            "type": "scattermapbox"
           }
          ],
          "scatterpolar": [
           {
            "marker": {
             "colorbar": {
              "outlinewidth": 1,
              "tickcolor": "rgb(36,36,36)",
              "ticks": "outside"
             }
            },
            "type": "scatterpolar"
           }
          ],
          "scatterpolargl": [
           {
            "marker": {
             "colorbar": {
              "outlinewidth": 1,
              "tickcolor": "rgb(36,36,36)",
              "ticks": "outside"
             }
            },
            "type": "scatterpolargl"
           }
          ],
          "scatterternary": [
           {
            "marker": {
             "colorbar": {
              "outlinewidth": 1,
              "tickcolor": "rgb(36,36,36)",
              "ticks": "outside"
             }
            },
            "type": "scatterternary"
           }
          ],
          "surface": [
           {
            "colorbar": {
             "outlinewidth": 1,
             "tickcolor": "rgb(36,36,36)",
             "ticks": "outside"
            },
            "colorscale": [
             [
              0,
              "#440154"
             ],
             [
              0.1111111111111111,
              "#482878"
             ],
             [
              0.2222222222222222,
              "#3e4989"
             ],
             [
              0.3333333333333333,
              "#31688e"
             ],
             [
              0.4444444444444444,
              "#26828e"
             ],
             [
              0.5555555555555556,
              "#1f9e89"
             ],
             [
              0.6666666666666666,
              "#35b779"
             ],
             [
              0.7777777777777778,
              "#6ece58"
             ],
             [
              0.8888888888888888,
              "#b5de2b"
             ],
             [
              1,
              "#fde725"
             ]
            ],
            "type": "surface"
           }
          ],
          "table": [
           {
            "cells": {
             "fill": {
              "color": "rgb(237,237,237)"
             },
             "line": {
              "color": "white"
             }
            },
            "header": {
             "fill": {
              "color": "rgb(217,217,217)"
             },
             "line": {
              "color": "white"
             }
            },
            "type": "table"
           }
          ]
         },
         "layout": {
          "annotationdefaults": {
           "arrowhead": 0,
           "arrowwidth": 1
          },
          "coloraxis": {
           "colorbar": {
            "outlinewidth": 1,
            "tickcolor": "rgb(36,36,36)",
            "ticks": "outside"
           }
          },
          "colorscale": {
           "diverging": [
            [
             0,
             "rgb(103,0,31)"
            ],
            [
             0.1,
             "rgb(178,24,43)"
            ],
            [
             0.2,
             "rgb(214,96,77)"
            ],
            [
             0.3,
             "rgb(244,165,130)"
            ],
            [
             0.4,
             "rgb(253,219,199)"
            ],
            [
             0.5,
             "rgb(247,247,247)"
            ],
            [
             0.6,
             "rgb(209,229,240)"
            ],
            [
             0.7,
             "rgb(146,197,222)"
            ],
            [
             0.8,
             "rgb(67,147,195)"
            ],
            [
             0.9,
             "rgb(33,102,172)"
            ],
            [
             1,
             "rgb(5,48,97)"
            ]
           ],
           "sequential": [
            [
             0,
             "#440154"
            ],
            [
             0.1111111111111111,
             "#482878"
            ],
            [
             0.2222222222222222,
             "#3e4989"
            ],
            [
             0.3333333333333333,
             "#31688e"
            ],
            [
             0.4444444444444444,
             "#26828e"
            ],
            [
             0.5555555555555556,
             "#1f9e89"
            ],
            [
             0.6666666666666666,
             "#35b779"
            ],
            [
             0.7777777777777778,
             "#6ece58"
            ],
            [
             0.8888888888888888,
             "#b5de2b"
            ],
            [
             1,
             "#fde725"
            ]
           ],
           "sequentialminus": [
            [
             0,
             "#440154"
            ],
            [
             0.1111111111111111,
             "#482878"
            ],
            [
             0.2222222222222222,
             "#3e4989"
            ],
            [
             0.3333333333333333,
             "#31688e"
            ],
            [
             0.4444444444444444,
             "#26828e"
            ],
            [
             0.5555555555555556,
             "#1f9e89"
            ],
            [
             0.6666666666666666,
             "#35b779"
            ],
            [
             0.7777777777777778,
             "#6ece58"
            ],
            [
             0.8888888888888888,
             "#b5de2b"
            ],
            [
             1,
             "#fde725"
            ]
           ]
          },
          "colorway": [
           "#1F77B4",
           "#FF7F0E",
           "#2CA02C",
           "#D62728",
           "#9467BD",
           "#8C564B",
           "#E377C2",
           "#7F7F7F",
           "#BCBD22",
           "#17BECF"
          ],
          "font": {
           "color": "rgb(36,36,36)"
          },
          "geo": {
           "bgcolor": "white",
           "lakecolor": "white",
           "landcolor": "white",
           "showlakes": true,
           "showland": true,
           "subunitcolor": "white"
          },
          "hoverlabel": {
           "align": "left"
          },
          "hovermode": "closest",
          "legend": {
           "bgcolor": "rgba(0, 0, 0, 0)",
           "traceorder": "normal",
           "x": 0,
           "y": 1
          },
          "mapbox": {
           "style": "light"
          },
          "margin": {
           "b": 0,
           "l": 0,
           "r": 0,
           "t": 50
          },
          "paper_bgcolor": "white",
          "plot_bgcolor": "white",
          "polar": {
           "angularaxis": {
            "gridcolor": "rgb(232,232,232)",
            "linecolor": "rgb(36,36,36)",
            "showgrid": false,
            "showline": true,
            "ticks": "outside"
           },
           "bgcolor": "white",
           "radialaxis": {
            "gridcolor": "rgb(232,232,232)",
            "linecolor": "rgb(36,36,36)",
            "showgrid": false,
            "showline": true,
            "ticks": "outside"
           }
          },
          "scene": {
           "xaxis": {
            "backgroundcolor": "white",
            "gridcolor": "rgb(232,232,232)",
            "gridwidth": 2,
            "linecolor": "rgb(36,36,36)",
            "showbackground": true,
            "showgrid": false,
            "showline": true,
            "ticks": "outside",
            "zeroline": false,
            "zerolinecolor": "rgb(36,36,36)"
           },
           "yaxis": {
            "backgroundcolor": "white",
            "gridcolor": "rgb(232,232,232)",
            "gridwidth": 2,
            "linecolor": "rgb(36,36,36)",
            "showbackground": true,
            "showgrid": false,
            "showline": true,
            "ticks": "outside",
            "zeroline": false,
            "zerolinecolor": "rgb(36,36,36)"
           },
           "zaxis": {
            "backgroundcolor": "white",
            "gridcolor": "rgb(232,232,232)",
            "gridwidth": 2,
            "linecolor": "rgb(36,36,36)",
            "showbackground": true,
            "showgrid": false,
            "showline": true,
            "ticks": "outside",
            "zeroline": false,
            "zerolinecolor": "rgb(36,36,36)"
           }
          },
          "shapedefaults": {
           "fillcolor": "black",
           "line": {
            "width": 0
           },
           "opacity": 0.3
          },
          "ternary": {
           "aaxis": {
            "gridcolor": "rgb(232,232,232)",
            "linecolor": "rgb(36,36,36)",
            "showgrid": false,
            "showline": true,
            "ticks": "outside"
           },
           "baxis": {
            "gridcolor": "rgb(232,232,232)",
            "linecolor": "rgb(36,36,36)",
            "showgrid": false,
            "showline": true,
            "ticks": "outside"
           },
           "bgcolor": "white",
           "caxis": {
            "gridcolor": "rgb(232,232,232)",
            "linecolor": "rgb(36,36,36)",
            "showgrid": false,
            "showline": true,
            "ticks": "outside"
           }
          },
          "title": {
           "x": 0.5,
           "xanchor": "center",
           "y": 0.95,
           "yanchor": "top"
          },
          "xaxis": {
           "automargin": true,
           "gridcolor": "rgb(232,232,232)",
           "linecolor": "rgb(36,36,36)",
           "showgrid": false,
           "showline": true,
           "ticks": "outside",
           "title": {
            "standoff": 15
           },
           "zeroline": false,
           "zerolinecolor": "rgb(36,36,36)"
          },
          "yaxis": {
           "automargin": true,
           "gridcolor": "rgb(232,232,232)",
           "linecolor": "rgb(36,36,36)",
           "showgrid": false,
           "showline": true,
           "ticks": "outside",
           "title": {
            "standoff": 15
           },
           "zeroline": false,
           "zerolinecolor": "rgb(36,36,36)"
          }
         }
        },
        "width": 800,
        "xaxis": {
         "autorange": true,
         "range": [
          -2000,
          10620.31777985477
         ],
         "title": {
          "text": "Delay (fs)"
         },
         "type": "linear"
        },
        "yaxis": {
         "autorange": true,
         "range": [
          -0.21880830757664488,
          1.94781105531456
         ],
         "title": {
          "text": "Intensity (au)"
         },
         "type": "linear"
        }
       }
      },
      "image/png": "[encoded data removed]",
      "text/html": [
       "<div>                            <div id=\"b2ce7afd-0b83-4489-b05b-d70e46edf30d\" class=\"plotly-graph-div\" style=\"height:500px; width:800px;\"></div>            <script type=\"text/javascript\">                require([\"plotly\"], function(Plotly) {                    window.PLOTLYENV=window.PLOTLYENV || {};                                    if (document.getElementById(\"b2ce7afd-0b83-4489-b05b-d70e46edf30d\")) {                    Plotly.newPlot(                        \"b2ce7afd-0b83-4489-b05b-d70e46edf30d\",                        [{\"line\": {\"color\": \"#2E91E5\"}, \"mode\": \"markers\", \"name\": \"Gaussian 1\", \"type\": \"scatter\", \"x\": [-550.0, -75.0, 175.0, 425.0, 675.0, 925.0, 1175.0, 1425.0, 1675.0, 1925.0, 4925.0, 9925.0], \"y\": [0.9070347489503945, 0.5725371081636053, 0.260649736027204, 0.2228350380319761, 0.06679403946638353, 0.09892791685250762, -0.04087005333637912, 0.03542408400117522, -0.08980349054953499, 0.03878521170458017, 0.22749195329186384, 0.4813560641156154]}, {\"line\": {\"color\": \"#2E91E5\"}, \"mode\": \"lines\", \"showlegend\": false, \"type\": \"scatter\", \"x\": [-2000.0, -1878.7878787878788, -1757.5757575757575, -1636.3636363636365, -1515.151515151515, -1393.939393939394, -1272.7272727272727, -1151.5151515151515, -1030.3030303030303, -909.090909090909, -787.8787878787878, -666.6666666666665, -545.4545454545455, -424.24242424242425, -303.030303030303, -181.81818181818176, -60.60606060606051, 60.60606060606051, 181.81818181818198, 303.030303030303, 424.2424242424245, 545.4545454545455, 666.666666666667, 787.878787878788, 909.090909090909, 1030.3030303030305, 1151.5151515151515, 1272.727272727273, 1393.939393939394, 1515.1515151515155, 1636.3636363636365, 1757.575757575758, 1878.787878787879, 2000.0, 2121.212121212121, 2242.424242424243, 2363.636363636364, 2484.848484848485, 2606.060606060606, 2727.272727272728, 2848.484848484849, 2969.69696969697, 3090.909090909091, 3212.121212121212, 3333.333333333334, 3454.545454545455, 3575.757575757576, 3696.969696969697, 3818.181818181818, 3939.39393939394, 4060.606060606061, 4181.818181818182, 4303.030303030303, 4424.242424242425, 4545.454545454546, 4666.666666666667, 4787.878787878788, 4909.090909090909, 5030.303030303031, 5151.515151515152, 5272.727272727273, 5393.939393939394, 5515.151515151516, 5636.363636363637, 5757.575757575758, 5878.787878787879, 6000.0, 6121.212121212122, 6242.424242424242, 6363.636363636364, 6484.848484848486, 6606.060606060606, 6727.272727272728, 6848.484848484848, 6969.69696969697, 7090.909090909092, 7212.121212121212, 7333.333333333334, 7454.545454545456, 7575.757575757576, 7696.969696969698, 7818.181818181818, 7939.39393939394, 8060.606060606062, 8181.818181818182, 8303.030303030304, 8424.242424242424, 8545.454545454546, 8666.666666666668, 8787.878787878788, 8909.09090909091, 9030.30303030303, 9151.515151515152, 9272.727272727274, 9393.939393939394, 9515.151515151516, 9636.363636363636, 9757.575757575758, 9878.78787878788, 10000.0], \"y\": [1.0, 0.9999878500178186, 0.9999513819253327, 0.9998494176352516, 0.9995838457854841, 0.9989395043927835, 0.9974832033147794, 0.9944170880893622, 0.9884035665880995, 0.9774167161551339, 0.9587175486286212, 0.9290708232546261, 0.8852846309147983, 0.8250419725487704, 0.7478311839558438, 0.6556464334143722, 0.5531172142642569, 0.4468880358280609, 0.3443588166779453, 0.252174066136474, 0.1749632775435474, 0.11472061917751968, 0.0709344268376917, 0.041287701463696744, 0.022588533937184067, 0.011601683504218295, 0.005588162002955759, 0.0025220467775384954, 0.0010657456995345508, 0.0004214043068338814, 0.00015583245706616265, 5.386816698507969e-05, 1.7400074499382743e-05, 5.250092318022295e-06, 1.4792830175422788e-06, 3.8912750515582e-07, 9.554115803901554e-08, 2.189073153590927e-08, 4.67977033611486e-09, 9.332868432398507e-10, 1.7360861954048275e-10, 3.011892373983656e-11, 4.8726715565996364e-12, 7.349529924038617e-13, 1.0334392146384194e-13, 1.3469799183129454e-14, 1.6978738466129563e-15, 1.131915897741971e-16, 0.0, 0.0, 0.0, 0.0, 0.0, 0.0, 0.0, 0.0, 0.0, 0.0, 0.0, 0.0, 0.0, 0.0, 0.0, 0.0, 0.0, 0.0, 0.0, 0.0, 0.0, 0.0, 0.0, 0.0, 0.0, 0.0, 0.0, 0.0, 0.0, 0.0, 0.0, 0.0, 0.0, 0.0, 0.0, 0.0, 0.0, 0.0, 0.0, 0.0, 0.0, 0.0, 0.0, 0.0, 0.0, 0.0, 0.0, 0.0, 0.0, 0.0, 0.0, 0.0]}, {\"line\": {\"color\": \"#E15F99\"}, \"mode\": \"markers\", \"name\": \"Gaussian 2\", \"type\": \"scatter\", \"x\": [-550.0, -75.0, 175.0, 425.0, 675.0, 925.0, 1175.0, 1425.0, 1675.0, 1925.0, 4925.0, 9925.0], \"y\": [-1.2017557378225855e-08, 0.1197834468184428, 0.189559701629974, 0.4973949531454545, 0.6992482516969254, 0.8871541477814493, 0.8072482730382388, 0.9669081832941556, 1.108385791281427, 0.9817519002343734, 1.2664251070577277, 1.8188062382874501]}, {\"line\": {\"color\": \"#E15F99\"}, \"mode\": \"lines\", \"showlegend\": false, \"type\": \"scatter\", \"x\": [-2000.0, -1878.7878787878788, -1757.5757575757575, -1636.3636363636365, -1515.151515151515, -1393.939393939394, -1272.7272727272727, -1151.5151515151515, -1030.3030303030303, -909.090909090909, -787.8787878787878, -666.6666666666665, -545.4545454545455, -424.24242424242425, -303.030303030303, -181.81818181818176, -60.60606060606051, 60.60606060606051, 181.81818181818198, 303.030303030303, 424.2424242424245, 545.4545454545455, 666.666666666667, 787.878787878788, 909.090909090909, 1030.3030303030305, 1151.5151515151515, 1272.727272727273, 1393.939393939394, 1515.1515151515155, 1636.3636363636365, 1757.575757575758, 1878.787878787879, 2000.0, 2121.212121212121, 2242.424242424243, 2363.636363636364, 2484.848484848485, 2606.060606060606, 2727.272727272728, 2848.484848484849, 2969.69696969697, 3090.909090909091, 3212.121212121212, 3333.333333333334, 3454.545454545455, 3575.757575757576, 3696.969696969697, 3818.181818181818, 3939.39393939394, 4060.606060606061, 4181.818181818182, 4303.030303030303, 4424.242424242425, 4545.454545454546, 4666.666666666667, 4787.878787878788, 4909.090909090909, 5030.303030303031, 5151.515151515152, 5272.727272727273, 5393.939393939394, 5515.151515151516, 5636.363636363637, 5757.575757575758, 5878.787878787879, 6000.0, 6121.212121212122, 6242.424242424242, 6363.636363636364, 6484.848484848486, 6606.060606060606, 6727.272727272728, 6848.484848484848, 6969.69696969697, 7090.909090909092, 7212.121212121212, 7333.333333333334, 7454.545454545456, 7575.757575757576, 7696.969696969698, 7818.181818181818, 7939.39393939394, 8060.606060606062, 8181.818181818182, 8303.030303030304, 8424.242424242424, 8545.454545454546, 8666.666666666668, 8787.878787878788, 8909.09090909091, 9030.30303030303, 9151.515151515152, 9272.727272727274, 9393.939393939394, 9515.151515151516, 9636.363636363636, 9757.575757575758, 9878.78787878788, 10000.0], \"y\": [0.0, 4.38712577369188e-08, 2.2967969622303178e-07, 9.601607334980616e-07, 3.625867777013109e-06, 1.2655656238990591e-05, 4.104831514528259e-05, 0.00012391871883672467, 0.00034844088835380696, 0.0009131005857321324, 0.002231307078729837, 0.005087913527946907, 0.010834220312050481, 0.02156421866926368, 0.04016297363610839, 0.0700885329062568, 0.11478524455609114, 0.1767556541848599, 0.2565127163996267, 0.3517989805039513, 0.4574729666325696, 0.5662613881587545, 0.6702232624931773, 0.7624469104966284, 0.8383897939643129, 0.89644058787427, 0.9376318532942646, 0.9647635827478583, 0.9813527493979328, 0.9907682990455666, 0.9957289647675328, 0.9981550523971341, 0.99925645017738, 0.9997205933451965, 0.9999021568435895, 0.9999680852545464, 0.9999903072340057, 0.9999972599972128, 0.9999992792705573, 0.9999998236404505, 0.9999999598641452, 0.9999999915065132, 0.999999998328976, 0.9999999996943993, 0.9999999999480554, 0.999999999991795, 0.9999999999987957, 0.9999999999998357, 0.9999999999999792, 0.9999999999999976, 0.9999999999999998, 1.0, 1.0, 1.0, 1.0, 1.0, 1.0, 1.0, 1.0, 1.0, 1.0, 1.0, 1.0, 1.0, 1.0, 1.0, 1.0, 1.0, 1.0, 1.0, 1.0, 1.0, 1.0, 1.0, 1.0, 1.0, 1.0, 1.0, 1.0, 1.0, 1.0, 1.0, 1.0, 1.0, 1.0, 1.0, 1.0, 1.0, 1.0, 1.0, 1.0, 1.0, 1.0, 1.0, 1.0, 1.0, 1.0, 1.0, 1.0, 1.0]}, {\"line\": {\"color\": \"#1CA71C\"}, \"mode\": \"markers\", \"name\": \"Gaussian 3\", \"type\": \"scatter\", \"x\": [-550.0, -75.0, 175.0, 425.0, 675.0, 925.0, 1175.0, 1425.0, 1675.0, 1925.0, 4925.0, 9925.0], \"y\": [-1.2027515898524488e-08, 0.11978285150898015, 0.18955875954667215, 0.4973924811833668, 0.6992447765648697, 0.8871497387951883, 0.8072442611679743, 0.9669033779465087, 1.108380282818753, 0.9817470211164627, 1.2664188131716971, 1.8187971991791934]}, {\"line\": {\"color\": \"#1CA71C\"}, \"mode\": \"lines\", \"showlegend\": false, \"type\": \"scatter\", \"x\": [-2000.0, -1878.7878787878788, -1757.5757575757575, -1636.3636363636365, -1515.151515151515, -1393.939393939394, -1272.7272727272727, -1151.5151515151515, -1030.3030303030303, -909.090909090909, -787.8787878787878, -666.6666666666665, -545.4545454545455, -424.24242424242425, -303.030303030303, -181.81818181818176, -60.60606060606051, 60.60606060606051, 181.81818181818198, 303.030303030303, 424.2424242424245, 545.4545454545455, 666.666666666667, 787.878787878788, 909.090909090909, 1030.3030303030305, 1151.5151515151515, 1272.727272727273, 1393.939393939394, 1515.1515151515155, 1636.3636363636365, 1757.575757575758, 1878.787878787879, 2000.0, 2121.212121212121, 2242.424242424243, 2363.636363636364, 2484.848484848485, 2606.060606060606, 2727.272727272728, 2848.484848484849, 2969.69696969697, 3090.909090909091, 3212.121212121212, 3333.333333333334, 3454.545454545455, 3575.757575757576, 3696.969696969697, 3818.181818181818, 3939.39393939394, 4060.606060606061, 4181.818181818182, 4303.030303030303, 4424.242424242425, 4545.454545454546, 4666.666666666667, 4787.878787878788, 4909.090909090909, 5030.303030303031, 5151.515151515152, 5272.727272727273, 5393.939393939394, 5515.151515151516, 5636.363636363637, 5757.575757575758, 5878.787878787879, 6000.0, 6121.212121212122, 6242.424242424242, 6363.636363636364, 6484.848484848486, 6606.060606060606, 6727.272727272728, 6848.484848484848, 6969.69696969697, 7090.909090909092, 7212.121212121212, 7333.333333333334, 7454.545454545456, 7575.757575757576, 7696.969696969698, 7818.181818181818, 7939.39393939394, 8060.606060606062, 8181.818181818182, 8303.030303030304, 8424.242424242424, 8545.454545454546, 8666.666666666668, 8787.878787878788, 8909.09090909091, 9030.30303030303, 9151.515151515152, 9272.727272727274, 9393.939393939394, 9515.151515151516, 9636.363636363636, 9757.575757575758, 9878.78787878788, 10000.0], \"y\": [0.0, 4.390309523404859e-08, 2.298319742465893e-07, 9.607329605505158e-07, 3.627788292254535e-06, 1.2661557849467682e-05, 4.106501095910458e-05, 0.00012396223666129134, 0.0003485453284834087, 0.0009133310659667409, 0.0022317738838003327, 0.005088778917398316, 0.010835683160782926, 0.021566460544216647, 0.040166060258507635, 0.07009229054291068, 0.11478916362085019, 0.17675889068218914, 0.25651424164781134, 0.3517978651062772, 0.4574687036716842, 0.5662541145465864, 0.6702137662736741, 0.7624364090816297, 0.8383795784307561, 0.8964316850545792, 0.9376248307412934, 0.9647585372045548, 0.9813494336639036, 0.9907663002369074, 0.9957278571369943, 0.9981544872880453, 0.9992561844074478, 0.9997204780197875, 0.9999021106356559, 0.999968068148664, 0.9999903013803169, 0.9999972581447464, 0.9999992787282319, 0.9999998234935279, 0.999999959827303, 0.9999999914979596, 0.9999999983271372, 0.9999999996940327, 0.9999999999479877, 0.999999999991783, 0.9999999999987936, 0.9999999999998355, 0.999999999999979, 0.9999999999999974, 0.9999999999999996, 1.0, 1.0, 1.0, 1.0, 1.0, 1.0, 1.0, 1.0, 1.0, 1.0, 1.0, 1.0, 1.0, 1.0, 1.0, 1.0, 1.0, 1.0, 1.0, 1.0, 1.0, 1.0, 1.0, 1.0, 1.0, 1.0, 1.0, 1.0, 1.0, 1.0, 1.0, 1.0, 1.0, 1.0, 1.0, 1.0, 1.0, 1.0, 1.0, 1.0, 1.0, 1.0, 1.0, 1.0, 1.0, 1.0, 1.0, 1.0, 1.0]}, {\"line\": {\"color\": \"#FB0D0D\"}, \"mode\": \"markers\", \"name\": \"Gaussian 4\", \"type\": \"scatter\", \"x\": [-550.0, -75.0, 175.0, 425.0, 675.0, 925.0, 1175.0, 1425.0, 1675.0, 1925.0, 4925.0, 9925.0], \"y\": [-1.219929370363223e-05, 0.4605088552394384, 0.9375511630771759, 0.7101282130073583, 0.8018199027886851, 0.7792104899385369, 1.0914744458188397, 1.0215735285056808, 1.010403578786701, 1.0725035298216428, 1.7406335277254834, 1.3433450345846862]}, {\"line\": {\"color\": \"#FB0D0D\"}, \"mode\": \"lines\", \"showlegend\": false, \"type\": \"scatter\", \"x\": [-2000.0, -1878.7878787878788, -1757.5757575757575, -1636.3636363636365, -1515.151515151515, -1393.939393939394, -1272.7272727272727, -1151.5151515151515, -1030.3030303030303, -909.090909090909, -787.8787878787878, -666.6666666666665, -545.4545454545455, -424.24242424242425, -303.030303030303, -181.81818181818176, -60.60606060606051, 60.60606060606051, 181.81818181818198, 303.030303030303, 424.2424242424245, 545.4545454545455, 666.666666666667, 787.878787878788, 909.090909090909, 1030.3030303030305, 1151.5151515151515, 1272.727272727273, 1393.939393939394, 1515.1515151515155, 1636.3636363636365, 1757.575757575758, 1878.787878787879, 2000.0, 2121.212121212121, 2242.424242424243, 2363.636363636364, 2484.848484848485, 2606.060606060606, 2727.272727272728, 2848.484848484849, 2969.69696969697, 3090.909090909091, 3212.121212121212, 3333.333333333334, 3454.545454545455, 3575.757575757576, 3696.969696969697, 3818.181818181818, 3939.39393939394, 4060.606060606061, 4181.818181818182, 4303.030303030303, 4424.242424242425, 4545.454545454546, 4666.666666666667, 4787.878787878788, 4909.090909090909, 5030.303030303031, 5151.515151515152, 5272.727272727273, 5393.939393939394, 5515.151515151516, 5636.363636363637, 5757.575757575758, 5878.787878787879, 6000.0, 6121.212121212122, 6242.424242424242, 6363.636363636364, 6484.848484848486, 6606.060606060606, 6727.272727272728, 6848.484848484848, 6969.69696969697, 7090.909090909092, 7212.121212121212, 7333.333333333334, 7454.545454545456, 7575.757575757576, 7696.969696969698, 7818.181818181818, 7939.39393939394, 8060.606060606062, 8181.818181818182, 8303.030303030304, 8424.242424242424, 8545.454545454546, 8666.666666666668, 8787.878787878788, 8909.09090909091, 9030.30303030303, 9151.515151515152, 9272.727272727274, 9393.939393939394, 9515.151515151516, 9636.363636363636, 9757.575757575758, 9878.78787878788, 10000.0], \"y\": [0.0, 2.4573123665284034e-05, 9.194690182638117e-05, 0.00026503086801014735, 0.0006816690475673374, 0.0016213889359221931, 0.0036073726374669856, 0.0075400794847724825, 0.014837120170956184, 0.02752362144092343, 0.048190620479904946, 0.0797373184951538, 0.12485759546680471, 0.18532639171210727, 0.2612598013846382, 0.3506061321659299, 0.4491121920513892, 0.5508756086062407, 0.6493816684947822, 0.7387279992816642, 0.8146614089613224, 0.8751302052141922, 0.9202504821929017, 0.9517971802140724, 0.9724641792575802, 0.9851506805307229, 0.9924477212189613, 0.9963804280674972, 0.9983664117697254, 0.9993061316584333, 0.9997227698381598, 0.9998958538044194, 0.999963227582612, 0.9999878007062897, 0.9999961984823346, 0.9999988875496628, 0.9999996943600638, 0.9999999211755157, 0.9999999809208492, 0.9999999956665147, 0.9999999990765004, 0.9999999998153694, 0.9999999999653749, 0.9999999999939094, 0.9999999999989952, 0.9999999999998445, 0.9999999999999774, 0.9999999999999969, 0.9999999999999997, 1.0, 1.0, 1.0, 1.0, 1.0, 1.0, 1.0, 1.0, 1.0, 1.0, 1.0, 1.0, 1.0, 1.0, 1.0, 1.0, 1.0, 1.0, 1.0, 1.0, 1.0, 1.0, 1.0, 1.0, 1.0, 1.0, 1.0, 1.0, 1.0, 1.0, 1.0, 1.0, 1.0, 1.0, 1.0, 1.0, 1.0, 1.0, 1.0, 1.0, 1.0, 1.0, 1.0, 1.0, 1.0, 1.0, 1.0, 1.0, 1.0, 1.0, 1.0]}],                        {\"font\": {\"size\": 16}, \"height\": 500, \"legend\": {\"title\": {\"text\": \"\"}}, \"template\": {\"data\": {\"bar\": [{\"error_x\": {\"color\": \"rgb(36,36,36)\"}, \"error_y\": {\"color\": \"rgb(36,36,36)\"}, \"marker\": {\"line\": {\"color\": \"white\", \"width\": 0.5}}, \"type\": \"bar\"}], \"barpolar\": [{\"marker\": {\"line\": {\"color\": \"white\", \"width\": 0.5}}, \"type\": \"barpolar\"}], \"carpet\": [{\"aaxis\": {\"endlinecolor\": \"rgb(36,36,36)\", \"gridcolor\": \"white\", \"linecolor\": \"white\", \"minorgridcolor\": \"white\", \"startlinecolor\": \"rgb(36,36,36)\"}, \"baxis\": {\"endlinecolor\": \"rgb(36,36,36)\", \"gridcolor\": \"white\", \"linecolor\": \"white\", \"minorgridcolor\": \"white\", \"startlinecolor\": \"rgb(36,36,36)\"}, \"type\": \"carpet\"}], \"choropleth\": [{\"colorbar\": {\"outlinewidth\": 1, \"tickcolor\": \"rgb(36,36,36)\", \"ticks\": \"outside\"}, \"type\": \"choropleth\"}], \"contour\": [{\"colorbar\": {\"outlinewidth\": 1, \"tickcolor\": \"rgb(36,36,36)\", \"ticks\": \"outside\"}, \"colorscale\": [[0.0, \"#440154\"], [0.1111111111111111, \"#482878\"], [0.2222222222222222, \"#3e4989\"], [0.3333333333333333, \"#31688e\"], [0.4444444444444444, \"#26828e\"], [0.5555555555555556, \"#1f9e89\"], [0.6666666666666666, \"#35b779\"], [0.7777777777777778, \"#6ece58\"], [0.8888888888888888, \"#b5de2b\"], [1.0, \"#fde725\"]], \"type\": \"contour\"}], \"contourcarpet\": [{\"colorbar\": {\"outlinewidth\": 1, \"tickcolor\": \"rgb(36,36,36)\", \"ticks\": \"outside\"}, \"type\": \"contourcarpet\"}], \"heatmap\": [{\"colorbar\": {\"outlinewidth\": 1, \"tickcolor\": \"rgb(36,36,36)\", \"ticks\": \"outside\"}, \"colorscale\": [[0.0, \"#440154\"], [0.1111111111111111, \"#482878\"], [0.2222222222222222, \"#3e4989\"], [0.3333333333333333, \"#31688e\"], [0.4444444444444444, \"#26828e\"], [0.5555555555555556, \"#1f9e89\"], [0.6666666666666666, \"#35b779\"], [0.7777777777777778, \"#6ece58\"], [0.8888888888888888, \"#b5de2b\"], [1.0, \"#fde725\"]], \"type\": \"heatmap\"}], \"heatmapgl\": [{\"colorbar\": {\"outlinewidth\": 1, \"tickcolor\": \"rgb(36,36,36)\", \"ticks\": \"outside\"}, \"colorscale\": [[0.0, \"#440154\"], [0.1111111111111111, \"#482878\"], [0.2222222222222222, \"#3e4989\"], [0.3333333333333333, \"#31688e\"], [0.4444444444444444, \"#26828e\"], [0.5555555555555556, \"#1f9e89\"], [0.6666666666666666, \"#35b779\"], [0.7777777777777778, \"#6ece58\"], [0.8888888888888888, \"#b5de2b\"], [1.0, \"#fde725\"]], \"type\": \"heatmapgl\"}], \"histogram\": [{\"marker\": {\"line\": {\"color\": \"white\", \"width\": 0.6}}, \"type\": \"histogram\"}], \"histogram2d\": [{\"colorbar\": {\"outlinewidth\": 1, \"tickcolor\": \"rgb(36,36,36)\", \"ticks\": \"outside\"}, \"colorscale\": [[0.0, \"#440154\"], [0.1111111111111111, \"#482878\"], [0.2222222222222222, \"#3e4989\"], [0.3333333333333333, \"#31688e\"], [0.4444444444444444, \"#26828e\"], [0.5555555555555556, \"#1f9e89\"], [0.6666666666666666, \"#35b779\"], [0.7777777777777778, \"#6ece58\"], [0.8888888888888888, \"#b5de2b\"], [1.0, \"#fde725\"]], \"type\": \"histogram2d\"}], \"histogram2dcontour\": [{\"colorbar\": {\"outlinewidth\": 1, \"tickcolor\": \"rgb(36,36,36)\", \"ticks\": \"outside\"}, \"colorscale\": [[0.0, \"#440154\"], [0.1111111111111111, \"#482878\"], [0.2222222222222222, \"#3e4989\"], [0.3333333333333333, \"#31688e\"], [0.4444444444444444, \"#26828e\"], [0.5555555555555556, \"#1f9e89\"], [0.6666666666666666, \"#35b779\"], [0.7777777777777778, \"#6ece58\"], [0.8888888888888888, \"#b5de2b\"], [1.0, \"#fde725\"]], \"type\": \"histogram2dcontour\"}], \"mesh3d\": [{\"colorbar\": {\"outlinewidth\": 1, \"tickcolor\": \"rgb(36,36,36)\", \"ticks\": \"outside\"}, \"type\": \"mesh3d\"}], \"parcoords\": [{\"line\": {\"colorbar\": {\"outlinewidth\": 1, \"tickcolor\": \"rgb(36,36,36)\", \"ticks\": \"outside\"}}, \"type\": \"parcoords\"}], \"pie\": [{\"automargin\": true, \"type\": \"pie\"}], \"scatter\": [{\"marker\": {\"colorbar\": {\"outlinewidth\": 1, \"tickcolor\": \"rgb(36,36,36)\", \"ticks\": \"outside\"}}, \"type\": \"scatter\"}], \"scatter3d\": [{\"line\": {\"colorbar\": {\"outlinewidth\": 1, \"tickcolor\": \"rgb(36,36,36)\", \"ticks\": \"outside\"}}, \"marker\": {\"colorbar\": {\"outlinewidth\": 1, \"tickcolor\": \"rgb(36,36,36)\", \"ticks\": \"outside\"}}, \"type\": \"scatter3d\"}], \"scattercarpet\": [{\"marker\": {\"colorbar\": {\"outlinewidth\": 1, \"tickcolor\": \"rgb(36,36,36)\", \"ticks\": \"outside\"}}, \"type\": \"scattercarpet\"}], \"scattergeo\": [{\"marker\": {\"colorbar\": {\"outlinewidth\": 1, \"tickcolor\": \"rgb(36,36,36)\", \"ticks\": \"outside\"}}, \"type\": \"scattergeo\"}], \"scattergl\": [{\"marker\": {\"colorbar\": {\"outlinewidth\": 1, \"tickcolor\": \"rgb(36,36,36)\", \"ticks\": \"outside\"}}, \"type\": \"scattergl\"}], \"scattermapbox\": [{\"marker\": {\"colorbar\": {\"outlinewidth\": 1, \"tickcolor\": \"rgb(36,36,36)\", \"ticks\": \"outside\"}}, \"type\": \"scattermapbox\"}], \"scatterpolar\": [{\"marker\": {\"colorbar\": {\"outlinewidth\": 1, \"tickcolor\": \"rgb(36,36,36)\", \"ticks\": \"outside\"}}, \"type\": \"scatterpolar\"}], \"scatterpolargl\": [{\"marker\": {\"colorbar\": {\"outlinewidth\": 1, \"tickcolor\": \"rgb(36,36,36)\", \"ticks\": \"outside\"}}, \"type\": \"scatterpolargl\"}], \"scatterternary\": [{\"marker\": {\"colorbar\": {\"outlinewidth\": 1, \"tickcolor\": \"rgb(36,36,36)\", \"ticks\": \"outside\"}}, \"type\": \"scatterternary\"}], \"surface\": [{\"colorbar\": {\"outlinewidth\": 1, \"tickcolor\": \"rgb(36,36,36)\", \"ticks\": \"outside\"}, \"colorscale\": [[0.0, \"#440154\"], [0.1111111111111111, \"#482878\"], [0.2222222222222222, \"#3e4989\"], [0.3333333333333333, \"#31688e\"], [0.4444444444444444, \"#26828e\"], [0.5555555555555556, \"#1f9e89\"], [0.6666666666666666, \"#35b779\"], [0.7777777777777778, \"#6ece58\"], [0.8888888888888888, \"#b5de2b\"], [1.0, \"#fde725\"]], \"type\": \"surface\"}], \"table\": [{\"cells\": {\"fill\": {\"color\": \"rgb(237,237,237)\"}, \"line\": {\"color\": \"white\"}}, \"header\": {\"fill\": {\"color\": \"rgb(217,217,217)\"}, \"line\": {\"color\": \"white\"}}, \"type\": \"table\"}]}, \"layout\": {\"annotationdefaults\": {\"arrowhead\": 0, \"arrowwidth\": 1}, \"coloraxis\": {\"colorbar\": {\"outlinewidth\": 1, \"tickcolor\": \"rgb(36,36,36)\", \"ticks\": \"outside\"}}, \"colorscale\": {\"diverging\": [[0.0, \"rgb(103,0,31)\"], [0.1, \"rgb(178,24,43)\"], [0.2, \"rgb(214,96,77)\"], [0.3, \"rgb(244,165,130)\"], [0.4, \"rgb(253,219,199)\"], [0.5, \"rgb(247,247,247)\"], [0.6, \"rgb(209,229,240)\"], [0.7, \"rgb(146,197,222)\"], [0.8, \"rgb(67,147,195)\"], [0.9, \"rgb(33,102,172)\"], [1.0, \"rgb(5,48,97)\"]], \"sequential\": [[0.0, \"#440154\"], [0.1111111111111111, \"#482878\"], [0.2222222222222222, \"#3e4989\"], [0.3333333333333333, \"#31688e\"], [0.4444444444444444, \"#26828e\"], [0.5555555555555556, \"#1f9e89\"], [0.6666666666666666, \"#35b779\"], [0.7777777777777778, \"#6ece58\"], [0.8888888888888888, \"#b5de2b\"], [1.0, \"#fde725\"]], \"sequentialminus\": [[0.0, \"#440154\"], [0.1111111111111111, \"#482878\"], [0.2222222222222222, \"#3e4989\"], [0.3333333333333333, \"#31688e\"], [0.4444444444444444, \"#26828e\"], [0.5555555555555556, \"#1f9e89\"], [0.6666666666666666, \"#35b779\"], [0.7777777777777778, \"#6ece58\"], [0.8888888888888888, \"#b5de2b\"], [1.0, \"#fde725\"]]}, \"colorway\": [\"#1F77B4\", \"#FF7F0E\", \"#2CA02C\", \"#D62728\", \"#9467BD\", \"#8C564B\", \"#E377C2\", \"#7F7F7F\", \"#BCBD22\", \"#17BECF\"], \"font\": {\"color\": \"rgb(36,36,36)\"}, \"geo\": {\"bgcolor\": \"white\", \"lakecolor\": \"white\", \"landcolor\": \"white\", \"showlakes\": true, \"showland\": true, \"subunitcolor\": \"white\"}, \"hoverlabel\": {\"align\": \"left\"}, \"hovermode\": \"closest\", \"legend\": {\"bgcolor\": \"rgba(0,0,0,0)\", \"traceorder\": \"normal\", \"x\": 0, \"y\": 1}, \"mapbox\": {\"style\": \"light\"}, \"margin\": {\"b\": 0, \"l\": 0, \"r\": 0, \"t\": 50}, \"paper_bgcolor\": \"white\", \"plot_bgcolor\": \"white\", \"polar\": {\"angularaxis\": {\"gridcolor\": \"rgb(232,232,232)\", \"linecolor\": \"rgb(36,36,36)\", \"showgrid\": false, \"showline\": true, \"ticks\": \"outside\"}, \"bgcolor\": \"white\", \"radialaxis\": {\"gridcolor\": \"rgb(232,232,232)\", \"linecolor\": \"rgb(36,36,36)\", \"showgrid\": false, \"showline\": true, \"ticks\": \"outside\"}}, \"scene\": {\"xaxis\": {\"backgroundcolor\": \"white\", \"gridcolor\": \"rgb(232,232,232)\", \"gridwidth\": 2, \"linecolor\": \"rgb(36,36,36)\", \"showbackground\": true, \"showgrid\": false, \"showline\": true, \"ticks\": \"outside\", \"zeroline\": false, \"zerolinecolor\": \"rgb(36,36,36)\"}, \"yaxis\": {\"backgroundcolor\": \"white\", \"gridcolor\": \"rgb(232,232,232)\", \"gridwidth\": 2, \"linecolor\": \"rgb(36,36,36)\", \"showbackground\": true, \"showgrid\": false, \"showline\": true, \"ticks\": \"outside\", \"zeroline\": false, \"zerolinecolor\": \"rgb(36,36,36)\"}, \"zaxis\": {\"backgroundcolor\": \"white\", \"gridcolor\": \"rgb(232,232,232)\", \"gridwidth\": 2, \"linecolor\": \"rgb(36,36,36)\", \"showbackground\": true, \"showgrid\": false, \"showline\": true, \"ticks\": \"outside\", \"zeroline\": false, \"zerolinecolor\": \"rgb(36,36,36)\"}}, \"shapedefaults\": {\"fillcolor\": \"black\", \"line\": {\"width\": 0}, \"opacity\": 0.3}, \"ternary\": {\"aaxis\": {\"gridcolor\": \"rgb(232,232,232)\", \"linecolor\": \"rgb(36,36,36)\", \"showgrid\": false, \"showline\": true, \"ticks\": \"outside\"}, \"baxis\": {\"gridcolor\": \"rgb(232,232,232)\", \"linecolor\": \"rgb(36,36,36)\", \"showgrid\": false, \"showline\": true, \"ticks\": \"outside\"}, \"bgcolor\": \"white\", \"caxis\": {\"gridcolor\": \"rgb(232,232,232)\", \"linecolor\": \"rgb(36,36,36)\", \"showgrid\": false, \"showline\": true, \"ticks\": \"outside\"}}, \"title\": {\"x\": 0.5, \"xanchor\": \"center\", \"y\": 0.95, \"yanchor\": \"top\"}, \"xaxis\": {\"automargin\": true, \"gridcolor\": \"rgb(232,232,232)\", \"linecolor\": \"rgb(36,36,36)\", \"showgrid\": false, \"showline\": true, \"ticks\": \"outside\", \"title\": {\"standoff\": 15}, \"zeroline\": false, \"zerolinecolor\": \"rgb(36,36,36)\"}, \"yaxis\": {\"automargin\": true, \"gridcolor\": \"rgb(232,232,232)\", \"linecolor\": \"rgb(36,36,36)\", \"showgrid\": false, \"showline\": true, \"ticks\": \"outside\", \"title\": {\"standoff\": 15}, \"zeroline\": false, \"zerolinecolor\": \"rgb(36,36,36)\"}}}, \"width\": 800, \"xaxis\": {\"title\": {\"text\": \"Delay (fs)\"}}, \"yaxis\": {\"title\": {\"text\": \"Intensity (au)\"}}},                        {\"responsive\": true}                    ).then(function(){\n",
       "                            \n",
       "var gd = document.getElementById('b2ce7afd-0b83-4489-b05b-d70e46edf30d');\n",
       "var x = new MutationObserver(function (mutations, observer) {{\n",
       "        var display = window.getComputedStyle(gd).display;\n",
       "        if (!display || display === 'none') {{\n",
       "            console.log([gd, 'removed!']);\n",
       "            Plotly.purge(gd);\n",
       "            observer.disconnect();\n",
       "        }}\n",
       "}});\n",
       "\n",
       "// Listen for the removal of the full notebook cells\n",
       "var notebookContainer = gd.closest('#notebook-container');\n",
       "if (notebookContainer) {{\n",
       "    x.observe(notebookContainer, {childList: true});\n",
       "}}\n",
       "\n",
       "// Listen for the clearing of the current output cell\n",
       "var outputEl = gd.closest('.output');\n",
       "if (outputEl) {{\n",
       "    x.observe(outputEl, {childList: true});\n",
       "}}\n",
       "\n",
       "                        })                };                });            </script>        </div>"
      ]
     },
     "metadata": {},
     "output_type": "display_data"
    },
    {
     "data": {
      "text/html": [
       "<div>\n",
       "<style scoped>\n",
       "    .dataframe tbody tr th:only-of-type {\n",
       "        vertical-align: middle;\n",
       "    }\n",
       "\n",
       "    .dataframe tbody tr th {\n",
       "        vertical-align: top;\n",
       "    }\n",
       "\n",
       "    .dataframe thead th {\n",
       "        text-align: right;\n",
       "    }\n",
       "</style>\n",
       "<table border=\"1\" class=\"dataframe\">\n",
       "  <thead>\n",
       "    <tr style=\"text-align: right;\">\n",
       "      <th></th>\n",
       "      <th>a</th>\n",
       "      <th>b</th>\n",
       "      <th>t0</th>\n",
       "      <th>sigma</th>\n",
       "    </tr>\n",
       "  </thead>\n",
       "  <tbody>\n",
       "    <tr>\n",
       "      <th>G1_amp</th>\n",
       "      <td>-0.015326</td>\n",
       "      <td>0.052119</td>\n",
       "      <td>0.000000e+00</td>\n",
       "      <td>641.860187</td>\n",
       "    </tr>\n",
       "    <tr>\n",
       "      <th>G2_amp</th>\n",
       "      <td>0.014065</td>\n",
       "      <td>0.000000</td>\n",
       "      <td>4.715472e+02</td>\n",
       "      <td>626.383466</td>\n",
       "    </tr>\n",
       "    <tr>\n",
       "      <th>G3_amp</th>\n",
       "      <td>0.004048</td>\n",
       "      <td>0.000000</td>\n",
       "      <td>4.715533e+02</td>\n",
       "      <td>626.401184</td>\n",
       "    </tr>\n",
       "    <tr>\n",
       "      <th>G4_amp</th>\n",
       "      <td>0.009032</td>\n",
       "      <td>0.000000</td>\n",
       "      <td>2.914224e-08</td>\n",
       "      <td>670.196553</td>\n",
       "    </tr>\n",
       "  </tbody>\n",
       "</table>\n",
       "</div>"
      ],
      "text/plain": [
       "               a         b            t0       sigma\n",
       "G1_amp -0.015326  0.052119  0.000000e+00  641.860187\n",
       "G2_amp  0.014065  0.000000  4.715472e+02  626.383466\n",
       "G3_amp  0.004048  0.000000  4.715533e+02  626.401184\n",
       "G4_amp  0.009032  0.000000  2.914224e-08  670.196553"
      ]
     },
     "metadata": {},
     "output_type": "display_data"
    },
    {
     "data": {
      "application/vnd.jupyter.widget-view+json": {
       "model_id": "2b9ea3b1ebc447868e8a6da27a072cc3",
       "version_major": 2,
       "version_minor": 0
      },
      "text/plain": [
       "Button(description='Copy Fit Parameters', style=ButtonStyle())"
      ]
     },
     "metadata": {},
     "output_type": "display_data"
    }
   ],
   "source": [
    "def func(t,a,b,t0,sigma):\n",
    "    return a*scipy.special.erf((t-t0)/sigma)+a+b\n",
    "\n",
    "def CopyTrends_Clicked(b):\n",
    "    ToCopy = TrendParameters\n",
    "    ToCopy.to_clipboard()\n",
    "\n",
    "Run = importlib.import_module(SelectRun.value.replace('.py',''), package=None)\n",
    "importlib.reload(Run)\n",
    "run = Run.Run()\n",
    "Par = run.Parameters(SelectRegion.value)\n",
    "\n",
    "Parameters2Fit = FitParameters.copy()\n",
    "Parameters2Fit = Parameters2Fit[Parameters2Fit.Delay > min(Par['TrendDelayRange'])]\n",
    "Parameters2Fit = Parameters2Fit[Parameters2Fit.Delay < max(Par['TrendDelayRange'])]\n",
    "\n",
    "FitModel = Model(func)\n",
    "Parameters = FitModel.make_params()\n",
    "\n",
    "Parameters['b'].min = 0\n",
    "Parameters['t0'].min = 0\n",
    "Parameters['sigma'].min = 0\n",
    "\n",
    "TrendParameters = df(index=['a','b','t0','sigma'])\n",
    "x = Parameters2Fit['Delay']\n",
    "fit_x = np.linspace(-2000, 10000, 100)\n",
    "fig = go.Figure()\n",
    "FitsResults = list()\n",
    "Color = px.colors.qualitative.Dark24\n",
    "TrendNames = list()\n",
    "for Name in Parameters2Fit.columns :\n",
    "    if 'amp' in Name :\n",
    "        TrendNames.append(Name)\n",
    "\n",
    "for idx,column in enumerate(TrendNames) :\n",
    "    if column in Par['TrendFits'] :\n",
    "        Parameters['a'].value = Par['TrendFits'][column]['a']\n",
    "        Parameters['b'].value = Par['TrendFits'][column]['b']\n",
    "        Parameters['t0'].value = Par['TrendFits'][column]['t0']\n",
    "        Parameters['sigma'].value = Par['TrendFits'][column]['sigma']\n",
    "    y = Parameters2Fit[column]\n",
    "    FitResults = FitModel.fit(y, Parameters, t=x)\n",
    "    FitsResults.append(FitResults)\n",
    "    fit_y = FitResults.eval(t=fit_x)\n",
    "    Min = min(fit_y)\n",
    "    Max = max(fit_y-Min)\n",
    "    TrendParameters[column] = np.array((FitResults.params['a'].value,FitResults.params['b'].value,FitResults.params['t0'].value,FitResults.params['sigma'].value))\n",
    "    fig.add_trace(go.Scatter(x=FitParameters['Delay'],y=(FitParameters[column]-Min)/Max,mode='markers',name=('Gaussian '+str(idx+1)),line_color=Color[idx]))\n",
    "    fig.add_trace(go.Scatter(x=fit_x,y=(fit_y-Min)/Max,mode='lines',showlegend = False,line_color=Color[idx]))\n",
    "\n",
    "fig.update_layout(xaxis_title='Delay (fs)',yaxis_title='Intensity (au)',font_size=16,legend_title='',width=800,height=500)\n",
    "fig.show()\n",
    "TrendParameters = TrendParameters.T\n",
    "display(TrendParameters)\n",
    "\n",
    "CopyTrends = widgets.Button(description=\"Copy Fit Parameters\")\n",
    "CopyTrends.on_click(CopyTrends_Clicked)\n",
    "display(CopyTrends)"
   ]
  },
  {
   "cell_type": "markdown",
   "metadata": {},
   "source": [
    "<h2>File info</h2>\n",
    "\n",
    "This script fits Fermi data using Gaussian functions. \n",
    "\n",
    "Uses:\n",
    "- lmfit\n",
    "- plotly\n",
    "\n",
    "-----------------------\n",
    "Created by Jerry LaRue, larue@chapman.edu, 9/2018\n",
    "\n",
    "Last modified by Jerry LaRue, larue@chapman.edu, 07/2020"
   ]
  },
  {
   "cell_type": "markdown",
   "metadata": {
    "jupyter": {
     "source_hidden": true
    }
   },
   "source": []
  }
 ],
 "metadata": {
  "kernelspec": {
   "display_name": "Python 3",
   "language": "python",
   "name": "python3"
  },
  "language_info": {
   "codemirror_mode": {
    "name": "ipython",
    "version": 3
   },
   "file_extension": ".py",
   "mimetype": "text/x-python",
   "name": "python",
   "nbconvert_exporter": "python",
   "pygments_lexer": "ipython3",
   "version": "3.8.3"
  }
 },
 "nbformat": 4,
 "nbformat_minor": 4
}
