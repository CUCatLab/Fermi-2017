{
 "cells": [
  {
   "cell_type": "markdown",
   "metadata": {},
   "source": [
    "# Info\n",
    "\n",
    "This script fits Fermi data using Gaussian functions. \n",
    "\n",
    "Uses:\n",
    "- lmfit\n",
    "\n",
    "-----------------------\n",
    "Created by Jerry LaRue, larue@chapman.edu, 9/2018\n",
    "\n",
    "Last modified by Jerry LaRue, larue@chapman.edu, 03/2020"
   ]
  },
  {
   "cell_type": "markdown",
   "metadata": {},
   "source": [
    "# Select Data"
   ]
  },
  {
   "cell_type": "code",
   "execution_count": 1,
   "metadata": {
    "jupyter": {
     "source_hidden": true
    }
   },
   "outputs": [
    {
     "data": {
      "application/vnd.jupyter.widget-view+json": {
       "model_id": "fdbba38229954d74aca7b1c41736dc54",
       "version_major": 2,
       "version_minor": 0
      },
      "text/plain": [
       "Box(children=(Dropdown(description='Select Run', layout=Layout(width='40%'), options=('Fit 1-2 CO-O Hor Pi.py'…"
      ]
     },
     "metadata": {},
     "output_type": "display_data"
    },
    {
     "data": {
      "application/vnd.jupyter.widget-view+json": {
       "model_id": "5884bac4d20a4475bcc0c51e46f037f2",
       "version_major": 2,
       "version_minor": 0
      },
      "text/plain": [
       "Dropdown(description='Select File', layout=Layout(width='50%'), options=('XAS_018_020_bin_50.h5',), style=Desc…"
      ]
     },
     "metadata": {},
     "output_type": "display_data"
    },
    {
     "data": {
      "application/vnd.jupyter.widget-view+json": {
       "model_id": "9aa52b69de2345108fcba046ee42f63b",
       "version_major": 2,
       "version_minor": 0
      },
      "text/plain": [
       "Dropdown(description='Select Run', layout=Layout(width='40%'), options=('Pi Star', 'Middle', 'Shape Resonance'…"
      ]
     },
     "metadata": {},
     "output_type": "display_data"
    },
    {
     "data": {
      "application/vnd.jupyter.widget-view+json": {
       "model_id": "1f6b58fa976f47d2a62ae6e36f3f7f93",
       "version_major": 2,
       "version_minor": 0
      },
      "text/plain": [
       "Checkbox(value=False, description='Fit Background', layout=Layout(width='50%'), style=DescriptionStyle(descrip…"
      ]
     },
     "metadata": {},
     "output_type": "display_data"
    }
   ],
   "source": [
    "import numpy as np\n",
    "from pandas import DataFrame as df\n",
    "import os\n",
    "import matplotlib.pyplot as plt\n",
    "import ipywidgets as widgets\n",
    "from ipywidgets import Button, Layout\n",
    "from IPython.display import clear_output\n",
    "import sys\n",
    "import string\n",
    "from importlib import reload\n",
    "\n",
    "sys.path.insert(0, '../src/')\n",
    "import analysis_tools\n",
    "reload(analysis_tools)\n",
    "\n",
    "##### Button Functions #####\n",
    "\n",
    "def UpdateFiles_Clicked(b):\n",
    "    Fit = __import__(SelectRun.value.replace('.py',''))\n",
    "    reload(Fit)\n",
    "    Par = Fit.Parameters(SelectRegion.value)\n",
    "    SelectFile.options = analysis_tools.FileList(Par['FolderPath'],Par['Runs'])\n",
    "\n",
    "##### Widgets #####\n",
    "\n",
    "SelectRun = widgets.Dropdown(\n",
    "    options = analysis_tools.FileList(os.getcwd(),'.py'),\n",
    "    description = 'Select Run',\n",
    "    layout = Layout(width='40%'),\n",
    "    style = {'description_width': '150px'},\n",
    "    disabled = False,\n",
    ")\n",
    "\n",
    "SelectRegion = widgets.Dropdown(\n",
    "    options = ['Pi Star','Middle','Shape Resonance'],\n",
    "    description = 'Select Run',\n",
    "    layout = Layout(width='40%'),\n",
    "    style = {'description_width': '150px'},\n",
    "    disabled = False,\n",
    ")\n",
    "\n",
    "UpdateFiles = widgets.Button(description=\"Update\",layout = Layout(width='10%'))\n",
    "UpdateFiles.on_click(UpdateFiles_Clicked)\n",
    "\n",
    "Fit = __import__(SelectRun.value.replace('.py',''))\n",
    "reload(Fit)\n",
    "Par = Fit.Parameters(SelectRegion.value)\n",
    "\n",
    "SelectFile = widgets.Dropdown(\n",
    "    options=analysis_tools.FileList(Par['FolderPath'],Par['Runs']),\n",
    "    description='Select File',\n",
    "    layout=Layout(width='50%'),\n",
    "    style = {'description_width': '150px'},\n",
    "    disabled=False,\n",
    ")\n",
    "\n",
    "FitBackground = widgets.Checkbox(\n",
    "    value=False,\n",
    "    description='Fit Background',\n",
    "    layout=Layout(width='50%'),\n",
    "    style = {'description_width': '150px'},\n",
    "    disabled=False\n",
    ")\n",
    "\n",
    "display(widgets.Box([SelectRun,UpdateFiles]))\n",
    "display(SelectFile)\n",
    "display(SelectRegion)\n",
    "display(FitBackground)"
   ]
  },
  {
   "cell_type": "markdown",
   "metadata": {},
   "source": [
    "# Fit Data"
   ]
  },
  {
   "cell_type": "code",
   "execution_count": 13,
   "metadata": {
    "jupyter": {
     "source_hidden": true
    }
   },
   "outputs": [
    {
     "data": {
      "image/png": "[encoded data removed]",
      "text/plain": [
       "<Figure size 360x360 with 1 Axes>"
      ]
     },
     "metadata": {
      "needs_background": "light"
     },
     "output_type": "display_data"
    },
    {
     "data": {
      "image/png": "[encoded data removed]",
      "text/plain": [
       "<Figure size 432x288 with 1 Axes>"
      ]
     },
     "metadata": {
      "needs_background": "light"
     },
     "output_type": "display_data"
    },
    {
     "data": {
      "application/vnd.jupyter.widget-view+json": {
       "model_id": "8d10b04bb372467a9cfcdae08a004595",
       "version_major": 2,
       "version_minor": 0
      },
      "text/plain": [
       "Box(children=(BoundedFloatText(value=286.0, description='ROI Min:', layout=Layout(width='20%'), max=310.0, min…"
      ]
     },
     "metadata": {},
     "output_type": "display_data"
    },
    {
     "data": {
      "application/vnd.jupyter.widget-view+json": {
       "model_id": "3f6a755626ff474d858bc76ac6d10433",
       "version_major": 2,
       "version_minor": 0
      },
      "text/plain": [
       "Box(children=(BoundedFloatText(value=7.0, description='Number of Peaks:', layout=Layout(width='20%'), max=10.0…"
      ]
     },
     "metadata": {},
     "output_type": "display_data"
    },
    {
     "data": {
      "application/vnd.jupyter.widget-view+json": {
       "model_id": "4630d058d0dc464595122f34cf2ca716",
       "version_major": 2,
       "version_minor": 0
      },
      "text/plain": [
       "Checkbox(value=False, description='Normalize Data', layout=Layout(width='50%'), style=DescriptionStyle(descrip…"
      ]
     },
     "metadata": {},
     "output_type": "display_data"
    },
    {
     "data": {
      "application/vnd.jupyter.widget-view+json": {
       "model_id": "24e76250ce744f2a9e267f1079e0d0eb",
       "version_major": 2,
       "version_minor": 0
      },
      "text/plain": [
       "Button(description='Fit Data', style=ButtonStyle())"
      ]
     },
     "metadata": {},
     "output_type": "display_data"
    },
    {
     "data": {
      "application/vnd.jupyter.widget-view+json": {
       "model_id": "d419fec252c54566a71c2626f29985c7",
       "version_major": 2,
       "version_minor": 0
      },
      "text/plain": [
       "Output()"
      ]
     },
     "metadata": {},
     "output_type": "display_data"
    }
   ],
   "source": [
    "import analysis_tools\n",
    "reload(analysis_tools)\n",
    "\n",
    "global Energy, Signal, FitParameters\n",
    "\n",
    "##### Functions #####\n",
    "\n",
    "def CopyParameters() :\n",
    "    global FitParameters\n",
    "    ToCopy = FitParameters\n",
    "    ToCopy.to_clipboard()\n",
    "\n",
    "def CopyData() :\n",
    "    global Energy, Delay, Signal\n",
    "    ToCopy = Energy\n",
    "    ToCopy = np.zeros((Signal.shape[0]+1,len(Energy)))\n",
    "    ToCopy[0] = Energy\n",
    "    i = 0\n",
    "    while i < Signal.shape[0] :\n",
    "        ToCopy[i+1] = Signal[i]\n",
    "        i += 1\n",
    "    ToCopy = np.transpose(ToCopy)\n",
    "    ToCopy = df(data=ToCopy,columns=np.concatenate((['Energy'],Delay)))\n",
    "    ToCopy.to_clipboard()\n",
    "    print(Signal)\n",
    "\n",
    "##### Button Functions #####\n",
    "\n",
    "def ParametersToClipboard_Clicked(b):\n",
    "    CopyParameters()\n",
    "\n",
    "def DataToClipboard_Clicked(b):\n",
    "    CopyData()\n",
    "    \n",
    "def FitData_Clicked(b):\n",
    "    \n",
    "    global Energy, Delay, Signal, FitParameters\n",
    "    \n",
    "    with out:\n",
    "        \n",
    "        clear_output(True)\n",
    "        print('_'*110)\n",
    "        print(\"\")\n",
    "        \n",
    "        Fit = __import__(SelectRun.value.replace('.py',''))\n",
    "        reload(Fit)\n",
    "        Par = Fit.Parameters(SelectRegion.value)\n",
    "        \n",
    "        ##### Prepare data #####\n",
    "\n",
    "        Energy, Signal, Delay, ErrorBars = analysis_tools.ImportData(Par['FolderPath'],SelectFile.value)\n",
    "        ScalingFactor = Par['ScalingFactor']\n",
    "        if ScalingFactor != 1 :\n",
    "            print('Warning, data is being scaled by '+str(ScalingFactor))\n",
    "        Signal = Signal * ScalingFactor\n",
    "        ErrorBars = ErrorBars * ScalingFactor\n",
    "        Energy = Energy + Par['xOffset']\n",
    "        if Par['BackgroundRun'] != 'None' :\n",
    "            Background_Energy, Background, Background_Delay, Background_ErrorBars = analysis_tools.ImportData(Par['FolderPath'],Par['BackgroundRun'])\n",
    "            Background_Energy = Background_Energy + Par['xOffset']\n",
    "        NormROI_Min, NormROI_Max = Par['NormROI']\n",
    "        if NormalizeData.value == True :\n",
    "            Energy, Signal = analysis_tools.Normalize(Energy,Signal,Par['NormROI'][0], Par['NormROI'][1])\n",
    "            if Par['BackgroundRun'] != 'None' :\n",
    "                Background_Energy, Background = analysis_tools.Normalize(Background_Energy,Background,Par['NormROI'][0], Par['NormROI'][1])\n",
    "        Energy, Signal, Delay, ErrorBars = analysis_tools.TrimData(Energy,Signal,Delay,ErrorBars,ROI_Min.value,ROI_Max.value)\n",
    "        if Par['BackgroundRun'] != 'None' :\n",
    "            if FitBackground.value == 'Fit' :\n",
    "                Signal = analysis_tools.SubtractBackground(Energy,Signal,Background_Energy,Background_Fit,ROI_Min.value,ROI_Max.value)\n",
    "            else :\n",
    "                Signal = analysis_tools.SubtractBackground(Energy,Signal,Background_Energy,Background,ROI_Min.value,ROI_Max.value)\n",
    "\n",
    "        ##### Plot all data #####\n",
    "\n",
    "        plt.figure(figsize = [12,6])\n",
    "        i = 0\n",
    "        while i < len(Signal) :\n",
    "            plt.plot(Energy,Signal[i],'-o', ms=3, lw=1,label=(str(round(Delay[i]*1e-3,2))+' ps'))\n",
    "            i+= 1\n",
    "#         plt.plot((287.3,287.3),(0,max(y)),'k:',label='CO Gas Phase')\n",
    "        plt.legend(frameon=False, loc='upper center', bbox_to_anchor=(1.2, 1), ncol=1)\n",
    "        plt.show()\n",
    "        \n",
    "        if NumberPeaks.value != 0 or NumRefPeaks.value != 0 :\n",
    "\n",
    "            print('_'*110)\n",
    "\n",
    "            Fits, FitParameters, Fit_Energy, Fit_Signal = Fit.FitData(Energy,Delay,Signal,ErrorBars,SelectRegion.value,NumberPeaks.value,NumRefPeaks.value)\n",
    "\n",
    "            analysis_tools.PlotAnalysis('amp',FitParameters,Fits.ParameterNames)\n",
    "            analysis_tools.PlotAnalysis('ω',FitParameters,Fits.ParameterNames)\n",
    "            analysis_tools.PlotAnalysis('σ',FitParameters,Fits.ParameterNames)\n",
    "            analysis_tools.PlotDataAndFits(Energy, Signal, Fit_Energy, Fit_Signal, Delay)\n",
    "\n",
    "            ParametersToClipboard = widgets.Button(description=\"Copy parameters\")\n",
    "            ParametersToClipboard.on_click(ParametersToClipboard_Clicked)\n",
    "        \n",
    "            DataToClipboard = widgets.Button(description=\"Copy data\")\n",
    "            DataToClipboard.on_click(DataToClipboard_Clicked)\n",
    "            display(widgets.Box([DataToClipboard,ParametersToClipboard]))\n",
    "        \n",
    "        else :\n",
    "            DataToClipboard = widgets.Button(description=\"Copy data\")\n",
    "            DataToClipboard.on_click(DataToClipboard_Clicked)\n",
    "            display(DataToClipboard)\n",
    "\n",
    "##### Parameters #####\n",
    "\n",
    "Fit = __import__(SelectRun.value.replace('.py',''))\n",
    "reload(Fit)\n",
    "Par = Fit.Parameters(SelectRegion.value)\n",
    "\n",
    "Energy, Signal, Delay, ErrorBars = analysis_tools.ImportData(Par['FolderPath'],SelectFile.value)\n",
    "Energy = Energy + Par['xOffset']\n",
    "\n",
    "##### Plot Data #####\n",
    "\n",
    "plt.figure(figsize = [5,5])\n",
    "plt.pcolor(Energy, Delay*1e-3, Signal)\n",
    "plt.xlabel('X-ray Energy (eV)')\n",
    "plt.ylabel('Delay (ps)')\n",
    "plt.title(SelectFile.value)\n",
    "plt.show()\n",
    "\n",
    "if Par['BackgroundRun'] != 'None' :\n",
    "    \n",
    "    Background_Energy, Background, Background_Delay, Background_ErrorBars = analysis_tools.ImportData(Par['FolderPath'],Par['BackgroundRun'])\n",
    "    Background_Energy = Background_Energy + Par['xOffset']\n",
    "\n",
    "    # Check data structure\n",
    "    \n",
    "    if Background.shape[0] != 1 :\n",
    "        raise HaltException('Background data exceeds allowed dimensions')\n",
    "    \n",
    "    ##### Plot background data #####\n",
    "    \n",
    "    x = Background_Energy\n",
    "    y = Background[0]\n",
    "    err = Background_ErrorBars[0]\n",
    "    plt.plot(x, y,'r.', label='data')\n",
    "    plt.errorbar(x, y, yerr=err, fmt='o')\n",
    "    plt.xlabel('Photon Energy (eV)'), plt.ylabel('Intensity (au)')\n",
    "    plt.title('Background: '+Par['BackgroundRun'])\n",
    "    \n",
    "    ##### Fit positive delay data #####\n",
    "    \n",
    "    if FitBackground.value == True :\n",
    "        Model = PolynomialModel(4)\n",
    "        Params = Model.make_params(c0=55, c1=-0.4,\n",
    "                                c2=0.001, c3=0.001, c4=0.01,c5=0.01)\n",
    "        Fit = Model.fit(y, Params, x=x)\n",
    "        Comps = Fit.eval_components(Fit.params, x=x)\n",
    "        Background_Fit = Comps['polynomial']\n",
    "        plt.plot(x, Comps['polynomial'], 'k--', label='Baseline')\n",
    "\n",
    "    plt.show()\n",
    "\n",
    "##### Widgets #####\n",
    "\n",
    "ROI_Min = widgets.BoundedFloatText(\n",
    "    value=Par['ROI'][0],\n",
    "    min=280,\n",
    "    max=310,\n",
    "    step=0.1,\n",
    "    description='ROI Min:',\n",
    "    layout=Layout(width='20%'),\n",
    "    style = {'description_width': '130px'},\n",
    "    disabled=False\n",
    ")\n",
    "\n",
    "ROI_Max = widgets.BoundedFloatText(\n",
    "    value=Par['ROI'][1],\n",
    "    min=280,\n",
    "    max=310,\n",
    "    step=0.1,\n",
    "    description='ROI Max:',\n",
    "    layout=Layout(width='24%'),\n",
    "    style = {'description_width': '170px'},\n",
    "    disabled=False\n",
    ")\n",
    "\n",
    "NumberPeaks = widgets.BoundedFloatText(\n",
    "    value=int(Par['NumPeaks']),\n",
    "    min=0,\n",
    "    max=10,\n",
    "    step=1,\n",
    "    description='Number of Peaks:',\n",
    "    layout=Layout(width='20%'),\n",
    "    style = {'description_width': '130px'},\n",
    "    disabled=False\n",
    ")\n",
    "\n",
    "NumRefPeaks = widgets.BoundedFloatText(\n",
    "    value=int(Par['NumRefPeaks']),\n",
    "    min=0,\n",
    "    max=2,\n",
    "    step=1,\n",
    "    description='Number of Reference Peaks:',\n",
    "    layout=Layout(width='24%'),\n",
    "    style = {'description_width': '170px'},\n",
    "    disabled=False\n",
    ")\n",
    "\n",
    "NormalizeData = widgets.Checkbox(\n",
    "    value=False,\n",
    "    description='Normalize Data',\n",
    "    layout=Layout(width='50%'),\n",
    "    style = {'description_width': '130px'},\n",
    "    disabled=False\n",
    ")\n",
    "\n",
    "display(widgets.Box([ROI_Min,ROI_Max]))\n",
    "display(widgets.Box([NumberPeaks,NumRefPeaks]))\n",
    "display(NormalizeData)\n",
    "\n",
    "##### Fit data #####\n",
    "\n",
    "FitData = widgets.Button(description=\"Fit Data\")\n",
    "FitData.on_click(FitData_Clicked)\n",
    "display(FitData)\n",
    "\n",
    "out = widgets.Output()\n",
    "out"
   ]
  },
  {
   "cell_type": "code",
   "execution_count": null,
   "metadata": {
    "jupyter": {
     "source_hidden": true
    }
   },
   "outputs": [],
   "source": []
  }
 ],
 "metadata": {
  "kernelspec": {
   "display_name": "Python 3",
   "language": "python",
   "name": "python3"
  },
  "language_info": {
   "codemirror_mode": {
    "name": "ipython",
    "version": 3
   },
   "file_extension": ".py",
   "mimetype": "text/x-python",
   "name": "python",
   "nbconvert_exporter": "python",
   "pygments_lexer": "ipython3",
   "version": "3.7.4"
  }
 },
 "nbformat": 4,
 "nbformat_minor": 4
}
